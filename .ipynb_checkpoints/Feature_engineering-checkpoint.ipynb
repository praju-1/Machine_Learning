{
 "cells": [
  {
   "cell_type": "code",
   "execution_count": null,
   "metadata": {},
   "outputs": [],
   "source": []
  }
 ],
 "metadata": {
  "kernelspec": {
   "display_name": "Python 3",
   "language": "python",
   "name": "python3"
  },
  "language_info": {
   "name": "python",
   "version": "3.11.1"
  },
  "vscode": {
   "interpreter": {
    "hash": "08701446807629d26718c2f25fc1113a8f28424cd5bc34fc9d7814024496b43f"
   }
  }
 },
 "nbformat": 4,
 "nbformat_minor": 5
}
