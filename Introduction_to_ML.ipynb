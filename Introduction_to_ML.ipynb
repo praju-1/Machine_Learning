{
 "cells": [
  {
   "cell_type": "markdown",
   "id": "a517273f",
   "metadata": {},
   "source": [
    "# Introduction"
   ]
  },
  {
   "cell_type": "markdown",
   "id": "162ba136",
   "metadata": {},
   "source": [
    "- Machine learning uses various algorithms for building mathematical models and making predictions using historical data or information"
   ]
  },
  {
   "cell_type": "markdown",
   "id": "cec5c5ab",
   "metadata": {},
   "source": [
    "-  Currently, it is being used for various tasks such as image recognition, speech recognition, email filtering, Facebook auto-tagging, recommender system, and many more."
   ]
  },
  {
   "cell_type": "markdown",
   "id": "290f7e32",
   "metadata": {},
   "source": [
    "# Features of Machine Learning"
   ]
  },
  {
   "cell_type": "markdown",
   "id": "e976c4f5",
   "metadata": {},
   "source": [
    "- Machine learning uses data to detect various patterns in a given dataset.\n",
    "- It can learn from past data and improve automatically.\n",
    "- It is a data-driven technology.\n",
    "- Machine learning is much similar to data mining as it also deals with the huge amount of the data.-"
   ]
  },
  {
   "cell_type": "markdown",
   "id": "16eefd50",
   "metadata": {},
   "source": [
    "# Classification of Machine Learning"
   ]
  },
  {
   "cell_type": "markdown",
   "id": "aaa3af50",
   "metadata": {},
   "source": [
    "- Machine learning can be classified into three types:"
   ]
  },
  {
   "cell_type": "markdown",
   "id": "7c4ec546",
   "metadata": {},
   "source": [
    "1. Supervised learning\n",
    "2. Unsupervised learning\n",
    "3. Reinforcement learning"
   ]
  },
  {
   "cell_type": "markdown",
   "id": "39152117",
   "metadata": {},
   "source": [
    "# 1. Supervised learning"
   ]
  },
  {
   "cell_type": "markdown",
   "id": "a9782337",
   "metadata": {},
   "source": [
    "- Supervised learning is a type of machine learning method in which we provide sample labeled data to the machine learning system in order to train it, and on that basis, it predicts the output."
   ]
  },
  {
   "cell_type": "markdown",
   "id": "0e8df344",
   "metadata": {},
   "source": [
    "- The goal of supervised learning is to map input data with the output data. "
   ]
  },
  {
   "cell_type": "markdown",
   "id": "de6ec7ed",
   "metadata": {},
   "source": [
    "- Supervised learning can be grouped further in two categories of algorithms:"
   ]
  },
  {
   "cell_type": "markdown",
   "id": "ce8d109a",
   "metadata": {},
   "source": [
    "1. Regression\n",
    "2. Classification"
   ]
  },
  {
   "cell_type": "markdown",
   "id": "0e25929f",
   "metadata": {},
   "source": [
    "# 2. Unsupervised learning"
   ]
  },
  {
   "cell_type": "markdown",
   "id": "d7af1c96",
   "metadata": {},
   "source": [
    "- Unsupervised learning is a learning method in which a machine learns without any supervision."
   ]
  },
  {
   "cell_type": "markdown",
   "id": "efb8edb1",
   "metadata": {},
   "source": [
    "- In unsupervised learning, we don't have a predetermined result(OUTPUT). The machine tries to find useful insights from the huge amount of data."
   ]
  },
  {
   "cell_type": "markdown",
   "id": "7386f274",
   "metadata": {},
   "source": [
    "-  It can be further classifieds into two categories of algorithms"
   ]
  },
  {
   "cell_type": "markdown",
   "id": "5d895d59",
   "metadata": {},
   "source": [
    "1. Clustering\n",
    "2. Association"
   ]
  },
  {
   "cell_type": "markdown",
   "id": "4329c8ae",
   "metadata": {},
   "source": [
    "# 3. Reinforcement learning"
   ]
  },
  {
   "cell_type": "markdown",
   "id": "32eb8b09",
   "metadata": {},
   "source": [
    "-Reinforcement learning is a feedback-based learning method, in which a learning agent gets a reward for each right action and gets a penalty for each wrong action. \n",
    "-The agent learns automatically with these feedbacks and improves its performance."
   ]
  }
 ],
 "metadata": {
  "kernelspec": {
   "display_name": "Python 3 (ipykernel)",
   "language": "python",
   "name": "python3"
  },
  "language_info": {
   "codemirror_mode": {
    "name": "ipython",
    "version": 3
   },
   "file_extension": ".py",
   "mimetype": "text/x-python",
   "name": "python",
   "nbconvert_exporter": "python",
   "pygments_lexer": "ipython3",
   "version": "3.9.12"
  }
 },
 "nbformat": 4,
 "nbformat_minor": 5
}
