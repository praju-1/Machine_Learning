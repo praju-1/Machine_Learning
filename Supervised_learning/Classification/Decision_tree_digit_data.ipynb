{
 "cells": [
  {
   "cell_type": "code",
   "execution_count": 115,
   "id": "4748601e",
   "metadata": {},
   "outputs": [],
   "source": [
    "import pandas as pd\n",
    "import numpy as np\n",
    "import matplotlib.pyplot as plt\n",
    "from sklearn.linear_model import LogisticRegression\n",
    "from sklearn.metrics import confusion_matrix"
   ]
  },
  {
   "cell_type": "code",
   "execution_count": 116,
   "id": "8c9c7b55",
   "metadata": {},
   "outputs": [],
   "source": [
    "from sklearn.datasets import load_digits"
   ]
  },
  {
   "cell_type": "code",
   "execution_count": 117,
   "id": "0209bd8a",
   "metadata": {},
   "outputs": [],
   "source": [
    "digits = load_digits()"
   ]
  },
  {
   "cell_type": "code",
   "execution_count": 118,
   "id": "3f5cb0fe",
   "metadata": {},
   "outputs": [],
   "source": [
    "df = pd.DataFrame(digits.data, columns = digits.feature_names)"
   ]
  },
  {
   "cell_type": "code",
   "execution_count": 119,
   "id": "b37917d2",
   "metadata": {},
   "outputs": [
    {
     "data": {
      "text/html": [
       "<div>\n",
       "<style scoped>\n",
       "    .dataframe tbody tr th:only-of-type {\n",
       "        vertical-align: middle;\n",
       "    }\n",
       "\n",
       "    .dataframe tbody tr th {\n",
       "        vertical-align: top;\n",
       "    }\n",
       "\n",
       "    .dataframe thead th {\n",
       "        text-align: right;\n",
       "    }\n",
       "</style>\n",
       "<table border=\"1\" class=\"dataframe\">\n",
       "  <thead>\n",
       "    <tr style=\"text-align: right;\">\n",
       "      <th></th>\n",
       "      <th>pixel_0_0</th>\n",
       "      <th>pixel_0_1</th>\n",
       "      <th>pixel_0_2</th>\n",
       "      <th>pixel_0_3</th>\n",
       "      <th>pixel_0_4</th>\n",
       "      <th>pixel_0_5</th>\n",
       "      <th>pixel_0_6</th>\n",
       "      <th>pixel_0_7</th>\n",
       "      <th>pixel_1_0</th>\n",
       "      <th>pixel_1_1</th>\n",
       "      <th>...</th>\n",
       "      <th>pixel_6_6</th>\n",
       "      <th>pixel_6_7</th>\n",
       "      <th>pixel_7_0</th>\n",
       "      <th>pixel_7_1</th>\n",
       "      <th>pixel_7_2</th>\n",
       "      <th>pixel_7_3</th>\n",
       "      <th>pixel_7_4</th>\n",
       "      <th>pixel_7_5</th>\n",
       "      <th>pixel_7_6</th>\n",
       "      <th>pixel_7_7</th>\n",
       "    </tr>\n",
       "  </thead>\n",
       "  <tbody>\n",
       "    <tr>\n",
       "      <th>0</th>\n",
       "      <td>0.0</td>\n",
       "      <td>0.0</td>\n",
       "      <td>5.0</td>\n",
       "      <td>13.0</td>\n",
       "      <td>9.0</td>\n",
       "      <td>1.0</td>\n",
       "      <td>0.0</td>\n",
       "      <td>0.0</td>\n",
       "      <td>0.0</td>\n",
       "      <td>0.0</td>\n",
       "      <td>...</td>\n",
       "      <td>0.0</td>\n",
       "      <td>0.0</td>\n",
       "      <td>0.0</td>\n",
       "      <td>0.0</td>\n",
       "      <td>6.0</td>\n",
       "      <td>13.0</td>\n",
       "      <td>10.0</td>\n",
       "      <td>0.0</td>\n",
       "      <td>0.0</td>\n",
       "      <td>0.0</td>\n",
       "    </tr>\n",
       "    <tr>\n",
       "      <th>1</th>\n",
       "      <td>0.0</td>\n",
       "      <td>0.0</td>\n",
       "      <td>0.0</td>\n",
       "      <td>12.0</td>\n",
       "      <td>13.0</td>\n",
       "      <td>5.0</td>\n",
       "      <td>0.0</td>\n",
       "      <td>0.0</td>\n",
       "      <td>0.0</td>\n",
       "      <td>0.0</td>\n",
       "      <td>...</td>\n",
       "      <td>0.0</td>\n",
       "      <td>0.0</td>\n",
       "      <td>0.0</td>\n",
       "      <td>0.0</td>\n",
       "      <td>0.0</td>\n",
       "      <td>11.0</td>\n",
       "      <td>16.0</td>\n",
       "      <td>10.0</td>\n",
       "      <td>0.0</td>\n",
       "      <td>0.0</td>\n",
       "    </tr>\n",
       "    <tr>\n",
       "      <th>2</th>\n",
       "      <td>0.0</td>\n",
       "      <td>0.0</td>\n",
       "      <td>0.0</td>\n",
       "      <td>4.0</td>\n",
       "      <td>15.0</td>\n",
       "      <td>12.0</td>\n",
       "      <td>0.0</td>\n",
       "      <td>0.0</td>\n",
       "      <td>0.0</td>\n",
       "      <td>0.0</td>\n",
       "      <td>...</td>\n",
       "      <td>5.0</td>\n",
       "      <td>0.0</td>\n",
       "      <td>0.0</td>\n",
       "      <td>0.0</td>\n",
       "      <td>0.0</td>\n",
       "      <td>3.0</td>\n",
       "      <td>11.0</td>\n",
       "      <td>16.0</td>\n",
       "      <td>9.0</td>\n",
       "      <td>0.0</td>\n",
       "    </tr>\n",
       "    <tr>\n",
       "      <th>3</th>\n",
       "      <td>0.0</td>\n",
       "      <td>0.0</td>\n",
       "      <td>7.0</td>\n",
       "      <td>15.0</td>\n",
       "      <td>13.0</td>\n",
       "      <td>1.0</td>\n",
       "      <td>0.0</td>\n",
       "      <td>0.0</td>\n",
       "      <td>0.0</td>\n",
       "      <td>8.0</td>\n",
       "      <td>...</td>\n",
       "      <td>9.0</td>\n",
       "      <td>0.0</td>\n",
       "      <td>0.0</td>\n",
       "      <td>0.0</td>\n",
       "      <td>7.0</td>\n",
       "      <td>13.0</td>\n",
       "      <td>13.0</td>\n",
       "      <td>9.0</td>\n",
       "      <td>0.0</td>\n",
       "      <td>0.0</td>\n",
       "    </tr>\n",
       "    <tr>\n",
       "      <th>4</th>\n",
       "      <td>0.0</td>\n",
       "      <td>0.0</td>\n",
       "      <td>0.0</td>\n",
       "      <td>1.0</td>\n",
       "      <td>11.0</td>\n",
       "      <td>0.0</td>\n",
       "      <td>0.0</td>\n",
       "      <td>0.0</td>\n",
       "      <td>0.0</td>\n",
       "      <td>0.0</td>\n",
       "      <td>...</td>\n",
       "      <td>0.0</td>\n",
       "      <td>0.0</td>\n",
       "      <td>0.0</td>\n",
       "      <td>0.0</td>\n",
       "      <td>0.0</td>\n",
       "      <td>2.0</td>\n",
       "      <td>16.0</td>\n",
       "      <td>4.0</td>\n",
       "      <td>0.0</td>\n",
       "      <td>0.0</td>\n",
       "    </tr>\n",
       "  </tbody>\n",
       "</table>\n",
       "<p>5 rows × 64 columns</p>\n",
       "</div>"
      ],
      "text/plain": [
       "   pixel_0_0  pixel_0_1  pixel_0_2  pixel_0_3  pixel_0_4  pixel_0_5  \\\n",
       "0        0.0        0.0        5.0       13.0        9.0        1.0   \n",
       "1        0.0        0.0        0.0       12.0       13.0        5.0   \n",
       "2        0.0        0.0        0.0        4.0       15.0       12.0   \n",
       "3        0.0        0.0        7.0       15.0       13.0        1.0   \n",
       "4        0.0        0.0        0.0        1.0       11.0        0.0   \n",
       "\n",
       "   pixel_0_6  pixel_0_7  pixel_1_0  pixel_1_1  ...  pixel_6_6  pixel_6_7  \\\n",
       "0        0.0        0.0        0.0        0.0  ...        0.0        0.0   \n",
       "1        0.0        0.0        0.0        0.0  ...        0.0        0.0   \n",
       "2        0.0        0.0        0.0        0.0  ...        5.0        0.0   \n",
       "3        0.0        0.0        0.0        8.0  ...        9.0        0.0   \n",
       "4        0.0        0.0        0.0        0.0  ...        0.0        0.0   \n",
       "\n",
       "   pixel_7_0  pixel_7_1  pixel_7_2  pixel_7_3  pixel_7_4  pixel_7_5  \\\n",
       "0        0.0        0.0        6.0       13.0       10.0        0.0   \n",
       "1        0.0        0.0        0.0       11.0       16.0       10.0   \n",
       "2        0.0        0.0        0.0        3.0       11.0       16.0   \n",
       "3        0.0        0.0        7.0       13.0       13.0        9.0   \n",
       "4        0.0        0.0        0.0        2.0       16.0        4.0   \n",
       "\n",
       "   pixel_7_6  pixel_7_7  \n",
       "0        0.0        0.0  \n",
       "1        0.0        0.0  \n",
       "2        9.0        0.0  \n",
       "3        0.0        0.0  \n",
       "4        0.0        0.0  \n",
       "\n",
       "[5 rows x 64 columns]"
      ]
     },
     "execution_count": 119,
     "metadata": {},
     "output_type": "execute_result"
    }
   ],
   "source": [
    "df.head()"
   ]
  },
  {
   "cell_type": "code",
   "execution_count": 120,
   "id": "548b2f54",
   "metadata": {},
   "outputs": [],
   "source": [
    "s = digits.images[0]"
   ]
  },
  {
   "cell_type": "code",
   "execution_count": 121,
   "id": "ec34cea6",
   "metadata": {},
   "outputs": [
    {
     "data": {
      "text/plain": [
       "array([[ 0.,  0.,  5., 13.,  9.,  1.,  0.,  0.],\n",
       "       [ 0.,  0., 13., 15., 10., 15.,  5.,  0.],\n",
       "       [ 0.,  3., 15.,  2.,  0., 11.,  8.,  0.],\n",
       "       [ 0.,  4., 12.,  0.,  0.,  8.,  8.,  0.],\n",
       "       [ 0.,  5.,  8.,  0.,  0.,  9.,  8.,  0.],\n",
       "       [ 0.,  4., 11.,  0.,  1., 12.,  7.,  0.],\n",
       "       [ 0.,  2., 14.,  5., 10., 12.,  0.,  0.],\n",
       "       [ 0.,  0.,  6., 13., 10.,  0.,  0.,  0.]])"
      ]
     },
     "execution_count": 121,
     "metadata": {},
     "output_type": "execute_result"
    }
   ],
   "source": [
    "s"
   ]
  },
  {
   "cell_type": "code",
   "execution_count": 122,
   "id": "1a6c48e5",
   "metadata": {},
   "outputs": [],
   "source": [
    "df['target'] = digits.target"
   ]
  },
  {
   "cell_type": "code",
   "execution_count": 123,
   "id": "185905d8",
   "metadata": {},
   "outputs": [
    {
     "data": {
      "text/html": [
       "<div>\n",
       "<style scoped>\n",
       "    .dataframe tbody tr th:only-of-type {\n",
       "        vertical-align: middle;\n",
       "    }\n",
       "\n",
       "    .dataframe tbody tr th {\n",
       "        vertical-align: top;\n",
       "    }\n",
       "\n",
       "    .dataframe thead th {\n",
       "        text-align: right;\n",
       "    }\n",
       "</style>\n",
       "<table border=\"1\" class=\"dataframe\">\n",
       "  <thead>\n",
       "    <tr style=\"text-align: right;\">\n",
       "      <th></th>\n",
       "      <th>pixel_0_0</th>\n",
       "      <th>pixel_0_1</th>\n",
       "      <th>pixel_0_2</th>\n",
       "      <th>pixel_0_3</th>\n",
       "      <th>pixel_0_4</th>\n",
       "      <th>pixel_0_5</th>\n",
       "      <th>pixel_0_6</th>\n",
       "      <th>pixel_0_7</th>\n",
       "      <th>pixel_1_0</th>\n",
       "      <th>pixel_1_1</th>\n",
       "      <th>...</th>\n",
       "      <th>pixel_6_7</th>\n",
       "      <th>pixel_7_0</th>\n",
       "      <th>pixel_7_1</th>\n",
       "      <th>pixel_7_2</th>\n",
       "      <th>pixel_7_3</th>\n",
       "      <th>pixel_7_4</th>\n",
       "      <th>pixel_7_5</th>\n",
       "      <th>pixel_7_6</th>\n",
       "      <th>pixel_7_7</th>\n",
       "      <th>target</th>\n",
       "    </tr>\n",
       "  </thead>\n",
       "  <tbody>\n",
       "    <tr>\n",
       "      <th>0</th>\n",
       "      <td>0.0</td>\n",
       "      <td>0.0</td>\n",
       "      <td>5.0</td>\n",
       "      <td>13.0</td>\n",
       "      <td>9.0</td>\n",
       "      <td>1.0</td>\n",
       "      <td>0.0</td>\n",
       "      <td>0.0</td>\n",
       "      <td>0.0</td>\n",
       "      <td>0.0</td>\n",
       "      <td>...</td>\n",
       "      <td>0.0</td>\n",
       "      <td>0.0</td>\n",
       "      <td>0.0</td>\n",
       "      <td>6.0</td>\n",
       "      <td>13.0</td>\n",
       "      <td>10.0</td>\n",
       "      <td>0.0</td>\n",
       "      <td>0.0</td>\n",
       "      <td>0.0</td>\n",
       "      <td>0</td>\n",
       "    </tr>\n",
       "    <tr>\n",
       "      <th>1</th>\n",
       "      <td>0.0</td>\n",
       "      <td>0.0</td>\n",
       "      <td>0.0</td>\n",
       "      <td>12.0</td>\n",
       "      <td>13.0</td>\n",
       "      <td>5.0</td>\n",
       "      <td>0.0</td>\n",
       "      <td>0.0</td>\n",
       "      <td>0.0</td>\n",
       "      <td>0.0</td>\n",
       "      <td>...</td>\n",
       "      <td>0.0</td>\n",
       "      <td>0.0</td>\n",
       "      <td>0.0</td>\n",
       "      <td>0.0</td>\n",
       "      <td>11.0</td>\n",
       "      <td>16.0</td>\n",
       "      <td>10.0</td>\n",
       "      <td>0.0</td>\n",
       "      <td>0.0</td>\n",
       "      <td>1</td>\n",
       "    </tr>\n",
       "    <tr>\n",
       "      <th>2</th>\n",
       "      <td>0.0</td>\n",
       "      <td>0.0</td>\n",
       "      <td>0.0</td>\n",
       "      <td>4.0</td>\n",
       "      <td>15.0</td>\n",
       "      <td>12.0</td>\n",
       "      <td>0.0</td>\n",
       "      <td>0.0</td>\n",
       "      <td>0.0</td>\n",
       "      <td>0.0</td>\n",
       "      <td>...</td>\n",
       "      <td>0.0</td>\n",
       "      <td>0.0</td>\n",
       "      <td>0.0</td>\n",
       "      <td>0.0</td>\n",
       "      <td>3.0</td>\n",
       "      <td>11.0</td>\n",
       "      <td>16.0</td>\n",
       "      <td>9.0</td>\n",
       "      <td>0.0</td>\n",
       "      <td>2</td>\n",
       "    </tr>\n",
       "    <tr>\n",
       "      <th>3</th>\n",
       "      <td>0.0</td>\n",
       "      <td>0.0</td>\n",
       "      <td>7.0</td>\n",
       "      <td>15.0</td>\n",
       "      <td>13.0</td>\n",
       "      <td>1.0</td>\n",
       "      <td>0.0</td>\n",
       "      <td>0.0</td>\n",
       "      <td>0.0</td>\n",
       "      <td>8.0</td>\n",
       "      <td>...</td>\n",
       "      <td>0.0</td>\n",
       "      <td>0.0</td>\n",
       "      <td>0.0</td>\n",
       "      <td>7.0</td>\n",
       "      <td>13.0</td>\n",
       "      <td>13.0</td>\n",
       "      <td>9.0</td>\n",
       "      <td>0.0</td>\n",
       "      <td>0.0</td>\n",
       "      <td>3</td>\n",
       "    </tr>\n",
       "    <tr>\n",
       "      <th>4</th>\n",
       "      <td>0.0</td>\n",
       "      <td>0.0</td>\n",
       "      <td>0.0</td>\n",
       "      <td>1.0</td>\n",
       "      <td>11.0</td>\n",
       "      <td>0.0</td>\n",
       "      <td>0.0</td>\n",
       "      <td>0.0</td>\n",
       "      <td>0.0</td>\n",
       "      <td>0.0</td>\n",
       "      <td>...</td>\n",
       "      <td>0.0</td>\n",
       "      <td>0.0</td>\n",
       "      <td>0.0</td>\n",
       "      <td>0.0</td>\n",
       "      <td>2.0</td>\n",
       "      <td>16.0</td>\n",
       "      <td>4.0</td>\n",
       "      <td>0.0</td>\n",
       "      <td>0.0</td>\n",
       "      <td>4</td>\n",
       "    </tr>\n",
       "  </tbody>\n",
       "</table>\n",
       "<p>5 rows × 65 columns</p>\n",
       "</div>"
      ],
      "text/plain": [
       "   pixel_0_0  pixel_0_1  pixel_0_2  pixel_0_3  pixel_0_4  pixel_0_5  \\\n",
       "0        0.0        0.0        5.0       13.0        9.0        1.0   \n",
       "1        0.0        0.0        0.0       12.0       13.0        5.0   \n",
       "2        0.0        0.0        0.0        4.0       15.0       12.0   \n",
       "3        0.0        0.0        7.0       15.0       13.0        1.0   \n",
       "4        0.0        0.0        0.0        1.0       11.0        0.0   \n",
       "\n",
       "   pixel_0_6  pixel_0_7  pixel_1_0  pixel_1_1  ...  pixel_6_7  pixel_7_0  \\\n",
       "0        0.0        0.0        0.0        0.0  ...        0.0        0.0   \n",
       "1        0.0        0.0        0.0        0.0  ...        0.0        0.0   \n",
       "2        0.0        0.0        0.0        0.0  ...        0.0        0.0   \n",
       "3        0.0        0.0        0.0        8.0  ...        0.0        0.0   \n",
       "4        0.0        0.0        0.0        0.0  ...        0.0        0.0   \n",
       "\n",
       "   pixel_7_1  pixel_7_2  pixel_7_3  pixel_7_4  pixel_7_5  pixel_7_6  \\\n",
       "0        0.0        6.0       13.0       10.0        0.0        0.0   \n",
       "1        0.0        0.0       11.0       16.0       10.0        0.0   \n",
       "2        0.0        0.0        3.0       11.0       16.0        9.0   \n",
       "3        0.0        7.0       13.0       13.0        9.0        0.0   \n",
       "4        0.0        0.0        2.0       16.0        4.0        0.0   \n",
       "\n",
       "   pixel_7_7  target  \n",
       "0        0.0       0  \n",
       "1        0.0       1  \n",
       "2        0.0       2  \n",
       "3        0.0       3  \n",
       "4        0.0       4  \n",
       "\n",
       "[5 rows x 65 columns]"
      ]
     },
     "execution_count": 123,
     "metadata": {},
     "output_type": "execute_result"
    }
   ],
   "source": [
    "df.head()"
   ]
  },
  {
   "cell_type": "code",
   "execution_count": 124,
   "id": "eb606d22",
   "metadata": {},
   "outputs": [
    {
     "data": {
      "text/plain": [
       "(1797, 65)"
      ]
     },
     "execution_count": 124,
     "metadata": {},
     "output_type": "execute_result"
    }
   ],
   "source": [
    "df.shape"
   ]
  },
  {
   "cell_type": "code",
   "execution_count": 125,
   "id": "881e07ce",
   "metadata": {},
   "outputs": [
    {
     "name": "stdout",
     "output_type": "stream",
     "text": [
      "<class 'pandas.core.frame.DataFrame'>\n",
      "RangeIndex: 1797 entries, 0 to 1796\n",
      "Data columns (total 65 columns):\n",
      " #   Column     Non-Null Count  Dtype  \n",
      "---  ------     --------------  -----  \n",
      " 0   pixel_0_0  1797 non-null   float64\n",
      " 1   pixel_0_1  1797 non-null   float64\n",
      " 2   pixel_0_2  1797 non-null   float64\n",
      " 3   pixel_0_3  1797 non-null   float64\n",
      " 4   pixel_0_4  1797 non-null   float64\n",
      " 5   pixel_0_5  1797 non-null   float64\n",
      " 6   pixel_0_6  1797 non-null   float64\n",
      " 7   pixel_0_7  1797 non-null   float64\n",
      " 8   pixel_1_0  1797 non-null   float64\n",
      " 9   pixel_1_1  1797 non-null   float64\n",
      " 10  pixel_1_2  1797 non-null   float64\n",
      " 11  pixel_1_3  1797 non-null   float64\n",
      " 12  pixel_1_4  1797 non-null   float64\n",
      " 13  pixel_1_5  1797 non-null   float64\n",
      " 14  pixel_1_6  1797 non-null   float64\n",
      " 15  pixel_1_7  1797 non-null   float64\n",
      " 16  pixel_2_0  1797 non-null   float64\n",
      " 17  pixel_2_1  1797 non-null   float64\n",
      " 18  pixel_2_2  1797 non-null   float64\n",
      " 19  pixel_2_3  1797 non-null   float64\n",
      " 20  pixel_2_4  1797 non-null   float64\n",
      " 21  pixel_2_5  1797 non-null   float64\n",
      " 22  pixel_2_6  1797 non-null   float64\n",
      " 23  pixel_2_7  1797 non-null   float64\n",
      " 24  pixel_3_0  1797 non-null   float64\n",
      " 25  pixel_3_1  1797 non-null   float64\n",
      " 26  pixel_3_2  1797 non-null   float64\n",
      " 27  pixel_3_3  1797 non-null   float64\n",
      " 28  pixel_3_4  1797 non-null   float64\n",
      " 29  pixel_3_5  1797 non-null   float64\n",
      " 30  pixel_3_6  1797 non-null   float64\n",
      " 31  pixel_3_7  1797 non-null   float64\n",
      " 32  pixel_4_0  1797 non-null   float64\n",
      " 33  pixel_4_1  1797 non-null   float64\n",
      " 34  pixel_4_2  1797 non-null   float64\n",
      " 35  pixel_4_3  1797 non-null   float64\n",
      " 36  pixel_4_4  1797 non-null   float64\n",
      " 37  pixel_4_5  1797 non-null   float64\n",
      " 38  pixel_4_6  1797 non-null   float64\n",
      " 39  pixel_4_7  1797 non-null   float64\n",
      " 40  pixel_5_0  1797 non-null   float64\n",
      " 41  pixel_5_1  1797 non-null   float64\n",
      " 42  pixel_5_2  1797 non-null   float64\n",
      " 43  pixel_5_3  1797 non-null   float64\n",
      " 44  pixel_5_4  1797 non-null   float64\n",
      " 45  pixel_5_5  1797 non-null   float64\n",
      " 46  pixel_5_6  1797 non-null   float64\n",
      " 47  pixel_5_7  1797 non-null   float64\n",
      " 48  pixel_6_0  1797 non-null   float64\n",
      " 49  pixel_6_1  1797 non-null   float64\n",
      " 50  pixel_6_2  1797 non-null   float64\n",
      " 51  pixel_6_3  1797 non-null   float64\n",
      " 52  pixel_6_4  1797 non-null   float64\n",
      " 53  pixel_6_5  1797 non-null   float64\n",
      " 54  pixel_6_6  1797 non-null   float64\n",
      " 55  pixel_6_7  1797 non-null   float64\n",
      " 56  pixel_7_0  1797 non-null   float64\n",
      " 57  pixel_7_1  1797 non-null   float64\n",
      " 58  pixel_7_2  1797 non-null   float64\n",
      " 59  pixel_7_3  1797 non-null   float64\n",
      " 60  pixel_7_4  1797 non-null   float64\n",
      " 61  pixel_7_5  1797 non-null   float64\n",
      " 62  pixel_7_6  1797 non-null   float64\n",
      " 63  pixel_7_7  1797 non-null   float64\n",
      " 64  target     1797 non-null   int32  \n",
      "dtypes: float64(64), int32(1)\n",
      "memory usage: 905.6 KB\n"
     ]
    }
   ],
   "source": [
    "df.info()"
   ]
  },
  {
   "cell_type": "code",
   "execution_count": 126,
   "id": "237badd7",
   "metadata": {},
   "outputs": [
    {
     "data": {
      "text/plain": [
       "<Figure size 640x480 with 0 Axes>"
      ]
     },
     "metadata": {},
     "output_type": "display_data"
    },
    {
     "data": {
      "image/png": "[encoded data removed]",
      "text/plain": [
       "<Figure size 480x480 with 1 Axes>"
      ]
     },
     "metadata": {},
     "output_type": "display_data"
    }
   ],
   "source": [
    "plt.gray()\n",
    "plt.matshow(s)\n",
    "plt.show()"
   ]
  },
  {
   "cell_type": "code",
   "execution_count": 127,
   "id": "30158d40",
   "metadata": {},
   "outputs": [
    {
     "data": {
      "text/html": [
       "<div>\n",
       "<style scoped>\n",
       "    .dataframe tbody tr th:only-of-type {\n",
       "        vertical-align: middle;\n",
       "    }\n",
       "\n",
       "    .dataframe tbody tr th {\n",
       "        vertical-align: top;\n",
       "    }\n",
       "\n",
       "    .dataframe thead th {\n",
       "        text-align: right;\n",
       "    }\n",
       "</style>\n",
       "<table border=\"1\" class=\"dataframe\">\n",
       "  <thead>\n",
       "    <tr style=\"text-align: right;\">\n",
       "      <th></th>\n",
       "      <th>pixel_0_0</th>\n",
       "      <th>pixel_0_1</th>\n",
       "      <th>pixel_0_2</th>\n",
       "      <th>pixel_0_3</th>\n",
       "      <th>pixel_0_4</th>\n",
       "      <th>pixel_0_5</th>\n",
       "      <th>pixel_0_6</th>\n",
       "      <th>pixel_0_7</th>\n",
       "      <th>pixel_1_0</th>\n",
       "      <th>pixel_1_1</th>\n",
       "      <th>...</th>\n",
       "      <th>pixel_6_6</th>\n",
       "      <th>pixel_6_7</th>\n",
       "      <th>pixel_7_0</th>\n",
       "      <th>pixel_7_1</th>\n",
       "      <th>pixel_7_2</th>\n",
       "      <th>pixel_7_3</th>\n",
       "      <th>pixel_7_4</th>\n",
       "      <th>pixel_7_5</th>\n",
       "      <th>pixel_7_6</th>\n",
       "      <th>pixel_7_7</th>\n",
       "    </tr>\n",
       "  </thead>\n",
       "  <tbody>\n",
       "    <tr>\n",
       "      <th>0</th>\n",
       "      <td>0.0</td>\n",
       "      <td>0.0</td>\n",
       "      <td>5.0</td>\n",
       "      <td>13.0</td>\n",
       "      <td>9.0</td>\n",
       "      <td>1.0</td>\n",
       "      <td>0.0</td>\n",
       "      <td>0.0</td>\n",
       "      <td>0.0</td>\n",
       "      <td>0.0</td>\n",
       "      <td>...</td>\n",
       "      <td>0.0</td>\n",
       "      <td>0.0</td>\n",
       "      <td>0.0</td>\n",
       "      <td>0.0</td>\n",
       "      <td>6.0</td>\n",
       "      <td>13.0</td>\n",
       "      <td>10.0</td>\n",
       "      <td>0.0</td>\n",
       "      <td>0.0</td>\n",
       "      <td>0.0</td>\n",
       "    </tr>\n",
       "    <tr>\n",
       "      <th>1</th>\n",
       "      <td>0.0</td>\n",
       "      <td>0.0</td>\n",
       "      <td>0.0</td>\n",
       "      <td>12.0</td>\n",
       "      <td>13.0</td>\n",
       "      <td>5.0</td>\n",
       "      <td>0.0</td>\n",
       "      <td>0.0</td>\n",
       "      <td>0.0</td>\n",
       "      <td>0.0</td>\n",
       "      <td>...</td>\n",
       "      <td>0.0</td>\n",
       "      <td>0.0</td>\n",
       "      <td>0.0</td>\n",
       "      <td>0.0</td>\n",
       "      <td>0.0</td>\n",
       "      <td>11.0</td>\n",
       "      <td>16.0</td>\n",
       "      <td>10.0</td>\n",
       "      <td>0.0</td>\n",
       "      <td>0.0</td>\n",
       "    </tr>\n",
       "    <tr>\n",
       "      <th>2</th>\n",
       "      <td>0.0</td>\n",
       "      <td>0.0</td>\n",
       "      <td>0.0</td>\n",
       "      <td>4.0</td>\n",
       "      <td>15.0</td>\n",
       "      <td>12.0</td>\n",
       "      <td>0.0</td>\n",
       "      <td>0.0</td>\n",
       "      <td>0.0</td>\n",
       "      <td>0.0</td>\n",
       "      <td>...</td>\n",
       "      <td>5.0</td>\n",
       "      <td>0.0</td>\n",
       "      <td>0.0</td>\n",
       "      <td>0.0</td>\n",
       "      <td>0.0</td>\n",
       "      <td>3.0</td>\n",
       "      <td>11.0</td>\n",
       "      <td>16.0</td>\n",
       "      <td>9.0</td>\n",
       "      <td>0.0</td>\n",
       "    </tr>\n",
       "    <tr>\n",
       "      <th>3</th>\n",
       "      <td>0.0</td>\n",
       "      <td>0.0</td>\n",
       "      <td>7.0</td>\n",
       "      <td>15.0</td>\n",
       "      <td>13.0</td>\n",
       "      <td>1.0</td>\n",
       "      <td>0.0</td>\n",
       "      <td>0.0</td>\n",
       "      <td>0.0</td>\n",
       "      <td>8.0</td>\n",
       "      <td>...</td>\n",
       "      <td>9.0</td>\n",
       "      <td>0.0</td>\n",
       "      <td>0.0</td>\n",
       "      <td>0.0</td>\n",
       "      <td>7.0</td>\n",
       "      <td>13.0</td>\n",
       "      <td>13.0</td>\n",
       "      <td>9.0</td>\n",
       "      <td>0.0</td>\n",
       "      <td>0.0</td>\n",
       "    </tr>\n",
       "    <tr>\n",
       "      <th>4</th>\n",
       "      <td>0.0</td>\n",
       "      <td>0.0</td>\n",
       "      <td>0.0</td>\n",
       "      <td>1.0</td>\n",
       "      <td>11.0</td>\n",
       "      <td>0.0</td>\n",
       "      <td>0.0</td>\n",
       "      <td>0.0</td>\n",
       "      <td>0.0</td>\n",
       "      <td>0.0</td>\n",
       "      <td>...</td>\n",
       "      <td>0.0</td>\n",
       "      <td>0.0</td>\n",
       "      <td>0.0</td>\n",
       "      <td>0.0</td>\n",
       "      <td>0.0</td>\n",
       "      <td>2.0</td>\n",
       "      <td>16.0</td>\n",
       "      <td>4.0</td>\n",
       "      <td>0.0</td>\n",
       "      <td>0.0</td>\n",
       "    </tr>\n",
       "  </tbody>\n",
       "</table>\n",
       "<p>5 rows × 64 columns</p>\n",
       "</div>"
      ],
      "text/plain": [
       "   pixel_0_0  pixel_0_1  pixel_0_2  pixel_0_3  pixel_0_4  pixel_0_5  \\\n",
       "0        0.0        0.0        5.0       13.0        9.0        1.0   \n",
       "1        0.0        0.0        0.0       12.0       13.0        5.0   \n",
       "2        0.0        0.0        0.0        4.0       15.0       12.0   \n",
       "3        0.0        0.0        7.0       15.0       13.0        1.0   \n",
       "4        0.0        0.0        0.0        1.0       11.0        0.0   \n",
       "\n",
       "   pixel_0_6  pixel_0_7  pixel_1_0  pixel_1_1  ...  pixel_6_6  pixel_6_7  \\\n",
       "0        0.0        0.0        0.0        0.0  ...        0.0        0.0   \n",
       "1        0.0        0.0        0.0        0.0  ...        0.0        0.0   \n",
       "2        0.0        0.0        0.0        0.0  ...        5.0        0.0   \n",
       "3        0.0        0.0        0.0        8.0  ...        9.0        0.0   \n",
       "4        0.0        0.0        0.0        0.0  ...        0.0        0.0   \n",
       "\n",
       "   pixel_7_0  pixel_7_1  pixel_7_2  pixel_7_3  pixel_7_4  pixel_7_5  \\\n",
       "0        0.0        0.0        6.0       13.0       10.0        0.0   \n",
       "1        0.0        0.0        0.0       11.0       16.0       10.0   \n",
       "2        0.0        0.0        0.0        3.0       11.0       16.0   \n",
       "3        0.0        0.0        7.0       13.0       13.0        9.0   \n",
       "4        0.0        0.0        0.0        2.0       16.0        4.0   \n",
       "\n",
       "   pixel_7_6  pixel_7_7  \n",
       "0        0.0        0.0  \n",
       "1        0.0        0.0  \n",
       "2        9.0        0.0  \n",
       "3        0.0        0.0  \n",
       "4        0.0        0.0  \n",
       "\n",
       "[5 rows x 64 columns]"
      ]
     },
     "execution_count": 127,
     "metadata": {},
     "output_type": "execute_result"
    }
   ],
   "source": [
    "X = df.drop(\"target\", axis = 1)\n",
    "X.head()"
   ]
  },
  {
   "cell_type": "code",
   "execution_count": 128,
   "id": "c97b2cac",
   "metadata": {},
   "outputs": [
    {
     "data": {
      "text/plain": [
       "0    0\n",
       "1    1\n",
       "2    2\n",
       "3    3\n",
       "4    4\n",
       "Name: target, dtype: int32"
      ]
     },
     "execution_count": 128,
     "metadata": {},
     "output_type": "execute_result"
    }
   ],
   "source": [
    "y = df.target\n",
    "y.head()"
   ]
  },
  {
   "cell_type": "code",
   "execution_count": 129,
   "id": "f70dd445",
   "metadata": {},
   "outputs": [],
   "source": [
    "from sklearn.model_selection import train_test_split"
   ]
  },
  {
   "cell_type": "code",
   "execution_count": 130,
   "id": "1226018c",
   "metadata": {},
   "outputs": [],
   "source": [
    "X_train, X_test, y_train, y_test = train_test_split(X, y, test_size=0.20, random_state=42)"
   ]
  },
  {
   "cell_type": "code",
   "execution_count": 131,
   "id": "06f9e1f2",
   "metadata": {},
   "outputs": [
    {
     "data": {
      "text/plain": [
       "(1437, 64)"
      ]
     },
     "execution_count": 131,
     "metadata": {},
     "output_type": "execute_result"
    }
   ],
   "source": [
    "X_train.shape"
   ]
  },
  {
   "cell_type": "code",
   "execution_count": 132,
   "id": "0c3c3a9f",
   "metadata": {},
   "outputs": [
    {
     "data": {
      "text/plain": [
       "(360, 64)"
      ]
     },
     "execution_count": 132,
     "metadata": {},
     "output_type": "execute_result"
    }
   ],
   "source": [
    "X_test.shape"
   ]
  },
  {
   "cell_type": "code",
   "execution_count": 133,
   "id": "e8e22da3",
   "metadata": {},
   "outputs": [
    {
     "data": {
      "text/plain": [
       "(360,)"
      ]
     },
     "execution_count": 133,
     "metadata": {},
     "output_type": "execute_result"
    }
   ],
   "source": [
    "y_test.shape"
   ]
  },
  {
   "cell_type": "code",
   "execution_count": 134,
   "id": "01a1686e",
   "metadata": {},
   "outputs": [],
   "source": [
    "model = LogisticRegression(max_iter=2000)"
   ]
  },
  {
   "cell_type": "code",
   "execution_count": 135,
   "id": "5310033c",
   "metadata": {},
   "outputs": [
    {
     "name": "stderr",
     "output_type": "stream",
     "text": [
      "C:\\Users\\praja\\anaconda3\\lib\\site-packages\\sklearn\\linear_model\\_logistic.py:814: ConvergenceWarning: lbfgs failed to converge (status=1):\n",
      "STOP: TOTAL NO. of ITERATIONS REACHED LIMIT.\n",
      "\n",
      "Increase the number of iterations (max_iter) or scale the data as shown in:\n",
      "    https://scikit-learn.org/stable/modules/preprocessing.html\n",
      "Please also refer to the documentation for alternative solver options:\n",
      "    https://scikit-learn.org/stable/modules/linear_model.html#logistic-regression\n",
      "  n_iter_i = _check_optimize_result(\n"
     ]
    },
    {
     "data": {
      "text/plain": [
       "LogisticRegression(max_iter=2000)"
      ]
     },
     "execution_count": 135,
     "metadata": {},
     "output_type": "execute_result"
    }
   ],
   "source": [
    "model.fit(X_train, y_train)"
   ]
  },
  {
   "cell_type": "code",
   "execution_count": 136,
   "id": "e1e49e85",
   "metadata": {},
   "outputs": [
    {
     "data": {
      "text/plain": [
       "0.9722222222222222"
      ]
     },
     "execution_count": 136,
     "metadata": {},
     "output_type": "execute_result"
    }
   ],
   "source": [
    "model.score(X_test, y_test)"
   ]
  },
  {
   "cell_type": "code",
   "execution_count": 137,
   "id": "98a26b10",
   "metadata": {},
   "outputs": [],
   "source": [
    "from sklearn.tree import DecisionTreeClassifier"
   ]
  },
  {
   "cell_type": "code",
   "execution_count": 138,
   "id": "4104ad4a",
   "metadata": {},
   "outputs": [],
   "source": [
    "model = DecisionTreeClassifier()"
   ]
  },
  {
   "cell_type": "code",
   "execution_count": 139,
   "id": "be9143d6",
   "metadata": {},
   "outputs": [
    {
     "data": {
      "text/plain": [
       "DecisionTreeClassifier()"
      ]
     },
     "execution_count": 139,
     "metadata": {},
     "output_type": "execute_result"
    }
   ],
   "source": [
    "model.fit(X_train, y_train)"
   ]
  },
  {
   "cell_type": "code",
   "execution_count": 140,
   "id": "ad9ea536",
   "metadata": {},
   "outputs": [
    {
     "data": {
      "text/plain": [
       "0.85"
      ]
     },
     "execution_count": 140,
     "metadata": {},
     "output_type": "execute_result"
    }
   ],
   "source": [
    "model.score(X_test, y_test)"
   ]
  },
  {
   "cell_type": "code",
   "execution_count": 141,
   "id": "042fc25e",
   "metadata": {},
   "outputs": [],
   "source": [
    "from sklearn import tree\n"
   ]
  },
  {
   "cell_type": "code",
   "execution_count": 142,
   "id": "5360d3d2",
   "metadata": {},
   "outputs": [
    {
     "data": {
      "text/plain": [
       "[Text(0.24764562877643503, 0.96875, 'X[36] <= 0.5\\ngini = 0.9\\nsamples = 1437\\nvalue = [145, 154, 144, 149, 135, 135, 146, 145, 144, 140]'),\n",
       " Text(0.05891238670694864, 0.90625, 'X[42] <= 5.0\\ngini = 0.539\\nsamples = 223\\nvalue = [143, 0, 3, 1, 6, 17, 4, 0, 3, 46]'),\n",
       " Text(0.030211480362537766, 0.84375, 'X[21] <= 6.5\\ngini = 0.376\\nsamples = 59\\nvalue = [0, 0, 1, 1, 0, 12, 0, 0, 0, 45]'),\n",
       " Text(0.01812688821752266, 0.78125, 'X[4] <= 8.0\\ngini = 0.272\\nsamples = 13\\nvalue = [0, 0, 1, 0, 0, 11, 0, 0, 0, 1]'),\n",
       " Text(0.012084592145015106, 0.71875, 'X[45] <= 2.5\\ngini = 0.5\\nsamples = 2\\nvalue = [0, 0, 1, 0, 0, 0, 0, 0, 0, 1]'),\n",
       " Text(0.006042296072507553, 0.65625, 'gini = 0.0\\nsamples = 1\\nvalue = [0, 0, 1, 0, 0, 0, 0, 0, 0, 0]'),\n",
       " Text(0.01812688821752266, 0.65625, 'gini = 0.0\\nsamples = 1\\nvalue = [0, 0, 0, 0, 0, 0, 0, 0, 0, 1]'),\n",
       " Text(0.02416918429003021, 0.71875, 'gini = 0.0\\nsamples = 11\\nvalue = [0, 0, 0, 0, 0, 11, 0, 0, 0, 0]'),\n",
       " Text(0.04229607250755287, 0.78125, 'X[33] <= 1.5\\ngini = 0.084\\nsamples = 46\\nvalue = [0, 0, 0, 1, 0, 1, 0, 0, 0, 44]'),\n",
       " Text(0.03625377643504532, 0.71875, 'X[27] <= 1.5\\ngini = 0.043\\nsamples = 45\\nvalue = [0, 0, 0, 1, 0, 0, 0, 0, 0, 44]'),\n",
       " Text(0.030211480362537766, 0.65625, 'gini = 0.0\\nsamples = 1\\nvalue = [0, 0, 0, 1, 0, 0, 0, 0, 0, 0]'),\n",
       " Text(0.04229607250755287, 0.65625, 'gini = 0.0\\nsamples = 44\\nvalue = [0, 0, 0, 0, 0, 0, 0, 0, 0, 44]'),\n",
       " Text(0.04833836858006042, 0.71875, 'gini = 0.0\\nsamples = 1\\nvalue = [0, 0, 0, 0, 0, 1, 0, 0, 0, 0]'),\n",
       " Text(0.08761329305135952, 0.84375, 'X[21] <= 0.5\\ngini = 0.236\\nsamples = 164\\nvalue = [143, 0, 2, 0, 6, 5, 4, 0, 3, 1]'),\n",
       " Text(0.06646525679758308, 0.78125, 'X[3] <= 4.5\\ngini = 0.735\\nsamples = 14\\nvalue = [1, 0, 1, 0, 5, 4, 3, 0, 0, 0]'),\n",
       " Text(0.06042296072507553, 0.71875, 'gini = 0.0\\nsamples = 5\\nvalue = [0, 0, 0, 0, 5, 0, 0, 0, 0, 0]'),\n",
       " Text(0.07250755287009064, 0.71875, 'X[6] <= 1.0\\ngini = 0.667\\nsamples = 9\\nvalue = [1, 0, 1, 0, 0, 4, 3, 0, 0, 0]'),\n",
       " Text(0.06646525679758308, 0.65625, 'X[44] <= 8.0\\ngini = 0.56\\nsamples = 5\\nvalue = [1, 0, 1, 0, 0, 0, 3, 0, 0, 0]'),\n",
       " Text(0.06042296072507553, 0.59375, 'X[50] <= 15.5\\ngini = 0.5\\nsamples = 2\\nvalue = [1, 0, 1, 0, 0, 0, 0, 0, 0, 0]'),\n",
       " Text(0.054380664652567974, 0.53125, 'gini = 0.0\\nsamples = 1\\nvalue = [1, 0, 0, 0, 0, 0, 0, 0, 0, 0]'),\n",
       " Text(0.06646525679758308, 0.53125, 'gini = 0.0\\nsamples = 1\\nvalue = [0, 0, 1, 0, 0, 0, 0, 0, 0, 0]'),\n",
       " Text(0.07250755287009064, 0.59375, 'gini = 0.0\\nsamples = 3\\nvalue = [0, 0, 0, 0, 0, 0, 3, 0, 0, 0]'),\n",
       " Text(0.07854984894259819, 0.65625, 'gini = 0.0\\nsamples = 4\\nvalue = [0, 0, 0, 0, 0, 4, 0, 0, 0, 0]'),\n",
       " Text(0.10876132930513595, 0.78125, 'X[28] <= 4.5\\ngini = 0.103\\nsamples = 150\\nvalue = [142, 0, 1, 0, 1, 1, 1, 0, 3, 1]'),\n",
       " Text(0.09667673716012085, 0.71875, 'X[18] <= 2.5\\ngini = 0.027\\nsamples = 144\\nvalue = [142, 0, 1, 0, 1, 0, 0, 0, 0, 0]'),\n",
       " Text(0.09063444108761329, 0.65625, 'X[10] <= 4.0\\ngini = 0.5\\nsamples = 2\\nvalue = [0, 0, 1, 0, 1, 0, 0, 0, 0, 0]'),\n",
       " Text(0.08459214501510574, 0.59375, 'gini = 0.0\\nsamples = 1\\nvalue = [0, 0, 0, 0, 1, 0, 0, 0, 0, 0]'),\n",
       " Text(0.09667673716012085, 0.59375, 'gini = 0.0\\nsamples = 1\\nvalue = [0, 0, 1, 0, 0, 0, 0, 0, 0, 0]'),\n",
       " Text(0.1027190332326284, 0.65625, 'gini = 0.0\\nsamples = 142\\nvalue = [142, 0, 0, 0, 0, 0, 0, 0, 0, 0]'),\n",
       " Text(0.12084592145015106, 0.71875, 'X[43] <= 9.0\\ngini = 0.667\\nsamples = 6\\nvalue = [0, 0, 0, 0, 0, 1, 1, 0, 3, 1]'),\n",
       " Text(0.1148036253776435, 0.65625, 'X[10] <= 9.5\\ngini = 0.667\\nsamples = 3\\nvalue = [0, 0, 0, 0, 0, 1, 1, 0, 0, 1]'),\n",
       " Text(0.10876132930513595, 0.59375, 'gini = 0.0\\nsamples = 1\\nvalue = [0, 0, 0, 0, 0, 0, 1, 0, 0, 0]'),\n",
       " Text(0.12084592145015106, 0.59375, 'X[58] <= 5.0\\ngini = 0.5\\nsamples = 2\\nvalue = [0, 0, 0, 0, 0, 1, 0, 0, 0, 1]'),\n",
       " Text(0.1148036253776435, 0.53125, 'gini = 0.0\\nsamples = 1\\nvalue = [0, 0, 0, 0, 0, 0, 0, 0, 0, 1]'),\n",
       " Text(0.1268882175226586, 0.53125, 'gini = 0.0\\nsamples = 1\\nvalue = [0, 0, 0, 0, 0, 1, 0, 0, 0, 0]'),\n",
       " Text(0.1268882175226586, 0.65625, 'gini = 0.0\\nsamples = 3\\nvalue = [0, 0, 0, 0, 0, 0, 0, 0, 3, 0]'),\n",
       " Text(0.4363788708459215, 0.90625, 'X[21] <= 0.5\\ngini = 0.887\\nsamples = 1214\\nvalue = [2, 154, 141, 148, 129, 118, 142, 145, 141, 94]'),\n",
       " Text(0.27870090634441086, 0.84375, 'X[42] <= 8.5\\ngini = 0.74\\nsamples = 363\\nvalue = [0, 35, 38, 12, 22, 108, 139, 5, 3, 1]'),\n",
       " Text(0.22356495468277945, 0.78125, 'X[5] <= 1.5\\ngini = 0.646\\nsamples = 193\\nvalue = [0, 29, 30, 12, 6, 106, 2, 4, 3, 1]'),\n",
       " Text(0.18731117824773413, 0.71875, 'X[27] <= 13.5\\ngini = 0.731\\nsamples = 84\\nvalue = [0, 29, 30, 11, 4, 2, 2, 3, 2, 1]'),\n",
       " Text(0.15709969788519637, 0.65625, 'X[37] <= 1.5\\ngini = 0.536\\nsamples = 45\\nvalue = [0, 3, 30, 3, 3, 1, 1, 3, 1, 0]'),\n",
       " Text(0.14501510574018128, 0.59375, 'X[13] <= 3.0\\ngini = 0.064\\nsamples = 30\\nvalue = [0, 0, 29, 0, 0, 0, 0, 0, 1, 0]'),\n",
       " Text(0.13897280966767372, 0.53125, 'gini = 0.0\\nsamples = 29\\nvalue = [0, 0, 29, 0, 0, 0, 0, 0, 0, 0]'),\n",
       " Text(0.1510574018126888, 0.53125, 'gini = 0.0\\nsamples = 1\\nvalue = [0, 0, 0, 0, 0, 0, 0, 0, 1, 0]'),\n",
       " Text(0.1691842900302115, 0.59375, 'X[60] <= 4.0\\ngini = 0.827\\nsamples = 15\\nvalue = [0, 3, 1, 3, 3, 1, 1, 3, 0, 0]'),\n",
       " Text(0.16314199395770393, 0.53125, 'gini = 0.0\\nsamples = 3\\nvalue = [0, 0, 0, 0, 0, 0, 0, 3, 0, 0]'),\n",
       " Text(0.17522658610271905, 0.53125, 'X[30] <= 1.0\\ngini = 0.792\\nsamples = 12\\nvalue = [0, 3, 1, 3, 3, 1, 1, 0, 0, 0]'),\n",
       " Text(0.1691842900302115, 0.46875, 'X[10] <= 0.5\\ngini = 0.741\\nsamples = 9\\nvalue = [0, 3, 1, 3, 0, 1, 1, 0, 0, 0]'),\n",
       " Text(0.16314199395770393, 0.40625, 'gini = 0.0\\nsamples = 3\\nvalue = [0, 3, 0, 0, 0, 0, 0, 0, 0, 0]'),\n",
       " Text(0.17522658610271905, 0.40625, 'X[54] <= 4.0\\ngini = 0.667\\nsamples = 6\\nvalue = [0, 0, 1, 3, 0, 1, 1, 0, 0, 0]'),\n",
       " Text(0.1691842900302115, 0.34375, 'gini = 0.0\\nsamples = 3\\nvalue = [0, 0, 0, 3, 0, 0, 0, 0, 0, 0]'),\n",
       " Text(0.18126888217522658, 0.34375, 'X[52] <= 7.5\\ngini = 0.667\\nsamples = 3\\nvalue = [0, 0, 1, 0, 0, 1, 1, 0, 0, 0]'),\n",
       " Text(0.17522658610271905, 0.28125, 'gini = 0.0\\nsamples = 1\\nvalue = [0, 0, 0, 0, 0, 1, 0, 0, 0, 0]'),\n",
       " Text(0.18731117824773413, 0.28125, 'X[49] <= 0.5\\ngini = 0.5\\nsamples = 2\\nvalue = [0, 0, 1, 0, 0, 0, 1, 0, 0, 0]'),\n",
       " Text(0.18126888217522658, 0.21875, 'gini = 0.0\\nsamples = 1\\nvalue = [0, 0, 0, 0, 0, 0, 1, 0, 0, 0]'),\n",
       " Text(0.1933534743202417, 0.21875, 'gini = 0.0\\nsamples = 1\\nvalue = [0, 0, 1, 0, 0, 0, 0, 0, 0, 0]'),\n",
       " Text(0.18126888217522658, 0.46875, 'gini = 0.0\\nsamples = 3\\nvalue = [0, 0, 0, 0, 3, 0, 0, 0, 0, 0]'),\n",
       " Text(0.2175226586102719, 0.65625, 'X[46] <= 2.5\\ngini = 0.51\\nsamples = 39\\nvalue = [0, 26, 0, 8, 1, 1, 1, 0, 1, 1]'),\n",
       " Text(0.21148036253776434, 0.59375, 'gini = 0.0\\nsamples = 26\\nvalue = [0, 26, 0, 0, 0, 0, 0, 0, 0, 0]'),\n",
       " Text(0.22356495468277945, 0.59375, 'X[12] <= 14.5\\ngini = 0.592\\nsamples = 13\\nvalue = [0, 0, 0, 8, 1, 1, 1, 0, 1, 1]'),\n",
       " Text(0.2175226586102719, 0.53125, 'X[47] <= 0.5\\ngini = 0.8\\nsamples = 5\\nvalue = [0, 0, 0, 0, 1, 1, 1, 0, 1, 1]'),\n",
       " Text(0.21148036253776434, 0.46875, 'X[35] <= 10.0\\ngini = 0.75\\nsamples = 4\\nvalue = [0, 0, 0, 0, 1, 1, 0, 0, 1, 1]'),\n",
       " Text(0.19939577039274925, 0.40625, 'X[17] <= 3.0\\ngini = 0.5\\nsamples = 2\\nvalue = [0, 0, 0, 0, 0, 1, 0, 0, 0, 1]'),\n",
       " Text(0.1933534743202417, 0.34375, 'gini = 0.0\\nsamples = 1\\nvalue = [0, 0, 0, 0, 0, 1, 0, 0, 0, 0]'),\n",
       " Text(0.2054380664652568, 0.34375, 'gini = 0.0\\nsamples = 1\\nvalue = [0, 0, 0, 0, 0, 0, 0, 0, 0, 1]'),\n",
       " Text(0.22356495468277945, 0.40625, 'X[28] <= 11.0\\ngini = 0.5\\nsamples = 2\\nvalue = [0, 0, 0, 0, 1, 0, 0, 0, 1, 0]'),\n",
       " Text(0.2175226586102719, 0.34375, 'gini = 0.0\\nsamples = 1\\nvalue = [0, 0, 0, 0, 0, 0, 0, 0, 1, 0]'),\n",
       " Text(0.229607250755287, 0.34375, 'gini = 0.0\\nsamples = 1\\nvalue = [0, 0, 0, 0, 1, 0, 0, 0, 0, 0]'),\n",
       " Text(0.22356495468277945, 0.46875, 'gini = 0.0\\nsamples = 1\\nvalue = [0, 0, 0, 0, 0, 0, 1, 0, 0, 0]'),\n",
       " Text(0.229607250755287, 0.53125, 'gini = 0.0\\nsamples = 8\\nvalue = [0, 0, 0, 8, 0, 0, 0, 0, 0, 0]'),\n",
       " Text(0.2598187311178248, 0.71875, 'X[18] <= 4.5\\ngini = 0.089\\nsamples = 109\\nvalue = [0, 0, 0, 1, 2, 104, 0, 1, 1, 0]'),\n",
       " Text(0.24169184290030213, 0.65625, 'X[28] <= 6.5\\ngini = 0.667\\nsamples = 3\\nvalue = [0, 0, 0, 1, 1, 0, 0, 1, 0, 0]'),\n",
       " Text(0.23564954682779457, 0.59375, 'gini = 0.0\\nsamples = 1\\nvalue = [0, 0, 0, 1, 0, 0, 0, 0, 0, 0]'),\n",
       " Text(0.24773413897280966, 0.59375, 'X[44] <= 7.0\\ngini = 0.5\\nsamples = 2\\nvalue = [0, 0, 0, 0, 1, 0, 0, 1, 0, 0]'),\n",
       " Text(0.24169184290030213, 0.53125, 'gini = 0.0\\nsamples = 1\\nvalue = [0, 0, 0, 0, 1, 0, 0, 0, 0, 0]'),\n",
       " Text(0.2537764350453172, 0.53125, 'gini = 0.0\\nsamples = 1\\nvalue = [0, 0, 0, 0, 0, 0, 0, 1, 0, 0]'),\n",
       " Text(0.27794561933534745, 0.65625, 'X[16] <= 0.5\\ngini = 0.037\\nsamples = 106\\nvalue = [0, 0, 0, 0, 1, 104, 0, 0, 1, 0]'),\n",
       " Text(0.2719033232628399, 0.59375, 'X[24] <= 0.5\\ngini = 0.019\\nsamples = 105\\nvalue = [0, 0, 0, 0, 1, 104, 0, 0, 0, 0]'),\n",
       " Text(0.26586102719033233, 0.53125, 'gini = 0.0\\nsamples = 104\\nvalue = [0, 0, 0, 0, 0, 104, 0, 0, 0, 0]'),\n",
       " Text(0.27794561933534745, 0.53125, 'gini = 0.0\\nsamples = 1\\nvalue = [0, 0, 0, 0, 1, 0, 0, 0, 0, 0]'),\n",
       " Text(0.283987915407855, 0.59375, 'gini = 0.0\\nsamples = 1\\nvalue = [0, 0, 0, 0, 0, 0, 0, 0, 1, 0]'),\n",
       " Text(0.3338368580060423, 0.78125, 'X[54] <= 1.5\\ngini = 0.338\\nsamples = 170\\nvalue = [0, 6, 8, 0, 16, 2, 137, 1, 0, 0]'),\n",
       " Text(0.31722054380664655, 0.71875, 'X[10] <= 5.5\\ngini = 0.697\\nsamples = 34\\nvalue = [0, 6, 2, 0, 16, 2, 7, 1, 0, 0]'),\n",
       " Text(0.3021148036253776, 0.65625, 'X[52] <= 9.0\\ngini = 0.111\\nsamples = 17\\nvalue = [0, 0, 0, 0, 16, 0, 1, 0, 0, 0]'),\n",
       " Text(0.29607250755287007, 0.59375, 'gini = 0.0\\nsamples = 1\\nvalue = [0, 0, 0, 0, 0, 0, 1, 0, 0, 0]'),\n",
       " Text(0.3081570996978852, 0.59375, 'gini = 0.0\\nsamples = 16\\nvalue = [0, 0, 0, 0, 16, 0, 0, 0, 0, 0]'),\n",
       " Text(0.3323262839879154, 0.65625, 'X[20] <= 9.0\\ngini = 0.72\\nsamples = 17\\nvalue = [0, 6, 2, 0, 0, 2, 6, 1, 0, 0]'),\n",
       " Text(0.3202416918429003, 0.59375, 'X[60] <= 11.5\\ngini = 0.375\\nsamples = 8\\nvalue = [0, 0, 0, 0, 0, 2, 6, 0, 0, 0]'),\n",
       " Text(0.31419939577039274, 0.53125, 'gini = 0.0\\nsamples = 2\\nvalue = [0, 0, 0, 0, 0, 2, 0, 0, 0, 0]'),\n",
       " Text(0.32628398791540786, 0.53125, 'gini = 0.0\\nsamples = 6\\nvalue = [0, 0, 0, 0, 0, 0, 6, 0, 0, 0]'),\n",
       " Text(0.34441087613293053, 0.59375, 'X[27] <= 14.0\\ngini = 0.494\\nsamples = 9\\nvalue = [0, 6, 2, 0, 0, 0, 0, 1, 0, 0]'),\n",
       " Text(0.338368580060423, 0.53125, 'X[62] <= 1.0\\ngini = 0.444\\nsamples = 3\\nvalue = [0, 0, 2, 0, 0, 0, 0, 1, 0, 0]'),\n",
       " Text(0.3323262839879154, 0.46875, 'gini = 0.0\\nsamples = 1\\nvalue = [0, 0, 0, 0, 0, 0, 0, 1, 0, 0]'),\n",
       " Text(0.34441087613293053, 0.46875, 'gini = 0.0\\nsamples = 2\\nvalue = [0, 0, 2, 0, 0, 0, 0, 0, 0, 0]'),\n",
       " Text(0.3504531722054381, 0.53125, 'gini = 0.0\\nsamples = 6\\nvalue = [0, 6, 0, 0, 0, 0, 0, 0, 0, 0]'),\n",
       " Text(0.3504531722054381, 0.71875, 'X[1] <= 0.5\\ngini = 0.084\\nsamples = 136\\nvalue = [0, 0, 6, 0, 0, 0, 130, 0, 0, 0]'),\n",
       " Text(0.34441087613293053, 0.65625, 'gini = 0.0\\nsamples = 130\\nvalue = [0, 0, 0, 0, 0, 0, 130, 0, 0, 0]'),\n",
       " Text(0.3564954682779456, 0.65625, 'gini = 0.0\\nsamples = 6\\nvalue = [0, 0, 6, 0, 0, 0, 0, 0, 0, 0]'),\n",
       " Text(0.594056835347432, 0.84375, 'X[60] <= 2.5\\ngini = 0.859\\nsamples = 851\\nvalue = [2, 119, 103, 136, 107, 10, 3, 140, 138, 93]'),\n",
       " Text(0.40483383685800606, 0.78125, 'X[26] <= 12.5\\ngini = 0.204\\nsamples = 109\\nvalue = [0, 0, 1, 2, 5, 0, 0, 97, 0, 4]'),\n",
       " Text(0.3806646525679758, 0.71875, 'X[37] <= 0.5\\ngini = 0.08\\nsamples = 97\\nvalue = [0, 0, 1, 2, 1, 0, 0, 93, 0, 0]'),\n",
       " Text(0.3685800604229607, 0.65625, 'X[44] <= 7.0\\ngini = 0.64\\nsamples = 5\\nvalue = [0, 0, 0, 2, 1, 0, 0, 2, 0, 0]'),\n",
       " Text(0.36253776435045315, 0.59375, 'gini = 0.0\\nsamples = 2\\nvalue = [0, 0, 0, 0, 0, 0, 0, 2, 0, 0]'),\n",
       " Text(0.37462235649546827, 0.59375, 'X[26] <= 5.0\\ngini = 0.444\\nsamples = 3\\nvalue = [0, 0, 0, 2, 1, 0, 0, 0, 0, 0]'),\n",
       " Text(0.3685800604229607, 0.53125, 'gini = 0.0\\nsamples = 2\\nvalue = [0, 0, 0, 2, 0, 0, 0, 0, 0, 0]'),\n",
       " Text(0.3806646525679758, 0.53125, 'gini = 0.0\\nsamples = 1\\nvalue = [0, 0, 0, 0, 1, 0, 0, 0, 0, 0]'),\n",
       " Text(0.39274924471299094, 0.65625, 'X[63] <= 2.0\\ngini = 0.022\\nsamples = 92\\nvalue = [0, 0, 1, 0, 0, 0, 0, 91, 0, 0]'),\n",
       " Text(0.3867069486404834, 0.59375, 'gini = 0.0\\nsamples = 91\\nvalue = [0, 0, 0, 0, 0, 0, 0, 91, 0, 0]'),\n",
       " Text(0.3987915407854985, 0.59375, 'gini = 0.0\\nsamples = 1\\nvalue = [0, 0, 1, 0, 0, 0, 0, 0, 0, 0]'),\n",
       " Text(0.42900302114803623, 0.71875, 'X[12] <= 8.5\\ngini = 0.667\\nsamples = 12\\nvalue = [0, 0, 0, 0, 4, 0, 0, 4, 0, 4]'),\n",
       " Text(0.4169184290030212, 0.65625, 'X[34] <= 3.0\\ngini = 0.49\\nsamples = 7\\nvalue = [0, 0, 0, 0, 4, 0, 0, 0, 0, 3]'),\n",
       " Text(0.4108761329305136, 0.59375, 'gini = 0.0\\nsamples = 3\\nvalue = [0, 0, 0, 0, 0, 0, 0, 0, 0, 3]'),\n",
       " Text(0.4229607250755287, 0.59375, 'gini = 0.0\\nsamples = 4\\nvalue = [0, 0, 0, 0, 4, 0, 0, 0, 0, 0]'),\n",
       " Text(0.44108761329305135, 0.65625, 'X[10] <= 14.5\\ngini = 0.32\\nsamples = 5\\nvalue = [0, 0, 0, 0, 0, 0, 0, 4, 0, 1]'),\n",
       " Text(0.4350453172205438, 0.59375, 'gini = 0.0\\nsamples = 4\\nvalue = [0, 0, 0, 0, 0, 0, 0, 4, 0, 0]'),\n",
       " Text(0.4471299093655589, 0.59375, 'gini = 0.0\\nsamples = 1\\nvalue = [0, 0, 0, 0, 0, 0, 0, 0, 0, 1]'),\n",
       " Text(0.783279833836858, 0.78125, 'X[33] <= 4.5\\ngini = 0.851\\nsamples = 742\\nvalue = [2, 119, 102, 134, 102, 10, 3, 43, 138, 89]'),\n",
       " Text(0.6148980362537765, 0.71875, 'X[43] <= 2.5\\ngini = 0.829\\nsamples = 629\\nvalue = [2, 108, 102, 133, 11, 9, 1, 38, 136, 89]'),\n",
       " Text(0.4967900302114804, 0.65625, 'X[26] <= 3.5\\ngini = 0.689\\nsamples = 266\\nvalue = [0, 25, 7, 119, 2, 7, 0, 4, 20, 82]'),\n",
       " Text(0.459214501510574, 0.59375, 'X[63] <= 1.5\\ngini = 0.232\\nsamples = 119\\nvalue = [0, 2, 6, 104, 0, 0, 0, 0, 3, 4]'),\n",
       " Text(0.44410876132930516, 0.53125, 'X[19] <= 8.5\\ngini = 0.136\\nsamples = 112\\nvalue = [0, 1, 0, 104, 0, 0, 0, 0, 3, 4]'),\n",
       " Text(0.43202416918429004, 0.46875, 'X[4] <= 7.5\\ngini = 0.019\\nsamples = 103\\nvalue = [0, 0, 0, 102, 0, 0, 0, 0, 0, 1]'),\n",
       " Text(0.4259818731117825, 0.40625, 'X[26] <= 1.0\\ngini = 0.444\\nsamples = 3\\nvalue = [0, 0, 0, 2, 0, 0, 0, 0, 0, 1]'),\n",
       " Text(0.4199395770392749, 0.34375, 'gini = 0.0\\nsamples = 2\\nvalue = [0, 0, 0, 2, 0, 0, 0, 0, 0, 0]'),\n",
       " Text(0.43202416918429004, 0.34375, 'gini = 0.0\\nsamples = 1\\nvalue = [0, 0, 0, 0, 0, 0, 0, 0, 0, 1]'),\n",
       " Text(0.4380664652567976, 0.40625, 'gini = 0.0\\nsamples = 100\\nvalue = [0, 0, 0, 100, 0, 0, 0, 0, 0, 0]'),\n",
       " Text(0.4561933534743202, 0.46875, 'X[34] <= 4.0\\ngini = 0.716\\nsamples = 9\\nvalue = [0, 1, 0, 2, 0, 0, 0, 0, 3, 3]'),\n",
       " Text(0.4501510574018127, 0.40625, 'X[36] <= 6.0\\ngini = 0.611\\nsamples = 6\\nvalue = [0, 1, 0, 2, 0, 0, 0, 0, 0, 3]'),\n",
       " Text(0.44410876132930516, 0.34375, 'gini = 0.0\\nsamples = 3\\nvalue = [0, 0, 0, 0, 0, 0, 0, 0, 0, 3]'),\n",
       " Text(0.4561933534743202, 0.34375, 'X[28] <= 15.0\\ngini = 0.444\\nsamples = 3\\nvalue = [0, 1, 0, 2, 0, 0, 0, 0, 0, 0]'),\n",
       " Text(0.4501510574018127, 0.28125, 'gini = 0.0\\nsamples = 1\\nvalue = [0, 1, 0, 0, 0, 0, 0, 0, 0, 0]'),\n",
       " Text(0.4622356495468278, 0.28125, 'gini = 0.0\\nsamples = 2\\nvalue = [0, 0, 0, 2, 0, 0, 0, 0, 0, 0]'),\n",
       " Text(0.4622356495468278, 0.40625, 'gini = 0.0\\nsamples = 3\\nvalue = [0, 0, 0, 0, 0, 0, 0, 0, 3, 0]'),\n",
       " Text(0.4743202416918429, 0.53125, 'X[3] <= 15.5\\ngini = 0.245\\nsamples = 7\\nvalue = [0, 1, 6, 0, 0, 0, 0, 0, 0, 0]'),\n",
       " Text(0.46827794561933533, 0.46875, 'gini = 0.0\\nsamples = 1\\nvalue = [0, 1, 0, 0, 0, 0, 0, 0, 0, 0]'),\n",
       " Text(0.48036253776435045, 0.46875, 'gini = 0.0\\nsamples = 6\\nvalue = [0, 0, 6, 0, 0, 0, 0, 0, 0, 0]'),\n",
       " Text(0.5343655589123867, 0.59375, 'X[42] <= 11.0\\ngini = 0.667\\nsamples = 147\\nvalue = [0, 23, 1, 15, 2, 7, 0, 4, 17, 78]'),\n",
       " Text(0.5143504531722054, 0.53125, 'X[10] <= 0.5\\ngini = 0.598\\nsamples = 131\\nvalue = [0, 23, 1, 15, 2, 6, 0, 4, 2, 78]'),\n",
       " Text(0.49244712990936557, 0.46875, 'X[20] <= 12.0\\ngini = 0.266\\nsamples = 19\\nvalue = [0, 16, 0, 0, 0, 0, 0, 0, 0, 3]'),\n",
       " Text(0.486404833836858, 0.40625, 'gini = 0.0\\nsamples = 3\\nvalue = [0, 0, 0, 0, 0, 0, 0, 0, 0, 3]'),\n",
       " Text(0.4984894259818731, 0.40625, 'gini = 0.0\\nsamples = 16\\nvalue = [0, 16, 0, 0, 0, 0, 0, 0, 0, 0]'),\n",
       " Text(0.5362537764350453, 0.46875, 'X[21] <= 10.5\\ngini = 0.525\\nsamples = 112\\nvalue = [0, 7, 1, 15, 2, 6, 0, 4, 2, 75]'),\n",
       " Text(0.5105740181268882, 0.40625, 'X[26] <= 8.5\\ngini = 0.732\\nsamples = 28\\nvalue = [0, 0, 0, 12, 1, 6, 0, 3, 2, 4]'),\n",
       " Text(0.5045317220543807, 0.34375, 'gini = 0.0\\nsamples = 10\\nvalue = [0, 0, 0, 10, 0, 0, 0, 0, 0, 0]'),\n",
       " Text(0.5166163141993958, 0.34375, 'X[51] <= 1.0\\ngini = 0.784\\nsamples = 18\\nvalue = [0, 0, 0, 2, 1, 6, 0, 3, 2, 4]'),\n",
       " Text(0.5105740181268882, 0.28125, 'gini = 0.0\\nsamples = 4\\nvalue = [0, 0, 0, 0, 0, 0, 0, 0, 0, 4]'),\n",
       " Text(0.5226586102719033, 0.28125, 'X[58] <= 8.5\\ngini = 0.724\\nsamples = 14\\nvalue = [0, 0, 0, 2, 1, 6, 0, 3, 2, 0]'),\n",
       " Text(0.5166163141993958, 0.21875, 'X[60] <= 8.5\\ngini = 0.719\\nsamples = 8\\nvalue = [0, 0, 0, 2, 1, 0, 0, 3, 2, 0]'),\n",
       " Text(0.5105740181268882, 0.15625, 'gini = 0.0\\nsamples = 3\\nvalue = [0, 0, 0, 0, 0, 0, 0, 3, 0, 0]'),\n",
       " Text(0.5226586102719033, 0.15625, 'X[53] <= 9.5\\ngini = 0.64\\nsamples = 5\\nvalue = [0, 0, 0, 2, 1, 0, 0, 0, 2, 0]'),\n",
       " Text(0.5166163141993958, 0.09375, 'X[30] <= 5.0\\ngini = 0.444\\nsamples = 3\\nvalue = [0, 0, 0, 0, 1, 0, 0, 0, 2, 0]'),\n",
       " Text(0.5105740181268882, 0.03125, 'gini = 0.0\\nsamples = 2\\nvalue = [0, 0, 0, 0, 0, 0, 0, 0, 2, 0]'),\n",
       " Text(0.5226586102719033, 0.03125, 'gini = 0.0\\nsamples = 1\\nvalue = [0, 0, 0, 0, 1, 0, 0, 0, 0, 0]'),\n",
       " Text(0.5287009063444109, 0.09375, 'gini = 0.0\\nsamples = 2\\nvalue = [0, 0, 0, 2, 0, 0, 0, 0, 0, 0]'),\n",
       " Text(0.5287009063444109, 0.21875, 'gini = 0.0\\nsamples = 6\\nvalue = [0, 0, 0, 0, 0, 6, 0, 0, 0, 0]'),\n",
       " Text(0.5619335347432024, 0.40625, 'X[27] <= 3.0\\ngini = 0.277\\nsamples = 84\\nvalue = [0, 7, 1, 3, 1, 0, 0, 1, 0, 71]'),\n",
       " Text(0.540785498489426, 0.34375, 'X[59] <= 5.5\\ngini = 0.675\\nsamples = 13\\nvalue = [0, 6, 1, 3, 0, 0, 0, 0, 0, 3]'),\n",
       " Text(0.5347432024169184, 0.28125, 'gini = 0.0\\nsamples = 6\\nvalue = [0, 6, 0, 0, 0, 0, 0, 0, 0, 0]'),\n",
       " Text(0.5468277945619335, 0.28125, 'X[11] <= 10.5\\ngini = 0.612\\nsamples = 7\\nvalue = [0, 0, 1, 3, 0, 0, 0, 0, 0, 3]'),\n",
       " Text(0.540785498489426, 0.21875, 'X[58] <= 5.5\\ngini = 0.375\\nsamples = 4\\nvalue = [0, 0, 1, 0, 0, 0, 0, 0, 0, 3]'),\n",
       " Text(0.5347432024169184, 0.15625, 'gini = 0.0\\nsamples = 3\\nvalue = [0, 0, 0, 0, 0, 0, 0, 0, 0, 3]'),\n",
       " Text(0.5468277945619335, 0.15625, 'gini = 0.0\\nsamples = 1\\nvalue = [0, 0, 1, 0, 0, 0, 0, 0, 0, 0]'),\n",
       " Text(0.552870090634441, 0.21875, 'gini = 0.0\\nsamples = 3\\nvalue = [0, 0, 0, 3, 0, 0, 0, 0, 0, 0]'),\n",
       " Text(0.5830815709969789, 0.34375, 'X[33] <= 3.0\\ngini = 0.082\\nsamples = 71\\nvalue = [0, 1, 0, 0, 1, 0, 0, 1, 0, 68]'),\n",
       " Text(0.5709969788519638, 0.28125, 'X[3] <= 0.5\\ngini = 0.029\\nsamples = 69\\nvalue = [0, 1, 0, 0, 0, 0, 0, 0, 0, 68]'),\n",
       " Text(0.5649546827794562, 0.21875, 'X[51] <= 1.0\\ngini = 0.5\\nsamples = 2\\nvalue = [0, 1, 0, 0, 0, 0, 0, 0, 0, 1]'),\n",
       " Text(0.5589123867069486, 0.15625, 'gini = 0.0\\nsamples = 1\\nvalue = [0, 0, 0, 0, 0, 0, 0, 0, 0, 1]'),\n",
       " Text(0.5709969788519638, 0.15625, 'gini = 0.0\\nsamples = 1\\nvalue = [0, 1, 0, 0, 0, 0, 0, 0, 0, 0]'),\n",
       " Text(0.5770392749244713, 0.21875, 'gini = 0.0\\nsamples = 67\\nvalue = [0, 0, 0, 0, 0, 0, 0, 0, 0, 67]'),\n",
       " Text(0.595166163141994, 0.28125, 'X[30] <= 6.0\\ngini = 0.5\\nsamples = 2\\nvalue = [0, 0, 0, 0, 1, 0, 0, 1, 0, 0]'),\n",
       " Text(0.5891238670694864, 0.21875, 'gini = 0.0\\nsamples = 1\\nvalue = [0, 0, 0, 0, 0, 0, 0, 1, 0, 0]'),\n",
       " Text(0.6012084592145015, 0.21875, 'gini = 0.0\\nsamples = 1\\nvalue = [0, 0, 0, 0, 1, 0, 0, 0, 0, 0]'),\n",
       " Text(0.554380664652568, 0.53125, 'X[34] <= 3.5\\ngini = 0.117\\nsamples = 16\\nvalue = [0, 0, 0, 0, 0, 1, 0, 0, 15, 0]'),\n",
       " Text(0.5483383685800605, 0.46875, 'gini = 0.0\\nsamples = 1\\nvalue = [0, 0, 0, 0, 0, 1, 0, 0, 0, 0]'),\n",
       " Text(0.5604229607250756, 0.46875, 'gini = 0.0\\nsamples = 15\\nvalue = [0, 0, 0, 0, 0, 0, 0, 0, 15, 0]'),\n",
       " Text(0.7330060422960725, 0.65625, 'X[27] <= 9.5\\ngini = 0.766\\nsamples = 363\\nvalue = [2, 83, 95, 14, 9, 2, 1, 34, 116, 7]'),\n",
       " Text(0.6359516616314199, 0.59375, 'X[61] <= 0.5\\ngini = 0.561\\nsamples = 138\\nvalue = [2, 0, 85, 2, 3, 0, 0, 31, 12, 3]'),\n",
       " Text(0.6072507552870091, 0.53125, 'X[50] <= 7.0\\ngini = 0.26\\nsamples = 35\\nvalue = [1, 0, 0, 1, 1, 0, 0, 30, 2, 0]'),\n",
       " Text(0.595166163141994, 0.46875, 'X[4] <= 7.0\\ngini = 0.119\\nsamples = 32\\nvalue = [0, 0, 0, 1, 1, 0, 0, 30, 0, 0]'),\n",
       " Text(0.5891238670694864, 0.40625, 'gini = 0.0\\nsamples = 1\\nvalue = [0, 0, 0, 0, 1, 0, 0, 0, 0, 0]'),\n",
       " Text(0.6012084592145015, 0.40625, 'X[53] <= 3.5\\ngini = 0.062\\nsamples = 31\\nvalue = [0, 0, 0, 1, 0, 0, 0, 30, 0, 0]'),\n",
       " Text(0.595166163141994, 0.34375, 'gini = 0.0\\nsamples = 30\\nvalue = [0, 0, 0, 0, 0, 0, 0, 30, 0, 0]'),\n",
       " Text(0.6072507552870091, 0.34375, 'gini = 0.0\\nsamples = 1\\nvalue = [0, 0, 0, 1, 0, 0, 0, 0, 0, 0]'),\n",
       " Text(0.6193353474320241, 0.46875, 'X[52] <= 13.5\\ngini = 0.444\\nsamples = 3\\nvalue = [1, 0, 0, 0, 0, 0, 0, 0, 2, 0]'),\n",
       " Text(0.6132930513595166, 0.40625, 'gini = 0.0\\nsamples = 2\\nvalue = [0, 0, 0, 0, 0, 0, 0, 0, 2, 0]'),\n",
       " Text(0.6253776435045317, 0.40625, 'gini = 0.0\\nsamples = 1\\nvalue = [1, 0, 0, 0, 0, 0, 0, 0, 0, 0]'),\n",
       " Text(0.6646525679758308, 0.53125, 'X[26] <= 7.0\\ngini = 0.308\\nsamples = 103\\nvalue = [1, 0, 85, 1, 2, 0, 0, 1, 10, 3]'),\n",
       " Text(0.6435045317220544, 0.46875, 'X[38] <= 1.5\\ngini = 0.046\\nsamples = 85\\nvalue = [0, 0, 83, 1, 0, 0, 0, 1, 0, 0]'),\n",
       " Text(0.6374622356495468, 0.40625, 'gini = 0.0\\nsamples = 83\\nvalue = [0, 0, 83, 0, 0, 0, 0, 0, 0, 0]'),\n",
       " Text(0.649546827794562, 0.40625, 'X[53] <= 10.0\\ngini = 0.5\\nsamples = 2\\nvalue = [0, 0, 0, 1, 0, 0, 0, 1, 0, 0]'),\n",
       " Text(0.6435045317220544, 0.34375, 'gini = 0.0\\nsamples = 1\\nvalue = [0, 0, 0, 0, 0, 0, 0, 1, 0, 0]'),\n",
       " Text(0.6555891238670695, 0.34375, 'gini = 0.0\\nsamples = 1\\nvalue = [0, 0, 0, 1, 0, 0, 0, 0, 0, 0]'),\n",
       " Text(0.6858006042296072, 0.46875, 'X[5] <= 2.5\\ngini = 0.636\\nsamples = 18\\nvalue = [1, 0, 2, 0, 2, 0, 0, 0, 10, 3]'),\n",
       " Text(0.6737160120845922, 0.40625, 'X[52] <= 10.5\\ngini = 0.719\\nsamples = 8\\nvalue = [0, 0, 2, 0, 2, 0, 0, 0, 1, 3]'),\n",
       " Text(0.6676737160120846, 0.34375, 'gini = 0.0\\nsamples = 3\\nvalue = [0, 0, 0, 0, 0, 0, 0, 0, 0, 3]'),\n",
       " Text(0.6797583081570997, 0.34375, 'X[44] <= 13.5\\ngini = 0.64\\nsamples = 5\\nvalue = [0, 0, 2, 0, 2, 0, 0, 0, 1, 0]'),\n",
       " Text(0.6737160120845922, 0.28125, 'X[49] <= 1.5\\ngini = 0.444\\nsamples = 3\\nvalue = [0, 0, 2, 0, 0, 0, 0, 0, 1, 0]'),\n",
       " Text(0.6676737160120846, 0.21875, 'gini = 0.0\\nsamples = 2\\nvalue = [0, 0, 2, 0, 0, 0, 0, 0, 0, 0]'),\n",
       " Text(0.6797583081570997, 0.21875, 'gini = 0.0\\nsamples = 1\\nvalue = [0, 0, 0, 0, 0, 0, 0, 0, 1, 0]'),\n",
       " Text(0.6858006042296072, 0.28125, 'gini = 0.0\\nsamples = 2\\nvalue = [0, 0, 0, 0, 2, 0, 0, 0, 0, 0]'),\n",
       " Text(0.6978851963746223, 0.40625, 'X[50] <= 13.0\\ngini = 0.18\\nsamples = 10\\nvalue = [1, 0, 0, 0, 0, 0, 0, 0, 9, 0]'),\n",
       " Text(0.6918429003021148, 0.34375, 'gini = 0.0\\nsamples = 9\\nvalue = [0, 0, 0, 0, 0, 0, 0, 0, 9, 0]'),\n",
       " Text(0.7039274924471299, 0.34375, 'gini = 0.0\\nsamples = 1\\nvalue = [1, 0, 0, 0, 0, 0, 0, 0, 0, 0]'),\n",
       " Text(0.8300604229607251, 0.59375, 'X[20] <= 15.5\\ngini = 0.644\\nsamples = 225\\nvalue = [0, 83, 10, 12, 6, 2, 1, 3, 104, 4]'),\n",
       " Text(0.7658610271903323, 0.53125, 'X[18] <= 2.5\\ngini = 0.395\\nsamples = 123\\nvalue = [0, 5, 2, 7, 4, 2, 1, 3, 95, 4]'),\n",
       " Text(0.7341389728096677, 0.46875, 'X[58] <= 3.0\\ngini = 0.72\\nsamples = 15\\nvalue = [0, 2, 1, 7, 0, 0, 1, 2, 2, 0]'),\n",
       " Text(0.7220543806646526, 0.40625, 'X[13] <= 12.0\\ngini = 0.735\\nsamples = 7\\nvalue = [0, 2, 0, 0, 0, 0, 1, 2, 2, 0]'),\n",
       " Text(0.716012084592145, 0.34375, 'X[19] <= 8.0\\ngini = 0.64\\nsamples = 5\\nvalue = [0, 2, 0, 0, 0, 0, 1, 2, 0, 0]'),\n",
       " Text(0.7099697885196374, 0.28125, 'gini = 0.0\\nsamples = 2\\nvalue = [0, 0, 0, 0, 0, 0, 0, 2, 0, 0]'),\n",
       " Text(0.7220543806646526, 0.28125, 'X[42] <= 8.5\\ngini = 0.444\\nsamples = 3\\nvalue = [0, 2, 0, 0, 0, 0, 1, 0, 0, 0]'),\n",
       " Text(0.716012084592145, 0.21875, 'gini = 0.0\\nsamples = 2\\nvalue = [0, 2, 0, 0, 0, 0, 0, 0, 0, 0]'),\n",
       " Text(0.7280966767371602, 0.21875, 'gini = 0.0\\nsamples = 1\\nvalue = [0, 0, 0, 0, 0, 0, 1, 0, 0, 0]'),\n",
       " Text(0.7280966767371602, 0.34375, 'gini = 0.0\\nsamples = 2\\nvalue = [0, 0, 0, 0, 0, 0, 0, 0, 2, 0]'),\n",
       " Text(0.7462235649546828, 0.40625, 'X[34] <= 10.0\\ngini = 0.219\\nsamples = 8\\nvalue = [0, 0, 1, 7, 0, 0, 0, 0, 0, 0]'),\n",
       " Text(0.7401812688821753, 0.34375, 'gini = 0.0\\nsamples = 7\\nvalue = [0, 0, 0, 7, 0, 0, 0, 0, 0, 0]'),\n",
       " Text(0.7522658610271903, 0.34375, 'gini = 0.0\\nsamples = 1\\nvalue = [0, 0, 1, 0, 0, 0, 0, 0, 0, 0]'),\n",
       " Text(0.797583081570997, 0.46875, 'X[30] <= 3.5\\ngini = 0.254\\nsamples = 108\\nvalue = [0, 3, 1, 0, 4, 2, 0, 1, 93, 4]'),\n",
       " Text(0.7764350453172205, 0.40625, 'X[21] <= 4.5\\ngini = 0.153\\nsamples = 99\\nvalue = [0, 3, 1, 0, 0, 2, 0, 0, 91, 2]'),\n",
       " Text(0.7643504531722054, 0.34375, 'X[59] <= 12.0\\ngini = 0.611\\nsamples = 6\\nvalue = [0, 3, 0, 0, 0, 1, 0, 0, 2, 0]'),\n",
       " Text(0.7583081570996979, 0.28125, 'gini = 0.0\\nsamples = 3\\nvalue = [0, 3, 0, 0, 0, 0, 0, 0, 0, 0]'),\n",
       " Text(0.770392749244713, 0.28125, 'X[4] <= 11.5\\ngini = 0.444\\nsamples = 3\\nvalue = [0, 0, 0, 0, 0, 1, 0, 0, 2, 0]'),\n",
       " Text(0.7643504531722054, 0.21875, 'gini = 0.0\\nsamples = 1\\nvalue = [0, 0, 0, 0, 0, 1, 0, 0, 0, 0]'),\n",
       " Text(0.7764350453172205, 0.21875, 'gini = 0.0\\nsamples = 2\\nvalue = [0, 0, 0, 0, 0, 0, 0, 0, 2, 0]'),\n",
       " Text(0.7885196374622356, 0.34375, 'X[3] <= 4.5\\ngini = 0.083\\nsamples = 93\\nvalue = [0, 0, 1, 0, 0, 1, 0, 0, 89, 2]'),\n",
       " Text(0.7824773413897281, 0.28125, 'gini = 0.0\\nsamples = 1\\nvalue = [0, 0, 0, 0, 0, 1, 0, 0, 0, 0]'),\n",
       " Text(0.7945619335347432, 0.28125, 'X[5] <= 15.5\\ngini = 0.064\\nsamples = 92\\nvalue = [0, 0, 1, 0, 0, 0, 0, 0, 89, 2]'),\n",
       " Text(0.7885196374622356, 0.21875, 'X[36] <= 1.5\\ngini = 0.043\\nsamples = 91\\nvalue = [0, 0, 1, 0, 0, 0, 0, 0, 89, 1]'),\n",
       " Text(0.7824773413897281, 0.15625, 'gini = 0.0\\nsamples = 1\\nvalue = [0, 0, 0, 0, 0, 0, 0, 0, 0, 1]'),\n",
       " Text(0.7945619335347432, 0.15625, 'X[36] <= 4.5\\ngini = 0.022\\nsamples = 90\\nvalue = [0, 0, 1, 0, 0, 0, 0, 0, 89, 0]'),\n",
       " Text(0.7885196374622356, 0.09375, 'X[4] <= 12.0\\ngini = 0.5\\nsamples = 2\\nvalue = [0, 0, 1, 0, 0, 0, 0, 0, 1, 0]'),\n",
       " Text(0.7824773413897281, 0.03125, 'gini = 0.0\\nsamples = 1\\nvalue = [0, 0, 0, 0, 0, 0, 0, 0, 1, 0]'),\n",
       " Text(0.7945619335347432, 0.03125, 'gini = 0.0\\nsamples = 1\\nvalue = [0, 0, 1, 0, 0, 0, 0, 0, 0, 0]'),\n",
       " Text(0.8006042296072508, 0.09375, 'gini = 0.0\\nsamples = 88\\nvalue = [0, 0, 0, 0, 0, 0, 0, 0, 88, 0]'),\n",
       " Text(0.8006042296072508, 0.21875, 'gini = 0.0\\nsamples = 1\\nvalue = [0, 0, 0, 0, 0, 0, 0, 0, 0, 1]'),\n",
       " Text(0.8187311178247734, 0.40625, 'X[44] <= 3.5\\ngini = 0.691\\nsamples = 9\\nvalue = [0, 0, 0, 0, 4, 0, 0, 1, 2, 2]'),\n",
       " Text(0.8126888217522659, 0.34375, 'gini = 0.0\\nsamples = 2\\nvalue = [0, 0, 0, 0, 0, 0, 0, 0, 0, 2]'),\n",
       " Text(0.824773413897281, 0.34375, 'X[26] <= 10.0\\ngini = 0.571\\nsamples = 7\\nvalue = [0, 0, 0, 0, 4, 0, 0, 1, 2, 0]'),\n",
       " Text(0.8187311178247734, 0.28125, 'X[3] <= 9.5\\ngini = 0.444\\nsamples = 3\\nvalue = [0, 0, 0, 0, 0, 0, 0, 1, 2, 0]'),\n",
       " Text(0.8126888217522659, 0.21875, 'gini = 0.0\\nsamples = 1\\nvalue = [0, 0, 0, 0, 0, 0, 0, 1, 0, 0]'),\n",
       " Text(0.824773413897281, 0.21875, 'gini = 0.0\\nsamples = 2\\nvalue = [0, 0, 0, 0, 0, 0, 0, 0, 2, 0]'),\n",
       " Text(0.8308157099697885, 0.28125, 'gini = 0.0\\nsamples = 4\\nvalue = [0, 0, 0, 0, 4, 0, 0, 0, 0, 0]'),\n",
       " Text(0.8942598187311178, 0.53125, 'X[10] <= 13.5\\ngini = 0.399\\nsamples = 102\\nvalue = [0, 78, 8, 5, 2, 0, 0, 0, 9, 0]'),\n",
       " Text(0.8731117824773413, 0.46875, 'X[46] <= 1.5\\ngini = 0.177\\nsamples = 85\\nvalue = [0, 77, 1, 2, 2, 0, 0, 0, 3, 0]'),\n",
       " Text(0.8610271903323263, 0.40625, 'X[2] <= 14.0\\ngini = 0.073\\nsamples = 80\\nvalue = [0, 77, 1, 1, 0, 0, 0, 0, 1, 0]'),\n",
       " Text(0.8549848942598187, 0.34375, 'X[52] <= 7.5\\ngini = 0.05\\nsamples = 79\\nvalue = [0, 77, 0, 1, 0, 0, 0, 0, 1, 0]'),\n",
       " Text(0.8429003021148036, 0.28125, 'X[25] <= 2.0\\ngini = 0.5\\nsamples = 2\\nvalue = [0, 1, 0, 0, 0, 0, 0, 0, 1, 0]'),\n",
       " Text(0.8368580060422961, 0.21875, 'gini = 0.0\\nsamples = 1\\nvalue = [0, 0, 0, 0, 0, 0, 0, 0, 1, 0]'),\n",
       " Text(0.8489425981873112, 0.21875, 'gini = 0.0\\nsamples = 1\\nvalue = [0, 1, 0, 0, 0, 0, 0, 0, 0, 0]'),\n",
       " Text(0.8670694864048338, 0.28125, 'X[12] <= 10.0\\ngini = 0.026\\nsamples = 77\\nvalue = [0, 76, 0, 1, 0, 0, 0, 0, 0, 0]'),\n",
       " Text(0.8610271903323263, 0.21875, 'X[59] <= 14.0\\ngini = 0.5\\nsamples = 2\\nvalue = [0, 1, 0, 1, 0, 0, 0, 0, 0, 0]'),\n",
       " Text(0.8549848942598187, 0.15625, 'gini = 0.0\\nsamples = 1\\nvalue = [0, 1, 0, 0, 0, 0, 0, 0, 0, 0]'),\n",
       " Text(0.8670694864048338, 0.15625, 'gini = 0.0\\nsamples = 1\\nvalue = [0, 0, 0, 1, 0, 0, 0, 0, 0, 0]'),\n",
       " Text(0.8731117824773413, 0.21875, 'gini = 0.0\\nsamples = 75\\nvalue = [0, 75, 0, 0, 0, 0, 0, 0, 0, 0]'),\n",
       " Text(0.8670694864048338, 0.34375, 'gini = 0.0\\nsamples = 1\\nvalue = [0, 0, 1, 0, 0, 0, 0, 0, 0, 0]'),\n",
       " Text(0.8851963746223565, 0.40625, 'X[27] <= 11.5\\ngini = 0.64\\nsamples = 5\\nvalue = [0, 0, 0, 1, 2, 0, 0, 0, 2, 0]'),\n",
       " Text(0.879154078549849, 0.34375, 'gini = 0.0\\nsamples = 2\\nvalue = [0, 0, 0, 0, 0, 0, 0, 0, 2, 0]'),\n",
       " Text(0.8912386706948641, 0.34375, 'X[45] <= 14.5\\ngini = 0.444\\nsamples = 3\\nvalue = [0, 0, 0, 1, 2, 0, 0, 0, 0, 0]'),\n",
       " Text(0.8851963746223565, 0.28125, 'gini = 0.0\\nsamples = 1\\nvalue = [0, 0, 0, 1, 0, 0, 0, 0, 0, 0]'),\n",
       " Text(0.8972809667673716, 0.28125, 'gini = 0.0\\nsamples = 2\\nvalue = [0, 0, 0, 0, 2, 0, 0, 0, 0, 0]'),\n",
       " Text(0.9154078549848943, 0.46875, 'X[21] <= 5.5\\ngini = 0.671\\nsamples = 17\\nvalue = [0, 1, 7, 3, 0, 0, 0, 0, 6, 0]'),\n",
       " Text(0.9093655589123867, 0.40625, 'gini = 0.0\\nsamples = 7\\nvalue = [0, 0, 7, 0, 0, 0, 0, 0, 0, 0]'),\n",
       " Text(0.9214501510574018, 0.40625, 'X[50] <= 12.5\\ngini = 0.54\\nsamples = 10\\nvalue = [0, 1, 0, 3, 0, 0, 0, 0, 6, 0]'),\n",
       " Text(0.9154078549848943, 0.34375, 'X[51] <= 12.0\\ngini = 0.375\\nsamples = 4\\nvalue = [0, 1, 0, 3, 0, 0, 0, 0, 0, 0]'),\n",
       " Text(0.9093655589123867, 0.28125, 'gini = 0.0\\nsamples = 3\\nvalue = [0, 0, 0, 3, 0, 0, 0, 0, 0, 0]'),\n",
       " Text(0.9214501510574018, 0.28125, 'gini = 0.0\\nsamples = 1\\nvalue = [0, 1, 0, 0, 0, 0, 0, 0, 0, 0]'),\n",
       " Text(0.9274924471299094, 0.34375, 'gini = 0.0\\nsamples = 6\\nvalue = [0, 0, 0, 0, 0, 0, 0, 0, 6, 0]'),\n",
       " Text(0.9516616314199395, 0.71875, 'X[5] <= 9.5\\ngini = 0.339\\nsamples = 113\\nvalue = [0, 11, 0, 1, 91, 1, 2, 5, 2, 0]'),\n",
       " Text(0.9274924471299094, 0.65625, 'X[37] <= 6.5\\ngini = 0.12\\nsamples = 95\\nvalue = [0, 4, 0, 0, 89, 0, 1, 1, 0, 0]'),\n",
       " Text(0.9154078549848943, 0.59375, 'X[45] <= 10.0\\ngini = 0.32\\nsamples = 5\\nvalue = [0, 4, 0, 0, 1, 0, 0, 0, 0, 0]'),\n",
       " Text(0.9093655589123867, 0.53125, 'gini = 0.0\\nsamples = 4\\nvalue = [0, 4, 0, 0, 0, 0, 0, 0, 0, 0]'),\n",
       " Text(0.9214501510574018, 0.53125, 'gini = 0.0\\nsamples = 1\\nvalue = [0, 0, 0, 0, 1, 0, 0, 0, 0, 0]'),\n",
       " Text(0.9395770392749244, 0.59375, 'X[54] <= 1.5\\ngini = 0.044\\nsamples = 90\\nvalue = [0, 0, 0, 0, 88, 0, 1, 1, 0, 0]'),\n",
       " Text(0.9335347432024169, 0.53125, 'X[19] <= 1.5\\ngini = 0.022\\nsamples = 89\\nvalue = [0, 0, 0, 0, 88, 0, 0, 1, 0, 0]'),\n",
       " Text(0.9274924471299094, 0.46875, 'gini = 0.0\\nsamples = 1\\nvalue = [0, 0, 0, 0, 0, 0, 0, 1, 0, 0]'),\n",
       " Text(0.9395770392749244, 0.46875, 'gini = 0.0\\nsamples = 88\\nvalue = [0, 0, 0, 0, 88, 0, 0, 0, 0, 0]'),\n",
       " Text(0.945619335347432, 0.53125, 'gini = 0.0\\nsamples = 1\\nvalue = [0, 0, 0, 0, 0, 0, 1, 0, 0, 0]'),\n",
       " Text(0.9758308157099698, 0.65625, 'X[12] <= 10.5\\ngini = 0.765\\nsamples = 18\\nvalue = [0, 7, 0, 1, 2, 1, 1, 4, 2, 0]'),\n",
       " Text(0.9637462235649547, 0.59375, 'X[19] <= 2.0\\ngini = 0.716\\nsamples = 9\\nvalue = [0, 0, 0, 1, 0, 1, 1, 4, 2, 0]'),\n",
       " Text(0.9577039274924471, 0.53125, 'gini = 0.0\\nsamples = 4\\nvalue = [0, 0, 0, 0, 0, 0, 0, 4, 0, 0]'),\n",
       " Text(0.9697885196374623, 0.53125, 'X[53] <= 5.0\\ngini = 0.72\\nsamples = 5\\nvalue = [0, 0, 0, 1, 0, 1, 1, 0, 2, 0]'),\n",
       " Text(0.9637462235649547, 0.46875, 'gini = 0.0\\nsamples = 2\\nvalue = [0, 0, 0, 0, 0, 0, 0, 0, 2, 0]'),\n",
       " Text(0.9758308157099698, 0.46875, 'X[5] <= 14.0\\ngini = 0.667\\nsamples = 3\\nvalue = [0, 0, 0, 1, 0, 1, 1, 0, 0, 0]'),\n",
       " Text(0.9697885196374623, 0.40625, 'X[2] <= 1.5\\ngini = 0.5\\nsamples = 2\\nvalue = [0, 0, 0, 1, 0, 0, 1, 0, 0, 0]'),\n",
       " Text(0.9637462235649547, 0.34375, 'gini = 0.0\\nsamples = 1\\nvalue = [0, 0, 0, 0, 0, 0, 1, 0, 0, 0]'),\n",
       " Text(0.9758308157099698, 0.34375, 'gini = 0.0\\nsamples = 1\\nvalue = [0, 0, 0, 1, 0, 0, 0, 0, 0, 0]'),\n",
       " Text(0.9818731117824774, 0.40625, 'gini = 0.0\\nsamples = 1\\nvalue = [0, 0, 0, 0, 0, 1, 0, 0, 0, 0]'),\n",
       " Text(0.9879154078549849, 0.59375, 'X[20] <= 13.5\\ngini = 0.346\\nsamples = 9\\nvalue = [0, 7, 0, 0, 2, 0, 0, 0, 0, 0]'),\n",
       " Text(0.9818731117824774, 0.53125, 'gini = 0.0\\nsamples = 2\\nvalue = [0, 0, 0, 0, 2, 0, 0, 0, 0, 0]'),\n",
       " Text(0.9939577039274925, 0.53125, 'gini = 0.0\\nsamples = 7\\nvalue = [0, 7, 0, 0, 0, 0, 0, 0, 0, 0]')]"
      ]
     },
     "execution_count": 142,
     "metadata": {},
     "output_type": "execute_result"
    },
    {
     "data": {
      "image/png": "[encoded data removed]",
      "text/plain": [
       "<Figure size 1200x800 with 1 Axes>"
      ]
     },
     "metadata": {},
     "output_type": "display_data"
    }
   ],
   "source": [
    "plt.figure(figsize=(12,8))\n",
    "tree.plot_tree(model.fit(X_train, y_train))"
   ]
  },
  {
   "cell_type": "code",
   "execution_count": 143,
   "id": "4dd74b73",
   "metadata": {},
   "outputs": [],
   "source": [
    "from sklearn.ensemble import RandomForestClassifier"
   ]
  },
  {
   "cell_type": "code",
   "execution_count": 144,
   "id": "f8c50076",
   "metadata": {},
   "outputs": [],
   "source": [
    "rf = RandomForestClassifier()"
   ]
  },
  {
   "cell_type": "code",
   "execution_count": 145,
   "id": "5b63b4b1",
   "metadata": {},
   "outputs": [
    {
     "data": {
      "text/plain": [
       "0.9722222222222222"
      ]
     },
     "execution_count": 145,
     "metadata": {},
     "output_type": "execute_result"
    }
   ],
   "source": [
    "rf.fit(X_train, y_train)\n",
    "rf.score(X_test, y_test)"
   ]
  },
  {
   "cell_type": "code",
   "execution_count": 146,
   "id": "2dba26f1",
   "metadata": {},
   "outputs": [],
   "source": [
    "from sklearn.ensemble import AdaBoostClassifier"
   ]
  },
  {
   "cell_type": "markdown",
   "id": "78fc71c6",
   "metadata": {},
   "source": [
    "- without hyperparameter tunning"
   ]
  },
  {
   "cell_type": "code",
   "execution_count": 147,
   "id": "8c5b7f2e",
   "metadata": {},
   "outputs": [],
   "source": [
    "ad = AdaBoostClassifier()"
   ]
  },
  {
   "cell_type": "code",
   "execution_count": 148,
   "id": "1773211e",
   "metadata": {},
   "outputs": [
    {
     "data": {
      "text/plain": [
       "0.21944444444444444"
      ]
     },
     "execution_count": 148,
     "metadata": {},
     "output_type": "execute_result"
    }
   ],
   "source": [
    "ad.fit(X_train, y_train)\n",
    "ad.score(X_test, y_test)"
   ]
  },
  {
   "cell_type": "markdown",
   "id": "91509594",
   "metadata": {},
   "source": [
    "- With hyper tunning parameter"
   ]
  },
  {
   "cell_type": "code",
   "execution_count": 149,
   "id": "9e8ad4ce",
   "metadata": {},
   "outputs": [
    {
     "data": {
      "text/plain": [
       "0.7111111111111111"
      ]
     },
     "execution_count": 149,
     "metadata": {},
     "output_type": "execute_result"
    }
   ],
   "source": [
    "ad = AdaBoostClassifier(learning_rate=0.01, n_estimators=90)\n",
    "ad.fit(X_train, y_train)\n",
    "ad.score(X_test, y_test)"
   ]
  },
  {
   "cell_type": "code",
   "execution_count": 150,
   "id": "347a4b0d",
   "metadata": {},
   "outputs": [],
   "source": [
    "import xgboost"
   ]
  },
  {
   "cell_type": "code",
   "execution_count": 151,
   "id": "c52570fb",
   "metadata": {},
   "outputs": [],
   "source": [
    "boost = xgboost.XGBClassifier()"
   ]
  },
  {
   "cell_type": "code",
   "execution_count": 152,
   "id": "63255235",
   "metadata": {},
   "outputs": [
    {
     "data": {
      "text/plain": [
       "1734    6\n",
       "855     0\n",
       "1642    0\n",
       "175     3\n",
       "925     0\n",
       "       ..\n",
       "1130    3\n",
       "1294    7\n",
       "860     2\n",
       "1459    7\n",
       "1126    1\n",
       "Name: target, Length: 1437, dtype: int32"
      ]
     },
     "execution_count": 152,
     "metadata": {},
     "output_type": "execute_result"
    }
   ],
   "source": [
    "y_train"
   ]
  },
  {
   "cell_type": "code",
   "execution_count": 153,
   "id": "4aa6d4e0",
   "metadata": {},
   "outputs": [
    {
     "data": {
      "text/plain": [
       "XGBClassifier(base_score=None, booster=None, callbacks=None,\n",
       "              colsample_bylevel=None, colsample_bynode=None,\n",
       "              colsample_bytree=None, early_stopping_rounds=None,\n",
       "              enable_categorical=False, eval_metric=None, feature_types=None,\n",
       "              gamma=None, gpu_id=None, grow_policy=None, importance_type=None,\n",
       "              interaction_constraints=None, learning_rate=None, max_bin=None,\n",
       "              max_cat_threshold=None, max_cat_to_onehot=None,\n",
       "              max_delta_step=None, max_depth=None, max_leaves=None,\n",
       "              min_child_weight=None, missing=nan, monotone_constraints=None,\n",
       "              n_estimators=100, n_jobs=None, num_parallel_tree=None,\n",
       "              objective='multi:softprob', predictor=None, ...)"
      ]
     },
     "execution_count": 153,
     "metadata": {},
     "output_type": "execute_result"
    }
   ],
   "source": [
    "boost.fit(X_train, y_train)"
   ]
  },
  {
   "cell_type": "code",
   "execution_count": 154,
   "id": "4b3f6c9b",
   "metadata": {},
   "outputs": [
    {
     "data": {
      "text/plain": [
       "0.9694444444444444"
      ]
     },
     "execution_count": 154,
     "metadata": {},
     "output_type": "execute_result"
    }
   ],
   "source": [
    "boost.score(X_test, y_test)"
   ]
  },
  {
   "cell_type": "code",
   "execution_count": 156,
   "id": "d7b39e24",
   "metadata": {},
   "outputs": [
    {
     "name": "stdout",
     "output_type": "stream",
     "text": [
      "0.9694444444444444\n"
     ]
    }
   ],
   "source": [
    "from sklearn.metrics import accuracy_score\n",
    "print(accuracy_score(y_test, predictions))"
   ]
  },
  {
   "cell_type": "code",
   "execution_count": null,
   "id": "f73a666c",
   "metadata": {},
   "outputs": [],
   "source": [
    "predictions = boost.predict(X_test)"
   ]
  },
  {
   "cell_type": "code",
   "execution_count": null,
   "id": "528dac5e",
   "metadata": {},
   "outputs": [],
   "source": [
    "predictions"
   ]
  },
  {
   "cell_type": "code",
   "execution_count": null,
   "id": "33ec2154",
   "metadata": {},
   "outputs": [],
   "source": [
    "from sklearn.metrics import confusion_matrix"
   ]
  },
  {
   "cell_type": "code",
   "execution_count": null,
   "id": "8c222dcf",
   "metadata": {},
   "outputs": [],
   "source": [
    "cm = confusion_matrix(y_test, predictions)"
   ]
  },
  {
   "cell_type": "code",
   "execution_count": null,
   "id": "aab3f7f4",
   "metadata": {},
   "outputs": [],
   "source": [
    "import seaborn as sns\n",
    "sns.heatmap(cm, annot = True)"
   ]
  },
  {
   "cell_type": "markdown",
   "id": "c9fd2909",
   "metadata": {},
   "source": [
    "- parameters"
   ]
  },
  {
   "cell_type": "code",
   "execution_count": 157,
   "id": "c152c5cc",
   "metadata": {},
   "outputs": [],
   "source": [
    "boost = xgboost.XGBClassifier(n_estimators = 300)"
   ]
  },
  {
   "cell_type": "code",
   "execution_count": 158,
   "id": "40e93c97",
   "metadata": {},
   "outputs": [
    {
     "data": {
      "text/plain": [
       "0.9722222222222222"
      ]
     },
     "execution_count": 158,
     "metadata": {},
     "output_type": "execute_result"
    }
   ],
   "source": [
    "boost.fit(X_train, y_train)\n",
    "boost.score(X_test, y_test)"
   ]
  },
  {
   "cell_type": "code",
   "execution_count": null,
   "id": "86f0c4a4",
   "metadata": {},
   "outputs": [],
   "source": []
  }
 ],
 "metadata": {
  "kernelspec": {
   "display_name": "Python 3 (ipykernel)",
   "language": "python",
   "name": "python3"
  },
  "language_info": {
   "codemirror_mode": {
    "name": "ipython",
    "version": 3
   },
   "file_extension": ".py",
   "mimetype": "text/x-python",
   "name": "python",
   "nbconvert_exporter": "python",
   "pygments_lexer": "ipython3",
   "version": "3.9.13"
  }
 },
 "nbformat": 4,
 "nbformat_minor": 5
}
