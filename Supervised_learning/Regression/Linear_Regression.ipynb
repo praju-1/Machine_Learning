{
 "cells": [
  {
   "cell_type": "markdown",
   "id": "64e66345",
   "metadata": {},
   "source": [
    "# Introduction"
   ]
  },
  {
   "cell_type": "markdown",
   "id": "7e9db3ea",
   "metadata": {},
   "source": [
    "- Linear Regression is a machine learning algorithm based on supervised learning. \n",
    "- It performs a regression task.\n",
    "- It is one of the very simple and easy algorithms which works on regression and shows the relationship between the continuous variables."
   ]
  },
  {
   "cell_type": "markdown",
   "id": "51d5a301",
   "metadata": {},
   "source": [
    "- Linear regression performs the task to predict a dependent variable value (y) based on a given independent variable (x))"
   ]
  },
  {
   "cell_type": "markdown",
   "id": "68ed2b96",
   "metadata": {},
   "source": [
    "# Mathematical equation for Linear regression "
   ]
  },
  {
   "cell_type": "raw",
   "id": "a24e7cdf",
   "metadata": {},
   "source": [
    "y = mx + c"
   ]
  },
  {
   "cell_type": "raw",
   "id": "49d38e41",
   "metadata": {},
   "source": [
    "Where\n",
    "y = prediction\n",
    "m = coeffiecient / slope\n",
    "x = input data\n",
    "c = intercept"
   ]
  },
  {
   "cell_type": "markdown",
   "id": "a9c3f9fe",
   "metadata": {},
   "source": [
    "# Types of Linear Regression"
   ]
  },
  {
   "cell_type": "markdown",
   "id": "296dcf61",
   "metadata": {},
   "source": [
    "- Linear regression can be further divided into two types of the algorithm:"
   ]
  },
  {
   "cell_type": "markdown",
   "id": "926c6e88",
   "metadata": {},
   "source": [
    "1. Simple Linear Regression\n",
    "2. Multiple Linear regression"
   ]
  },
  {
   "cell_type": "markdown",
   "id": "2533bd42",
   "metadata": {},
   "source": [
    "# Cost function"
   ]
  },
  {
   "cell_type": "markdown",
   "id": "ce21f9f8",
   "metadata": {},
   "source": [
    "- Cost function optimizes the regression coefficients or weights. It measures how a linear regression model is performing.\n",
    "- We can use the cost function to find the accuracy of the mapping function, which maps the input variable to the output variable."
   ]
  },
  {
   "cell_type": "markdown",
   "id": "6eb2aa48",
   "metadata": {},
   "source": [
    "# Types of cost function"
   ]
  },
  {
   "cell_type": "markdown",
   "id": "4181cc79",
   "metadata": {},
   "source": [
    "1. Mean Absolute Error\n",
    "2. Mean Square Error\n",
    "3. Mean Absolute Percentage Error\n",
    "4. Mean Percentage Error"
   ]
  },
  {
   "cell_type": "markdown",
   "id": "1102959b",
   "metadata": {},
   "source": [
    "# Formulas for above functions"
   ]
  },
  {
   "cell_type": "raw",
   "id": "063b2013",
   "metadata": {},
   "source": [
    "1. Mean Absolute Error = (1/n) * ∑|yi – xi|"
   ]
  },
  {
   "cell_type": "raw",
   "id": "2b073b9e",
   "metadata": {},
   "source": [
    "where:\n",
    "\n",
    "Σ symbol Indicate that “sum”\n",
    "\n",
    "Yi indicates that ith observed value.\n",
    "\n",
    "Xi indicates that ith predicted value\n",
    "\n",
    "N indicates the total number of observations"
   ]
  },
  {
   "cell_type": "raw",
   "id": "f2d84f78",
   "metadata": {},
   "source": [
    "2. Mean Square Error = (1/n) * ∑(Yi−^Yi)^2"
   ]
  },
  {
   "cell_type": "raw",
   "id": "34e134e1",
   "metadata": {},
   "source": [
    "where :\n",
    "n is the total number of observations, \n",
    "Yi is the ith true data point value,\n",
    "^\n",
    "Yi is the ith estimated data point value."
   ]
  },
  {
   "cell_type": "raw",
   "id": "09a78ff3",
   "metadata": {},
   "source": [
    "3. Mean Absolute Percentage Error(MAPE) = (1/n) * Σ(|Original – Predicted| / |Original|) * 100"
   ]
  },
  {
   "cell_type": "raw",
   "id": "7fa746be",
   "metadata": {},
   "source": [
    "where:\n",
    "\n",
    "Σ –indicates the “sum”\n",
    "\n",
    "n – indicates the sample size\n",
    "\n",
    "actual – indicates the actual data value\n",
    "\n",
    "forecast – indicates the forecasted data value"
   ]
  },
  {
   "cell_type": "raw",
   "id": "f61d3aeb",
   "metadata": {},
   "source": [
    "4. Mean Percentage Error = (100% / n) * ∑((Original – Predicted) / Original)"
   ]
  },
  {
   "cell_type": "markdown",
   "id": "b16e5d74",
   "metadata": {},
   "source": [
    "# Residuals"
   ]
  },
  {
   "cell_type": "markdown",
   "id": "00c86c7a",
   "metadata": {},
   "source": [
    "- The distance between the actual value and predicted values is called residual.\n",
    "- If the observed points are far from the regression line, then the residual will be high, and so cost function will high. \n",
    "- If the scatter points are close to the regression line, then the residual will be small and hence the cost function."
   ]
  },
  {
   "cell_type": "markdown",
   "id": "634d1b3a",
   "metadata": {},
   "source": [
    "# Model Performance"
   ]
  },
  {
   "cell_type": "markdown",
   "id": "3b5074f2",
   "metadata": {},
   "source": [
    "- The Goodness of fit determines how the line of regression fits the set of observations\n",
    "- It is calculated by below method"
   ]
  },
  {
   "cell_type": "markdown",
   "id": "26b97a46",
   "metadata": {},
   "source": [
    "# R-squared method:"
   ]
  },
  {
   "cell_type": "markdown",
   "id": "0b9eff03",
   "metadata": {},
   "source": [
    "- R-squared is a statistical method that determines the goodness of fit.\n",
    "- It measures the strength of the relationship between the dependent and independent variables on a scale of 0-100%."
   ]
  },
  {
   "cell_type": "markdown",
   "id": "8fb7da2a",
   "metadata": {},
   "source": [
    "- It can be calculated from the below formula"
   ]
  },
  {
   "cell_type": "raw",
   "id": "461b1695",
   "metadata": {},
   "source": [
    "R-Squared = 1 - Residuals square / Square of total sum"
   ]
  }
 ],
 "metadata": {
  "kernelspec": {
   "display_name": "Python 3 (ipykernel)",
   "language": "python",
   "name": "python3"
  },
  "language_info": {
   "codemirror_mode": {
    "name": "ipython",
    "version": 3
   },
   "file_extension": ".py",
   "mimetype": "text/x-python",
   "name": "python",
   "nbconvert_exporter": "python",
   "pygments_lexer": "ipython3",
   "version": "3.9.13"
  }
 },
 "nbformat": 4,
 "nbformat_minor": 5
}
