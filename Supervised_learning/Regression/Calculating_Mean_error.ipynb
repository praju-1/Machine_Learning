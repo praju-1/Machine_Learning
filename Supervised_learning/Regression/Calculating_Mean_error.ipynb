{
 "cells": [
  {
   "cell_type": "markdown",
   "id": "685aa5e9",
   "metadata": {},
   "source": [
    "# Mean Square Error (MSE)"
   ]
  },
  {
   "cell_type": "code",
   "execution_count": 21,
   "id": "524e82ad",
   "metadata": {},
   "outputs": [
    {
     "name": "stdout",
     "output_type": "stream",
     "text": [
      "\n",
      "Our total summation value is :  3.5999999999999996\n",
      "\n",
      "Mean Square Error is :  0.72\n"
     ]
    }
   ],
   "source": [
    "import numpy as np\n",
    "try:\n",
    "    x = np.array([1, 2, 3, 4, 5])\n",
    "    y = np.array([3, 4, 2, 4, 5])\n",
    "    predict_y = np.array([2.8, 3.2, 3.6, 4, 4.4])\n",
    "\n",
    "    def mean_sq_error(true_y, predicted_y):\n",
    "        \"This function return the mean Square error\"\n",
    "        try:\n",
    "            square_error = (true_y - predicted_y)**2\n",
    "            summation = np.sum(square_error)\n",
    "            print(\"\\nOur total summation value is : \", summation)\n",
    "            \n",
    "            error = summation/len(predicted_y)\n",
    "            print(\"\\nMean Square Error is : \", error)\n",
    "        except Exception as e:\n",
    "            print(e)\n",
    "    mean_sq_error(y, predict_y)\n",
    "    \n",
    "except Exception as e:\n",
    "    print(e)"
   ]
  },
  {
   "cell_type": "markdown",
   "id": "b0c83f22",
   "metadata": {},
   "source": [
    "# Using Sklearn library"
   ]
  },
  {
   "cell_type": "code",
   "execution_count": 41,
   "id": "ff148215",
   "metadata": {},
   "outputs": [
    {
     "name": "stdout",
     "output_type": "stream",
     "text": [
      "\n",
      "Mean Square Error is :  0.72\n"
     ]
    }
   ],
   "source": [
    "from sklearn.metrics import mean_squared_error\n",
    "error = mean_squared_error(y, predict_y)\n",
    "print(\"\\nMean Square Error is : \", error)"
   ]
  },
  {
   "cell_type": "markdown",
   "id": "e5889deb",
   "metadata": {},
   "source": [
    "# Mean Absolute Error (MAE)"
   ]
  },
  {
   "cell_type": "code",
   "execution_count": 28,
   "id": "3117fbc6",
   "metadata": {},
   "outputs": [
    {
     "name": "stdout",
     "output_type": "stream",
     "text": [
      "\n",
      "Our total summation value is :  3.1999999999999997\n",
      "\n",
      "Mean Absolute Error is :  0.6399999999999999\n"
     ]
    }
   ],
   "source": [
    "import numpy as np\n",
    "try:\n",
    "    x = np.array([1, 2, 3, 4, 5])\n",
    "    y = np.array([3, 4, 2, 4, 5])\n",
    "    predict_y = np.array([2.8, 3.2, 3.6, 4, 4.4])\n",
    "    def mean_abs_error(true_y, predicted_y):\n",
    "        \"This function return the mean absolute error\"\n",
    "        try:\n",
    "            \"Calculate the difference of absolute value\"\n",
    "            difference = np.abs(true_y - predicted_y)\n",
    "            \n",
    "            summation = np.sum(difference)\n",
    "            \n",
    "            print(\"\\nOur total summation value is : \", summation)\n",
    "            \n",
    "            error = summation/len(predicted_y)\n",
    "            print(\"\\nMean Absolute Error is : \", error)\n",
    "        except Exception as e:\n",
    "            print(e)\n",
    "            \n",
    "    mean_abs_error(y, predict_y)\n",
    "    \n",
    "except Exception as e:\n",
    "    print(e)"
   ]
  },
  {
   "cell_type": "code",
   "execution_count": 42,
   "id": "acd7b2c8",
   "metadata": {},
   "outputs": [
    {
     "name": "stdout",
     "output_type": "stream",
     "text": [
      "\n",
      "Mean Square Error is :  0.6399999999999999\n"
     ]
    }
   ],
   "source": [
    "from sklearn.metrics import mean_absolute_error\n",
    "error = mean_absolute_error(y, predict_y)\n",
    "print(\"\\nMean Square Error is : \", error)"
   ]
  },
  {
   "cell_type": "markdown",
   "id": "8a38aff6",
   "metadata": {},
   "source": [
    "# Mean Absolute Percentage Error (MAPE)"
   ]
  },
  {
   "cell_type": "code",
   "execution_count": 31,
   "id": "222f9fbe",
   "metadata": {},
   "outputs": [
    {
     "name": "stdout",
     "output_type": "stream",
     "text": [
      "\n",
      "Our total summation value is :  1.1866666666666665\n",
      "\n",
      "Mean Absolute Percentage Error is :  0.2373333333333333\n"
     ]
    }
   ],
   "source": [
    "import numpy as np\n",
    "try:\n",
    "    x = np.array([1, 2, 3, 4, 5])\n",
    "    y = np.array([3, 4, 2, 4, 5])\n",
    "    predict_y = np.array([2.8, 3.2, 3.6, 4, 4.4])\n",
    "    def mean_abs_percentage_error(true_y, predicted_y):\n",
    "        \"This function return the mean Absolute percentage error\"\n",
    "        try:\n",
    "            \"Calculate the difference of absolute value\"\n",
    "            difference = (np.abs(true_y - predicted_y)) / true_y\n",
    "            \n",
    "            summation = np.sum(difference)\n",
    "            \n",
    "            print(\"\\nOur total summation value is : \", summation)\n",
    "            \n",
    "            error = summation/len(predicted_y)\n",
    "            print(\"\\nMean Absolute Percentage Error is : \", error)\n",
    "        except Exception as e:\n",
    "            print(e)\n",
    "            \n",
    "    mean_abs_percentage_error(y, predict_y)\n",
    "    \n",
    "except Exception as e:\n",
    "    print(e)"
   ]
  },
  {
   "cell_type": "code",
   "execution_count": 43,
   "id": "2dab45f3",
   "metadata": {},
   "outputs": [
    {
     "name": "stdout",
     "output_type": "stream",
     "text": [
      "\n",
      "Mean Square Error is :  0.2373333333333333\n"
     ]
    }
   ],
   "source": [
    "from sklearn.metrics import mean_absolute_percentage_error\n",
    "error = mean_absolute_percentage_error(y, predict_y)\n",
    "print(\"\\nMean Square Error is : \", error)"
   ]
  },
  {
   "cell_type": "markdown",
   "id": "eb12455b",
   "metadata": {},
   "source": [
    "# Mean Percentage Error (MPE)"
   ]
  },
  {
   "cell_type": "code",
   "execution_count": 39,
   "id": "0763a6c9",
   "metadata": {},
   "outputs": [
    {
     "name": "stdout",
     "output_type": "stream",
     "text": [
      "\n",
      "Our total summation value is :  -0.4133333333333335\n",
      "\n",
      "Mean Percentage Error is :  -8.26666666666667\n"
     ]
    }
   ],
   "source": [
    "import numpy as np\n",
    "try:\n",
    "    x = np.array([1, 2, 3, 4, 5])\n",
    "    y = np.array([3, 4, 2, 4, 5])\n",
    "    predict_y = np.array([2.8, 3.2, 3.6, 4, 4.4])\n",
    "    def mean_percentage_error(true_y, predicted_y):\n",
    "        \"This function return the mean percentage error\"\n",
    "        try:\n",
    "            \"Calculate the difference of absolute value\"\n",
    "            difference = (true_y - predicted_y)/ true_y\n",
    "            \n",
    "            summation = np.sum(difference)\n",
    "            \n",
    "            print(\"\\nOur total summation value is : \", summation)\n",
    "            \n",
    "            error = (summation /len(predicted_y)) * 100\n",
    "            print(\"\\nMean Percentage Error is : \", error)\n",
    "            \n",
    "        except Exception as e:\n",
    "            print(e)\n",
    "            \n",
    "    mean_percentage_error(y, predict_y)\n",
    "    \n",
    "except Exception as e:\n",
    "    print(e)"
   ]
  }
 ],
 "metadata": {
  "kernelspec": {
   "display_name": "Python 3 (ipykernel)",
   "language": "python",
   "name": "python3"
  },
  "language_info": {
   "codemirror_mode": {
    "name": "ipython",
    "version": 3
   },
   "file_extension": ".py",
   "mimetype": "text/x-python",
   "name": "python",
   "nbconvert_exporter": "python",
   "pygments_lexer": "ipython3",
   "version": "3.9.12"
  },
  "vscode": {
   "interpreter": {
    "hash": "fbc768028c3e6ead51d9a200ddcb2ec858ae62844dcd1994729a8279be9b48f2"
   }
  }
 },
 "nbformat": 4,
 "nbformat_minor": 5
}
