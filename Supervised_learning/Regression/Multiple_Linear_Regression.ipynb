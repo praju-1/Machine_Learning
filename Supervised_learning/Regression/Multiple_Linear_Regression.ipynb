{
 "cells": [
  {
   "cell_type": "markdown",
   "id": "d979e88f",
   "metadata": {},
   "source": [
    "# Introduction"
   ]
  },
  {
   "cell_type": "markdown",
   "id": "6b1d8301",
   "metadata": {},
   "source": [
    "- In the Simple Linear Regression, where a single Independent/Predictor(X) variable is used to model the response variable (Y). \n",
    "- But there may be various cases in which the response variable is affected by more than one predictor variable; for such cases, the Multiple Linear Regression algorithm is used."
   ]
  },
  {
   "cell_type": "markdown",
   "id": "67ad234b",
   "metadata": {},
   "source": [
    "-  Multiple Linear Regression is an extension of Simple Linear regression as it takes more than one predictor variable to predict the response variable."
   ]
  },
  {
   "cell_type": "markdown",
   "id": "bc552ee9",
   "metadata": {},
   "source": [
    "- we try to predict a value based on two or more variables."
   ]
  },
  {
   "cell_type": "markdown",
   "id": "f6394966",
   "metadata": {},
   "source": [
    "Formula for our multiple regression is:"
   ]
  },
  {
   "cell_type": "raw",
   "id": "caedbfdd",
   "metadata": {},
   "source": [
    "y = m1x1 + m2x2 + m3x3 + ........+mnxn + c\n",
    "\n",
    "Where\n",
    "y = predicted value\n",
    "m = slope\n",
    "x = independent variable\n",
    "c = intercept"
   ]
  },
  {
   "cell_type": "code",
   "execution_count": 1,
   "id": "2e0af1d9",
   "metadata": {},
   "outputs": [],
   "source": [
    "#import library\n",
    "import pandas as pd"
   ]
  },
  {
   "cell_type": "code",
   "execution_count": 2,
   "id": "1900b5ad",
   "metadata": {},
   "outputs": [],
   "source": [
    "#Reading dataT\n",
    "df = pd.read_csv(\"F:\\PGD_Data_Science\\csv_data\\data.csv\")"
   ]
  },
  {
   "cell_type": "code",
   "execution_count": 3,
   "id": "922fc14f",
   "metadata": {},
   "outputs": [
    {
     "data": {
      "text/html": [
       "<div>\n",
       "<style scoped>\n",
       "    .dataframe tbody tr th:only-of-type {\n",
       "        vertical-align: middle;\n",
       "    }\n",
       "\n",
       "    .dataframe tbody tr th {\n",
       "        vertical-align: top;\n",
       "    }\n",
       "\n",
       "    .dataframe thead th {\n",
       "        text-align: right;\n",
       "    }\n",
       "</style>\n",
       "<table border=\"1\" class=\"dataframe\">\n",
       "  <thead>\n",
       "    <tr style=\"text-align: right;\">\n",
       "      <th></th>\n",
       "      <th>Car</th>\n",
       "      <th>Model</th>\n",
       "      <th>Volume</th>\n",
       "      <th>Weight</th>\n",
       "      <th>CO2</th>\n",
       "    </tr>\n",
       "  </thead>\n",
       "  <tbody>\n",
       "    <tr>\n",
       "      <th>0</th>\n",
       "      <td>Toyoty</td>\n",
       "      <td>Aygo</td>\n",
       "      <td>1000</td>\n",
       "      <td>790</td>\n",
       "      <td>99</td>\n",
       "    </tr>\n",
       "    <tr>\n",
       "      <th>1</th>\n",
       "      <td>Mitsubishi</td>\n",
       "      <td>Space Star</td>\n",
       "      <td>1200</td>\n",
       "      <td>1160</td>\n",
       "      <td>95</td>\n",
       "    </tr>\n",
       "    <tr>\n",
       "      <th>2</th>\n",
       "      <td>Skoda</td>\n",
       "      <td>Citigo</td>\n",
       "      <td>1000</td>\n",
       "      <td>929</td>\n",
       "      <td>95</td>\n",
       "    </tr>\n",
       "    <tr>\n",
       "      <th>3</th>\n",
       "      <td>Fiat</td>\n",
       "      <td>500</td>\n",
       "      <td>900</td>\n",
       "      <td>865</td>\n",
       "      <td>90</td>\n",
       "    </tr>\n",
       "    <tr>\n",
       "      <th>4</th>\n",
       "      <td>Mini</td>\n",
       "      <td>Cooper</td>\n",
       "      <td>1500</td>\n",
       "      <td>1140</td>\n",
       "      <td>105</td>\n",
       "    </tr>\n",
       "    <tr>\n",
       "      <th>5</th>\n",
       "      <td>VW</td>\n",
       "      <td>Up!</td>\n",
       "      <td>1000</td>\n",
       "      <td>929</td>\n",
       "      <td>105</td>\n",
       "    </tr>\n",
       "    <tr>\n",
       "      <th>6</th>\n",
       "      <td>Skoda</td>\n",
       "      <td>Fabia</td>\n",
       "      <td>1400</td>\n",
       "      <td>1109</td>\n",
       "      <td>90</td>\n",
       "    </tr>\n",
       "    <tr>\n",
       "      <th>7</th>\n",
       "      <td>Mercedes</td>\n",
       "      <td>A-Class</td>\n",
       "      <td>1500</td>\n",
       "      <td>1365</td>\n",
       "      <td>92</td>\n",
       "    </tr>\n",
       "    <tr>\n",
       "      <th>8</th>\n",
       "      <td>Ford</td>\n",
       "      <td>Fiesta</td>\n",
       "      <td>1500</td>\n",
       "      <td>1112</td>\n",
       "      <td>98</td>\n",
       "    </tr>\n",
       "    <tr>\n",
       "      <th>9</th>\n",
       "      <td>Audi</td>\n",
       "      <td>A1</td>\n",
       "      <td>1600</td>\n",
       "      <td>1150</td>\n",
       "      <td>99</td>\n",
       "    </tr>\n",
       "    <tr>\n",
       "      <th>10</th>\n",
       "      <td>Hyundai</td>\n",
       "      <td>I20</td>\n",
       "      <td>1100</td>\n",
       "      <td>980</td>\n",
       "      <td>99</td>\n",
       "    </tr>\n",
       "    <tr>\n",
       "      <th>11</th>\n",
       "      <td>Suzuki</td>\n",
       "      <td>Swift</td>\n",
       "      <td>1300</td>\n",
       "      <td>990</td>\n",
       "      <td>101</td>\n",
       "    </tr>\n",
       "    <tr>\n",
       "      <th>12</th>\n",
       "      <td>Ford</td>\n",
       "      <td>Fiesta</td>\n",
       "      <td>1000</td>\n",
       "      <td>1112</td>\n",
       "      <td>99</td>\n",
       "    </tr>\n",
       "    <tr>\n",
       "      <th>13</th>\n",
       "      <td>Honda</td>\n",
       "      <td>Civic</td>\n",
       "      <td>1600</td>\n",
       "      <td>1252</td>\n",
       "      <td>94</td>\n",
       "    </tr>\n",
       "    <tr>\n",
       "      <th>14</th>\n",
       "      <td>Hundai</td>\n",
       "      <td>I30</td>\n",
       "      <td>1600</td>\n",
       "      <td>1326</td>\n",
       "      <td>97</td>\n",
       "    </tr>\n",
       "    <tr>\n",
       "      <th>15</th>\n",
       "      <td>Opel</td>\n",
       "      <td>Astra</td>\n",
       "      <td>1600</td>\n",
       "      <td>1330</td>\n",
       "      <td>97</td>\n",
       "    </tr>\n",
       "    <tr>\n",
       "      <th>16</th>\n",
       "      <td>BMW</td>\n",
       "      <td>1</td>\n",
       "      <td>1600</td>\n",
       "      <td>1365</td>\n",
       "      <td>99</td>\n",
       "    </tr>\n",
       "    <tr>\n",
       "      <th>17</th>\n",
       "      <td>Mazda</td>\n",
       "      <td>3</td>\n",
       "      <td>2200</td>\n",
       "      <td>1280</td>\n",
       "      <td>104</td>\n",
       "    </tr>\n",
       "    <tr>\n",
       "      <th>18</th>\n",
       "      <td>Skoda</td>\n",
       "      <td>Rapid</td>\n",
       "      <td>1600</td>\n",
       "      <td>1119</td>\n",
       "      <td>104</td>\n",
       "    </tr>\n",
       "    <tr>\n",
       "      <th>19</th>\n",
       "      <td>Ford</td>\n",
       "      <td>Focus</td>\n",
       "      <td>2000</td>\n",
       "      <td>1328</td>\n",
       "      <td>105</td>\n",
       "    </tr>\n",
       "    <tr>\n",
       "      <th>20</th>\n",
       "      <td>Ford</td>\n",
       "      <td>Mondeo</td>\n",
       "      <td>1600</td>\n",
       "      <td>1584</td>\n",
       "      <td>94</td>\n",
       "    </tr>\n",
       "    <tr>\n",
       "      <th>21</th>\n",
       "      <td>Opel</td>\n",
       "      <td>Insignia</td>\n",
       "      <td>2000</td>\n",
       "      <td>1428</td>\n",
       "      <td>99</td>\n",
       "    </tr>\n",
       "    <tr>\n",
       "      <th>22</th>\n",
       "      <td>Mercedes</td>\n",
       "      <td>C-Class</td>\n",
       "      <td>2100</td>\n",
       "      <td>1365</td>\n",
       "      <td>99</td>\n",
       "    </tr>\n",
       "    <tr>\n",
       "      <th>23</th>\n",
       "      <td>Skoda</td>\n",
       "      <td>Octavia</td>\n",
       "      <td>1600</td>\n",
       "      <td>1415</td>\n",
       "      <td>99</td>\n",
       "    </tr>\n",
       "    <tr>\n",
       "      <th>24</th>\n",
       "      <td>Volvo</td>\n",
       "      <td>S60</td>\n",
       "      <td>2000</td>\n",
       "      <td>1415</td>\n",
       "      <td>99</td>\n",
       "    </tr>\n",
       "    <tr>\n",
       "      <th>25</th>\n",
       "      <td>Mercedes</td>\n",
       "      <td>CLA</td>\n",
       "      <td>1500</td>\n",
       "      <td>1465</td>\n",
       "      <td>102</td>\n",
       "    </tr>\n",
       "    <tr>\n",
       "      <th>26</th>\n",
       "      <td>Audi</td>\n",
       "      <td>A4</td>\n",
       "      <td>2000</td>\n",
       "      <td>1490</td>\n",
       "      <td>104</td>\n",
       "    </tr>\n",
       "    <tr>\n",
       "      <th>27</th>\n",
       "      <td>Audi</td>\n",
       "      <td>A6</td>\n",
       "      <td>2000</td>\n",
       "      <td>1725</td>\n",
       "      <td>114</td>\n",
       "    </tr>\n",
       "    <tr>\n",
       "      <th>28</th>\n",
       "      <td>Volvo</td>\n",
       "      <td>V70</td>\n",
       "      <td>1600</td>\n",
       "      <td>1523</td>\n",
       "      <td>109</td>\n",
       "    </tr>\n",
       "    <tr>\n",
       "      <th>29</th>\n",
       "      <td>BMW</td>\n",
       "      <td>5</td>\n",
       "      <td>2000</td>\n",
       "      <td>1705</td>\n",
       "      <td>114</td>\n",
       "    </tr>\n",
       "    <tr>\n",
       "      <th>30</th>\n",
       "      <td>Mercedes</td>\n",
       "      <td>E-Class</td>\n",
       "      <td>2100</td>\n",
       "      <td>1605</td>\n",
       "      <td>115</td>\n",
       "    </tr>\n",
       "    <tr>\n",
       "      <th>31</th>\n",
       "      <td>Volvo</td>\n",
       "      <td>XC70</td>\n",
       "      <td>2000</td>\n",
       "      <td>1746</td>\n",
       "      <td>117</td>\n",
       "    </tr>\n",
       "    <tr>\n",
       "      <th>32</th>\n",
       "      <td>Ford</td>\n",
       "      <td>B-Max</td>\n",
       "      <td>1600</td>\n",
       "      <td>1235</td>\n",
       "      <td>104</td>\n",
       "    </tr>\n",
       "    <tr>\n",
       "      <th>33</th>\n",
       "      <td>BMW</td>\n",
       "      <td>216</td>\n",
       "      <td>1600</td>\n",
       "      <td>1390</td>\n",
       "      <td>108</td>\n",
       "    </tr>\n",
       "    <tr>\n",
       "      <th>34</th>\n",
       "      <td>Opel</td>\n",
       "      <td>Zafira</td>\n",
       "      <td>1600</td>\n",
       "      <td>1405</td>\n",
       "      <td>109</td>\n",
       "    </tr>\n",
       "    <tr>\n",
       "      <th>35</th>\n",
       "      <td>Mercedes</td>\n",
       "      <td>SLK</td>\n",
       "      <td>2500</td>\n",
       "      <td>1395</td>\n",
       "      <td>120</td>\n",
       "    </tr>\n",
       "  </tbody>\n",
       "</table>\n",
       "</div>"
      ],
      "text/plain": [
       "           Car       Model  Volume  Weight  CO2\n",
       "0       Toyoty        Aygo    1000     790   99\n",
       "1   Mitsubishi  Space Star    1200    1160   95\n",
       "2        Skoda      Citigo    1000     929   95\n",
       "3         Fiat         500     900     865   90\n",
       "4         Mini      Cooper    1500    1140  105\n",
       "5           VW         Up!    1000     929  105\n",
       "6        Skoda       Fabia    1400    1109   90\n",
       "7     Mercedes     A-Class    1500    1365   92\n",
       "8         Ford      Fiesta    1500    1112   98\n",
       "9         Audi          A1    1600    1150   99\n",
       "10     Hyundai         I20    1100     980   99\n",
       "11      Suzuki       Swift    1300     990  101\n",
       "12        Ford      Fiesta    1000    1112   99\n",
       "13       Honda       Civic    1600    1252   94\n",
       "14      Hundai         I30    1600    1326   97\n",
       "15        Opel       Astra    1600    1330   97\n",
       "16         BMW           1    1600    1365   99\n",
       "17       Mazda           3    2200    1280  104\n",
       "18       Skoda       Rapid    1600    1119  104\n",
       "19        Ford       Focus    2000    1328  105\n",
       "20        Ford      Mondeo    1600    1584   94\n",
       "21        Opel    Insignia    2000    1428   99\n",
       "22    Mercedes     C-Class    2100    1365   99\n",
       "23       Skoda     Octavia    1600    1415   99\n",
       "24       Volvo         S60    2000    1415   99\n",
       "25    Mercedes         CLA    1500    1465  102\n",
       "26        Audi          A4    2000    1490  104\n",
       "27        Audi          A6    2000    1725  114\n",
       "28       Volvo         V70    1600    1523  109\n",
       "29         BMW           5    2000    1705  114\n",
       "30    Mercedes     E-Class    2100    1605  115\n",
       "31       Volvo        XC70    2000    1746  117\n",
       "32        Ford       B-Max    1600    1235  104\n",
       "33         BMW         216    1600    1390  108\n",
       "34        Opel      Zafira    1600    1405  109\n",
       "35    Mercedes         SLK    2500    1395  120"
      ]
     },
     "execution_count": 3,
     "metadata": {},
     "output_type": "execute_result"
    }
   ],
   "source": [
    "df"
   ]
  },
  {
   "cell_type": "markdown",
   "id": "3e0358d6",
   "metadata": {},
   "source": [
    "- To get data of our dataframe "
   ]
  },
  {
   "cell_type": "code",
   "execution_count": 4,
   "id": "382fc634",
   "metadata": {},
   "outputs": [
    {
     "name": "stdout",
     "output_type": "stream",
     "text": [
      "<class 'pandas.core.frame.DataFrame'>\n",
      "RangeIndex: 36 entries, 0 to 35\n",
      "Data columns (total 5 columns):\n",
      " #   Column  Non-Null Count  Dtype \n",
      "---  ------  --------------  ----- \n",
      " 0   Car     36 non-null     object\n",
      " 1   Model   36 non-null     object\n",
      " 2   Volume  36 non-null     int64 \n",
      " 3   Weight  36 non-null     int64 \n",
      " 4   CO2     36 non-null     int64 \n",
      "dtypes: int64(3), object(2)\n",
      "memory usage: 1.5+ KB\n"
     ]
    }
   ],
   "source": [
    "df.info()"
   ]
  },
  {
   "cell_type": "markdown",
   "id": "85b80985",
   "metadata": {},
   "source": [
    "- To check null value"
   ]
  },
  {
   "cell_type": "code",
   "execution_count": 5,
   "id": "92253d69",
   "metadata": {},
   "outputs": [
    {
     "data": {
      "text/plain": [
       "Car       0\n",
       "Model     0\n",
       "Volume    0\n",
       "Weight    0\n",
       "CO2       0\n",
       "dtype: int64"
      ]
     },
     "execution_count": 5,
     "metadata": {},
     "output_type": "execute_result"
    }
   ],
   "source": [
    "df.isnull().sum()"
   ]
  },
  {
   "cell_type": "markdown",
   "id": "7f44313c",
   "metadata": {},
   "source": [
    "- Now we have to extract our input values"
   ]
  },
  {
   "cell_type": "code",
   "execution_count": 6,
   "id": "d9eff1e6",
   "metadata": {},
   "outputs": [
    {
     "data": {
      "text/html": [
       "<div>\n",
       "<style scoped>\n",
       "    .dataframe tbody tr th:only-of-type {\n",
       "        vertical-align: middle;\n",
       "    }\n",
       "\n",
       "    .dataframe tbody tr th {\n",
       "        vertical-align: top;\n",
       "    }\n",
       "\n",
       "    .dataframe thead th {\n",
       "        text-align: right;\n",
       "    }\n",
       "</style>\n",
       "<table border=\"1\" class=\"dataframe\">\n",
       "  <thead>\n",
       "    <tr style=\"text-align: right;\">\n",
       "      <th></th>\n",
       "      <th>Car</th>\n",
       "      <th>Model</th>\n",
       "      <th>Volume</th>\n",
       "      <th>Weight</th>\n",
       "      <th>CO2</th>\n",
       "    </tr>\n",
       "  </thead>\n",
       "  <tbody>\n",
       "    <tr>\n",
       "      <th>0</th>\n",
       "      <td>Toyoty</td>\n",
       "      <td>Aygo</td>\n",
       "      <td>1000</td>\n",
       "      <td>790</td>\n",
       "      <td>99</td>\n",
       "    </tr>\n",
       "    <tr>\n",
       "      <th>1</th>\n",
       "      <td>Mitsubishi</td>\n",
       "      <td>Space Star</td>\n",
       "      <td>1200</td>\n",
       "      <td>1160</td>\n",
       "      <td>95</td>\n",
       "    </tr>\n",
       "    <tr>\n",
       "      <th>2</th>\n",
       "      <td>Skoda</td>\n",
       "      <td>Citigo</td>\n",
       "      <td>1000</td>\n",
       "      <td>929</td>\n",
       "      <td>95</td>\n",
       "    </tr>\n",
       "    <tr>\n",
       "      <th>3</th>\n",
       "      <td>Fiat</td>\n",
       "      <td>500</td>\n",
       "      <td>900</td>\n",
       "      <td>865</td>\n",
       "      <td>90</td>\n",
       "    </tr>\n",
       "    <tr>\n",
       "      <th>4</th>\n",
       "      <td>Mini</td>\n",
       "      <td>Cooper</td>\n",
       "      <td>1500</td>\n",
       "      <td>1140</td>\n",
       "      <td>105</td>\n",
       "    </tr>\n",
       "  </tbody>\n",
       "</table>\n",
       "</div>"
      ],
      "text/plain": [
       "          Car       Model  Volume  Weight  CO2\n",
       "0      Toyoty        Aygo    1000     790   99\n",
       "1  Mitsubishi  Space Star    1200    1160   95\n",
       "2       Skoda      Citigo    1000     929   95\n",
       "3        Fiat         500     900     865   90\n",
       "4        Mini      Cooper    1500    1140  105"
      ]
     },
     "execution_count": 6,
     "metadata": {},
     "output_type": "execute_result"
    }
   ],
   "source": [
    "#we have data\n",
    "df.head()"
   ]
  },
  {
   "cell_type": "markdown",
   "id": "f2e6863a",
   "metadata": {},
   "source": [
    "- we have select appropriate column as our input"
   ]
  },
  {
   "cell_type": "code",
   "execution_count": 10,
   "id": "823e2991",
   "metadata": {},
   "outputs": [
    {
     "data": {
      "text/html": [
       "<div>\n",
       "<style scoped>\n",
       "    .dataframe tbody tr th:only-of-type {\n",
       "        vertical-align: middle;\n",
       "    }\n",
       "\n",
       "    .dataframe tbody tr th {\n",
       "        vertical-align: top;\n",
       "    }\n",
       "\n",
       "    .dataframe thead th {\n",
       "        text-align: right;\n",
       "    }\n",
       "</style>\n",
       "<table border=\"1\" class=\"dataframe\">\n",
       "  <thead>\n",
       "    <tr style=\"text-align: right;\">\n",
       "      <th></th>\n",
       "      <th>Volume</th>\n",
       "      <th>Weight</th>\n",
       "    </tr>\n",
       "  </thead>\n",
       "  <tbody>\n",
       "    <tr>\n",
       "      <th>0</th>\n",
       "      <td>1000</td>\n",
       "      <td>790</td>\n",
       "    </tr>\n",
       "    <tr>\n",
       "      <th>1</th>\n",
       "      <td>1200</td>\n",
       "      <td>1160</td>\n",
       "    </tr>\n",
       "    <tr>\n",
       "      <th>2</th>\n",
       "      <td>1000</td>\n",
       "      <td>929</td>\n",
       "    </tr>\n",
       "    <tr>\n",
       "      <th>3</th>\n",
       "      <td>900</td>\n",
       "      <td>865</td>\n",
       "    </tr>\n",
       "    <tr>\n",
       "      <th>4</th>\n",
       "      <td>1500</td>\n",
       "      <td>1140</td>\n",
       "    </tr>\n",
       "  </tbody>\n",
       "</table>\n",
       "</div>"
      ],
      "text/plain": [
       "   Volume  Weight\n",
       "0    1000     790\n",
       "1    1200    1160\n",
       "2    1000     929\n",
       "3     900     865\n",
       "4    1500    1140"
      ]
     },
     "execution_count": 10,
     "metadata": {},
     "output_type": "execute_result"
    }
   ],
   "source": [
    "X = df[['Volume', 'Weight']]\n",
    "X.head()"
   ]
  },
  {
   "cell_type": "code",
   "execution_count": 11,
   "id": "51464335",
   "metadata": {},
   "outputs": [
    {
     "data": {
      "text/plain": [
       "0     99\n",
       "1     95\n",
       "2     95\n",
       "3     90\n",
       "4    105\n",
       "Name: CO2, dtype: int64"
      ]
     },
     "execution_count": 11,
     "metadata": {},
     "output_type": "execute_result"
    }
   ],
   "source": [
    "y = df.CO2\n",
    "y.head()"
   ]
  },
  {
   "cell_type": "markdown",
   "id": "95ad1905",
   "metadata": {},
   "source": [
    "- Now we use Sklearn module"
   ]
  },
  {
   "cell_type": "code",
   "execution_count": 12,
   "id": "361ffdda",
   "metadata": {},
   "outputs": [],
   "source": [
    "from sklearn.linear_model import LinearRegression"
   ]
  },
  {
   "cell_type": "code",
   "execution_count": 13,
   "id": "7c85c683",
   "metadata": {},
   "outputs": [],
   "source": [
    "model = LinearRegression()"
   ]
  },
  {
   "cell_type": "code",
   "execution_count": 14,
   "id": "e9f2373a",
   "metadata": {},
   "outputs": [
    {
     "data": {
      "text/plain": [
       "LinearRegression()"
      ]
     },
     "execution_count": 14,
     "metadata": {},
     "output_type": "execute_result"
    }
   ],
   "source": [
    "model.fit(X, y)"
   ]
  },
  {
   "cell_type": "code",
   "execution_count": 16,
   "id": "4a173d67",
   "metadata": {},
   "outputs": [
    {
     "data": {
      "text/plain": [
       "0.3765564043619989"
      ]
     },
     "execution_count": 16,
     "metadata": {},
     "output_type": "execute_result"
    }
   ],
   "source": [
    "model.score(X, y)"
   ]
  }
 ],
 "metadata": {
  "kernelspec": {
   "display_name": "Python 3 (ipykernel)",
   "language": "python",
   "name": "python3"
  },
  "language_info": {
   "codemirror_mode": {
    "name": "ipython",
    "version": 3
   },
   "file_extension": ".py",
   "mimetype": "text/x-python",
   "name": "python",
   "nbconvert_exporter": "python",
   "pygments_lexer": "ipython3",
   "version": "3.9.12"
  }
 },
 "nbformat": 4,
 "nbformat_minor": 5
}
