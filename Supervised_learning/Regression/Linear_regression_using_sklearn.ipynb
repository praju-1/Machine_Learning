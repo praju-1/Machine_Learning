{
 "cells": [
  {
   "cell_type": "markdown",
   "id": "4dd915cf",
   "metadata": {},
   "source": [
    "# Linear Regression using Sklearn Library"
   ]
  },
  {
   "cell_type": "markdown",
   "id": "abf37fe2",
   "metadata": {},
   "source": [
    "# Introduction"
   ]
  },
  {
   "cell_type": "markdown",
   "id": "bbd13b25",
   "metadata": {},
   "source": [
    "- Scikit-learn is a Python package that makes it easier to apply a variety of Machine Learning (ML) algorithms for predictive data analysis, such as linear regression"
   ]
  },
  {
   "cell_type": "code",
   "execution_count": 1,
   "id": "87ce3693",
   "metadata": {},
   "outputs": [],
   "source": [
    "import numpy as np\n",
    "x = np.array([6, 16, 26, 36, 46, 56])\n",
    "y = np.array([4, 23, 10, 12, 22, 35])"
   ]
  },
  {
   "cell_type": "markdown",
   "id": "a09b996f",
   "metadata": {},
   "source": [
    "- Scatter plot using true values"
   ]
  },
  {
   "cell_type": "code",
   "execution_count": 23,
   "id": "8e26829d",
   "metadata": {},
   "outputs": [
    {
     "data": {
      "image/png": "[encoded data removed]",
      "text/plain": [
       "<Figure size 432x288 with 1 Axes>"
      ]
     },
     "metadata": {
      "needs_background": "light"
     },
     "output_type": "display_data"
    }
   ],
   "source": [
    "import matplotlib.pyplot as plt\n",
    "plt.scatter(x, y)\n",
    "plt.show()"
   ]
  },
  {
   "cell_type": "code",
   "execution_count": 2,
   "id": "2916a9a0",
   "metadata": {},
   "outputs": [],
   "source": [
    "#Fit method expected 2D array so we have to reshape above data\n",
    "x1 = x.reshape(-1, 1)\n",
    "y1 = y.reshape(-1, 1)"
   ]
  },
  {
   "cell_type": "markdown",
   "id": "624e7740",
   "metadata": {},
   "source": [
    "- We have import algorithm from library"
   ]
  },
  {
   "cell_type": "code",
   "execution_count": 3,
   "id": "459475e7",
   "metadata": {},
   "outputs": [],
   "source": [
    "from sklearn.linear_model import LinearRegression"
   ]
  },
  {
   "cell_type": "markdown",
   "id": "78e2dc3b",
   "metadata": {},
   "source": [
    "- We have create object of that algorithm"
   ]
  },
  {
   "cell_type": "code",
   "execution_count": 4,
   "id": "0dc58c54",
   "metadata": {},
   "outputs": [],
   "source": [
    "model = LinearRegression()"
   ]
  },
  {
   "cell_type": "markdown",
   "id": "3efa76a6",
   "metadata": {},
   "source": [
    "- Now we will call the methods of linear Regression"
   ]
  },
  {
   "cell_type": "markdown",
   "id": "ef69a741",
   "metadata": {},
   "source": [
    "- Following are the methods \n",
    "\n",
    "1. fit(X, y)            - Fit linear model.\n",
    "\n",
    "2. predict(X)           - Predict using the linear model.\n",
    "\n",
    "3. score(X, y)          - Return the coefficient of determination of the prediction."
   ]
  },
  {
   "cell_type": "markdown",
   "id": "88f0ed39",
   "metadata": {},
   "source": [
    "# 1. Fit() Method"
   ]
  },
  {
   "cell_type": "markdown",
   "id": "c2113405",
   "metadata": {},
   "source": [
    "- This method train our model"
   ]
  },
  {
   "cell_type": "code",
   "execution_count": 5,
   "id": "b7194ece",
   "metadata": {},
   "outputs": [
    {
     "data": {
      "text/plain": [
       "LinearRegression()"
      ]
     },
     "execution_count": 5,
     "metadata": {},
     "output_type": "execute_result"
    }
   ],
   "source": [
    "model.fit(x1, y1)"
   ]
  },
  {
   "cell_type": "markdown",
   "id": "dcede86b",
   "metadata": {},
   "source": [
    "# 2. Predict() Method"
   ]
  },
  {
   "cell_type": "markdown",
   "id": "8dfc0d68",
   "metadata": {},
   "source": [
    "- Now we require our new predicted value so we use this method"
   ]
  },
  {
   "cell_type": "markdown",
   "id": "d359da69",
   "metadata": {},
   "source": [
    "- Here we need to pass only one parameter"
   ]
  },
  {
   "cell_type": "code",
   "execution_count": 6,
   "id": "c3f47be7",
   "metadata": {},
   "outputs": [
    {
     "data": {
      "text/plain": [
       "array([[ 6.66666667],\n",
       "       [11.06666667],\n",
       "       [15.46666667],\n",
       "       [19.86666667],\n",
       "       [24.26666667],\n",
       "       [28.66666667]])"
      ]
     },
     "execution_count": 6,
     "metadata": {},
     "output_type": "execute_result"
    }
   ],
   "source": [
    "y_predicted = model.predict(x1)\n",
    "y_predicted"
   ]
  },
  {
   "cell_type": "markdown",
   "id": "d0e3be9d",
   "metadata": {},
   "source": [
    "- Now will plot our scatter plot using above value"
   ]
  },
  {
   "cell_type": "code",
   "execution_count": 9,
   "id": "58c4cca5",
   "metadata": {},
   "outputs": [
    {
     "data": {
      "image/png": "[encoded data removed]",
      "text/plain": [
       "<Figure size 432x288 with 1 Axes>"
      ]
     },
     "metadata": {
      "needs_background": "light"
     },
     "output_type": "display_data"
    }
   ],
   "source": [
    "import matplotlib.pyplot as plt\n",
    "plt.scatter(x1, y1)\n",
    "plt.plot(x1, y_predicted, color = 'r')\n",
    "plt.show()"
   ]
  },
  {
   "cell_type": "markdown",
   "id": "e2c66834",
   "metadata": {},
   "source": [
    "- If we want check our Coefficient(m)/ slope"
   ]
  },
  {
   "cell_type": "code",
   "execution_count": 10,
   "id": "a6632a0d",
   "metadata": {},
   "outputs": [
    {
     "data": {
      "text/plain": [
       "array([[0.44]])"
      ]
     },
     "execution_count": 10,
     "metadata": {},
     "output_type": "execute_result"
    }
   ],
   "source": [
    "coefficient = model.coef_\n",
    "coefficient"
   ]
  },
  {
   "cell_type": "markdown",
   "id": "80833265",
   "metadata": {},
   "source": [
    "- If we want to check intercept (c)"
   ]
  },
  {
   "cell_type": "code",
   "execution_count": 11,
   "id": "8c4f0175",
   "metadata": {},
   "outputs": [
    {
     "data": {
      "text/plain": [
       "array([4.02666667])"
      ]
     },
     "execution_count": 11,
     "metadata": {},
     "output_type": "execute_result"
    }
   ],
   "source": [
    "intercept = model.intercept_\n",
    "intercept"
   ]
  },
  {
   "cell_type": "markdown",
   "id": "f1a8b2fc",
   "metadata": {},
   "source": [
    "# 3. Score() Method"
   ]
  },
  {
   "cell_type": "markdown",
   "id": "723b1a84",
   "metadata": {},
   "source": [
    "- This method Return the coefficient of determination of the prediction.\n",
    "- The best possible score is 1.0 and it can be negative"
   ]
  },
  {
   "cell_type": "code",
   "execution_count": 12,
   "id": "8ab8d8ba",
   "metadata": {},
   "outputs": [
    {
     "data": {
      "text/plain": [
       "0.5417910447761193"
      ]
     },
     "execution_count": 12,
     "metadata": {},
     "output_type": "execute_result"
    }
   ],
   "source": [
    "model.score(x1, y1)"
   ]
  },
  {
   "cell_type": "markdown",
   "id": "30c00fa9",
   "metadata": {},
   "source": [
    "- we can also find score as follow"
   ]
  },
  {
   "cell_type": "code",
   "execution_count": 13,
   "id": "4ef74fa1",
   "metadata": {},
   "outputs": [],
   "source": [
    "from sklearn.metrics import r2_score"
   ]
  },
  {
   "cell_type": "code",
   "execution_count": 15,
   "id": "560dddaa",
   "metadata": {},
   "outputs": [
    {
     "data": {
      "text/plain": [
       "0.5417910447761193"
      ]
     },
     "execution_count": 15,
     "metadata": {},
     "output_type": "execute_result"
    }
   ],
   "source": [
    "r2_score(y1, y_predicted)"
   ]
  },
  {
   "cell_type": "markdown",
   "id": "89c919d0",
   "metadata": {},
   "source": [
    "# Calculating error using Sklearn"
   ]
  },
  {
   "cell_type": "markdown",
   "id": "03124c3a",
   "metadata": {},
   "source": [
    "# 1. Mean Square Error"
   ]
  },
  {
   "cell_type": "code",
   "execution_count": 16,
   "id": "0651b4bc",
   "metadata": {},
   "outputs": [],
   "source": [
    "from sklearn.metrics import mean_squared_error"
   ]
  },
  {
   "cell_type": "code",
   "execution_count": 17,
   "id": "261d615d",
   "metadata": {},
   "outputs": [
    {
     "data": {
      "text/plain": [
       "47.75555555555556"
      ]
     },
     "execution_count": 17,
     "metadata": {},
     "output_type": "execute_result"
    }
   ],
   "source": [
    "mean_squared_error(y1, y_predicted)"
   ]
  },
  {
   "cell_type": "markdown",
   "id": "ea71c612",
   "metadata": {},
   "source": [
    "# 2. Mean Absolute Error"
   ]
  },
  {
   "cell_type": "code",
   "execution_count": 18,
   "id": "6faf0800",
   "metadata": {},
   "outputs": [],
   "source": [
    "from sklearn.metrics import mean_absolute_error"
   ]
  },
  {
   "cell_type": "code",
   "execution_count": 19,
   "id": "b36e6824",
   "metadata": {},
   "outputs": [
    {
     "data": {
      "text/plain": [
       "6.088888888888889"
      ]
     },
     "execution_count": 19,
     "metadata": {},
     "output_type": "execute_result"
    }
   ],
   "source": [
    "mean_absolute_error(y1, y_predicted)"
   ]
  },
  {
   "cell_type": "markdown",
   "id": "0e423e5a",
   "metadata": {},
   "source": [
    "# 3. Mean Absolute Percentage Error"
   ]
  },
  {
   "cell_type": "code",
   "execution_count": 20,
   "id": "d692a331",
   "metadata": {},
   "outputs": [],
   "source": [
    "from sklearn.metrics import mean_absolute_percentage_error"
   ]
  },
  {
   "cell_type": "code",
   "execution_count": 21,
   "id": "87ad16b4",
   "metadata": {},
   "outputs": [
    {
     "data": {
      "text/plain": [
       "0.44528535876361963"
      ]
     },
     "execution_count": 21,
     "metadata": {},
     "output_type": "execute_result"
    }
   ],
   "source": [
    "mean_absolute_percentage_error(y1, y_predicted)"
   ]
  }
 ],
 "metadata": {
  "kernelspec": {
   "display_name": "Python 3 (ipykernel)",
   "language": "python",
   "name": "python3"
  },
  "language_info": {
   "codemirror_mode": {
    "name": "ipython",
    "version": 3
   },
   "file_extension": ".py",
   "mimetype": "text/x-python",
   "name": "python",
   "nbconvert_exporter": "python",
   "pygments_lexer": "ipython3",
   "version": "3.9.12"
  }
 },
 "nbformat": 4,
 "nbformat_minor": 5
}
