{
 "cells": [
  {
   "cell_type": "markdown",
   "id": "fa968119",
   "metadata": {},
   "source": [
    "# Introduction"
   ]
  },
  {
   "cell_type": "markdown",
   "id": "4cccd86a",
   "metadata": {},
   "source": [
    "- When your data has different values, and even different measurement units, it can be difficult to compare them."
   ]
  },
  {
   "cell_type": "markdown",
   "id": "f48e36bc",
   "metadata": {},
   "source": [
    "- The answer to this problem is scaling. We can scale data into new values that are easier to compare."
   ]
  },
  {
   "cell_type": "markdown",
   "id": "9234bf74",
   "metadata": {},
   "source": [
    "# Numerical Data Scaling Methods"
   ]
  },
  {
   "cell_type": "markdown",
   "id": "4bf363a5",
   "metadata": {},
   "source": [
    "- There are Two different methods for data Scaling\n",
    "1. Normalization\n",
    "2. Standardization"
   ]
  },
  {
   "cell_type": "markdown",
   "id": "a6e8f070",
   "metadata": {},
   "source": [
    "# 1. Normalization"
   ]
  },
  {
   "cell_type": "markdown",
   "id": "b8967b33",
   "metadata": {},
   "source": [
    "- Normalization is a rescaling of the data from the original range so that all values are within the new range of 0 and 1."
   ]
  },
  {
   "cell_type": "markdown",
   "id": "bf4c1021",
   "metadata": {},
   "source": [
    "- A value is normalized as follows:"
   ]
  },
  {
   "cell_type": "raw",
   "id": "f8931749",
   "metadata": {},
   "source": [
    "Xnorm = (X – min(X)) / (max(X) – min(X))"
   ]
  },
  {
   "cell_type": "markdown",
   "id": "30c0bc0b",
   "metadata": {},
   "source": [
    "# Normalization Scaler using Scikit-learn"
   ]
  },
  {
   "cell_type": "markdown",
   "id": "d25d5471",
   "metadata": {},
   "source": [
    "- Taking Dataset for methods"
   ]
  },
  {
   "cell_type": "code",
   "execution_count": 44,
   "id": "7a0a91e2",
   "metadata": {},
   "outputs": [],
   "source": [
    "import pandas as pd"
   ]
  },
  {
   "cell_type": "code",
   "execution_count": 45,
   "id": "de3a68b7",
   "metadata": {},
   "outputs": [],
   "source": [
    "df = pd.read_csv(\"F:\\PGD_Data_Science\\csv_data\\scale.csv\")"
   ]
  },
  {
   "cell_type": "code",
   "execution_count": 46,
   "id": "d419dce8",
   "metadata": {},
   "outputs": [
    {
     "data": {
      "text/html": [
       "<div>\n",
       "<style scoped>\n",
       "    .dataframe tbody tr th:only-of-type {\n",
       "        vertical-align: middle;\n",
       "    }\n",
       "\n",
       "    .dataframe tbody tr th {\n",
       "        vertical-align: top;\n",
       "    }\n",
       "\n",
       "    .dataframe thead th {\n",
       "        text-align: right;\n",
       "    }\n",
       "</style>\n",
       "<table border=\"1\" class=\"dataframe\">\n",
       "  <thead>\n",
       "    <tr style=\"text-align: right;\">\n",
       "      <th></th>\n",
       "      <th>Car</th>\n",
       "      <th>Model</th>\n",
       "      <th>Volume</th>\n",
       "      <th>Weight</th>\n",
       "      <th>CO2</th>\n",
       "    </tr>\n",
       "  </thead>\n",
       "  <tbody>\n",
       "    <tr>\n",
       "      <th>0</th>\n",
       "      <td>Toyoty</td>\n",
       "      <td>Aygo</td>\n",
       "      <td>1.0</td>\n",
       "      <td>790</td>\n",
       "      <td>99</td>\n",
       "    </tr>\n",
       "    <tr>\n",
       "      <th>1</th>\n",
       "      <td>Mitsubishi</td>\n",
       "      <td>Space Star</td>\n",
       "      <td>1.2</td>\n",
       "      <td>1160</td>\n",
       "      <td>95</td>\n",
       "    </tr>\n",
       "    <tr>\n",
       "      <th>2</th>\n",
       "      <td>Skoda</td>\n",
       "      <td>Citigo</td>\n",
       "      <td>1.0</td>\n",
       "      <td>929</td>\n",
       "      <td>95</td>\n",
       "    </tr>\n",
       "    <tr>\n",
       "      <th>3</th>\n",
       "      <td>Fiat</td>\n",
       "      <td>500</td>\n",
       "      <td>0.9</td>\n",
       "      <td>865</td>\n",
       "      <td>90</td>\n",
       "    </tr>\n",
       "    <tr>\n",
       "      <th>4</th>\n",
       "      <td>Mini</td>\n",
       "      <td>Cooper</td>\n",
       "      <td>1.5</td>\n",
       "      <td>1140</td>\n",
       "      <td>105</td>\n",
       "    </tr>\n",
       "    <tr>\n",
       "      <th>5</th>\n",
       "      <td>VW</td>\n",
       "      <td>Up!</td>\n",
       "      <td>1.0</td>\n",
       "      <td>929</td>\n",
       "      <td>105</td>\n",
       "    </tr>\n",
       "    <tr>\n",
       "      <th>6</th>\n",
       "      <td>Skoda</td>\n",
       "      <td>Fabia</td>\n",
       "      <td>1.4</td>\n",
       "      <td>1109</td>\n",
       "      <td>90</td>\n",
       "    </tr>\n",
       "    <tr>\n",
       "      <th>7</th>\n",
       "      <td>Mercedes</td>\n",
       "      <td>A-Class</td>\n",
       "      <td>1.5</td>\n",
       "      <td>1365</td>\n",
       "      <td>92</td>\n",
       "    </tr>\n",
       "    <tr>\n",
       "      <th>8</th>\n",
       "      <td>Ford</td>\n",
       "      <td>Fiesta</td>\n",
       "      <td>1.5</td>\n",
       "      <td>1112</td>\n",
       "      <td>98</td>\n",
       "    </tr>\n",
       "    <tr>\n",
       "      <th>9</th>\n",
       "      <td>Audi</td>\n",
       "      <td>A1</td>\n",
       "      <td>1.6</td>\n",
       "      <td>1150</td>\n",
       "      <td>99</td>\n",
       "    </tr>\n",
       "    <tr>\n",
       "      <th>10</th>\n",
       "      <td>Hyundai</td>\n",
       "      <td>I20</td>\n",
       "      <td>1.1</td>\n",
       "      <td>980</td>\n",
       "      <td>99</td>\n",
       "    </tr>\n",
       "    <tr>\n",
       "      <th>11</th>\n",
       "      <td>Suzuki</td>\n",
       "      <td>Swift</td>\n",
       "      <td>1.3</td>\n",
       "      <td>990</td>\n",
       "      <td>101</td>\n",
       "    </tr>\n",
       "    <tr>\n",
       "      <th>12</th>\n",
       "      <td>Ford</td>\n",
       "      <td>Fiesta</td>\n",
       "      <td>1.0</td>\n",
       "      <td>1112</td>\n",
       "      <td>99</td>\n",
       "    </tr>\n",
       "    <tr>\n",
       "      <th>13</th>\n",
       "      <td>Honda</td>\n",
       "      <td>Civic</td>\n",
       "      <td>1.6</td>\n",
       "      <td>1252</td>\n",
       "      <td>94</td>\n",
       "    </tr>\n",
       "    <tr>\n",
       "      <th>14</th>\n",
       "      <td>Hundai</td>\n",
       "      <td>I30</td>\n",
       "      <td>1.6</td>\n",
       "      <td>1326</td>\n",
       "      <td>97</td>\n",
       "    </tr>\n",
       "    <tr>\n",
       "      <th>15</th>\n",
       "      <td>Opel</td>\n",
       "      <td>Astra</td>\n",
       "      <td>1.6</td>\n",
       "      <td>1330</td>\n",
       "      <td>97</td>\n",
       "    </tr>\n",
       "    <tr>\n",
       "      <th>16</th>\n",
       "      <td>BMW</td>\n",
       "      <td>1</td>\n",
       "      <td>1.6</td>\n",
       "      <td>1365</td>\n",
       "      <td>99</td>\n",
       "    </tr>\n",
       "    <tr>\n",
       "      <th>17</th>\n",
       "      <td>Mazda</td>\n",
       "      <td>3</td>\n",
       "      <td>2.2</td>\n",
       "      <td>1280</td>\n",
       "      <td>104</td>\n",
       "    </tr>\n",
       "    <tr>\n",
       "      <th>18</th>\n",
       "      <td>Skoda</td>\n",
       "      <td>Rapid</td>\n",
       "      <td>1.6</td>\n",
       "      <td>1119</td>\n",
       "      <td>104</td>\n",
       "    </tr>\n",
       "    <tr>\n",
       "      <th>19</th>\n",
       "      <td>Ford</td>\n",
       "      <td>Focus</td>\n",
       "      <td>2.0</td>\n",
       "      <td>1328</td>\n",
       "      <td>105</td>\n",
       "    </tr>\n",
       "    <tr>\n",
       "      <th>20</th>\n",
       "      <td>Ford</td>\n",
       "      <td>Mondeo</td>\n",
       "      <td>1.6</td>\n",
       "      <td>1584</td>\n",
       "      <td>94</td>\n",
       "    </tr>\n",
       "    <tr>\n",
       "      <th>21</th>\n",
       "      <td>Opel</td>\n",
       "      <td>Insignia</td>\n",
       "      <td>2.0</td>\n",
       "      <td>1428</td>\n",
       "      <td>99</td>\n",
       "    </tr>\n",
       "    <tr>\n",
       "      <th>22</th>\n",
       "      <td>Mercedes</td>\n",
       "      <td>C-Class</td>\n",
       "      <td>2.1</td>\n",
       "      <td>1365</td>\n",
       "      <td>99</td>\n",
       "    </tr>\n",
       "    <tr>\n",
       "      <th>23</th>\n",
       "      <td>Skoda</td>\n",
       "      <td>Octavia</td>\n",
       "      <td>1.6</td>\n",
       "      <td>1415</td>\n",
       "      <td>99</td>\n",
       "    </tr>\n",
       "    <tr>\n",
       "      <th>24</th>\n",
       "      <td>Volvo</td>\n",
       "      <td>S60</td>\n",
       "      <td>2.0</td>\n",
       "      <td>1415</td>\n",
       "      <td>99</td>\n",
       "    </tr>\n",
       "    <tr>\n",
       "      <th>25</th>\n",
       "      <td>Mercedes</td>\n",
       "      <td>CLA</td>\n",
       "      <td>1.5</td>\n",
       "      <td>1465</td>\n",
       "      <td>102</td>\n",
       "    </tr>\n",
       "    <tr>\n",
       "      <th>26</th>\n",
       "      <td>Audi</td>\n",
       "      <td>A4</td>\n",
       "      <td>2.0</td>\n",
       "      <td>1490</td>\n",
       "      <td>104</td>\n",
       "    </tr>\n",
       "    <tr>\n",
       "      <th>27</th>\n",
       "      <td>Audi</td>\n",
       "      <td>A6</td>\n",
       "      <td>2.0</td>\n",
       "      <td>1725</td>\n",
       "      <td>114</td>\n",
       "    </tr>\n",
       "    <tr>\n",
       "      <th>28</th>\n",
       "      <td>Volvo</td>\n",
       "      <td>V70</td>\n",
       "      <td>1.6</td>\n",
       "      <td>1523</td>\n",
       "      <td>109</td>\n",
       "    </tr>\n",
       "    <tr>\n",
       "      <th>29</th>\n",
       "      <td>BMW</td>\n",
       "      <td>5</td>\n",
       "      <td>2.0</td>\n",
       "      <td>1705</td>\n",
       "      <td>114</td>\n",
       "    </tr>\n",
       "    <tr>\n",
       "      <th>30</th>\n",
       "      <td>Mercedes</td>\n",
       "      <td>E-Class</td>\n",
       "      <td>2.1</td>\n",
       "      <td>1605</td>\n",
       "      <td>115</td>\n",
       "    </tr>\n",
       "    <tr>\n",
       "      <th>31</th>\n",
       "      <td>Volvo</td>\n",
       "      <td>XC70</td>\n",
       "      <td>2.0</td>\n",
       "      <td>1746</td>\n",
       "      <td>117</td>\n",
       "    </tr>\n",
       "    <tr>\n",
       "      <th>32</th>\n",
       "      <td>Ford</td>\n",
       "      <td>B-Max</td>\n",
       "      <td>1.6</td>\n",
       "      <td>1235</td>\n",
       "      <td>104</td>\n",
       "    </tr>\n",
       "    <tr>\n",
       "      <th>33</th>\n",
       "      <td>BMW</td>\n",
       "      <td>216</td>\n",
       "      <td>1.6</td>\n",
       "      <td>1390</td>\n",
       "      <td>108</td>\n",
       "    </tr>\n",
       "    <tr>\n",
       "      <th>34</th>\n",
       "      <td>Opel</td>\n",
       "      <td>Zafira</td>\n",
       "      <td>1.6</td>\n",
       "      <td>1405</td>\n",
       "      <td>109</td>\n",
       "    </tr>\n",
       "    <tr>\n",
       "      <th>35</th>\n",
       "      <td>Mercedes</td>\n",
       "      <td>SLK</td>\n",
       "      <td>2.5</td>\n",
       "      <td>1395</td>\n",
       "      <td>120</td>\n",
       "    </tr>\n",
       "  </tbody>\n",
       "</table>\n",
       "</div>"
      ],
      "text/plain": [
       "           Car       Model  Volume  Weight  CO2\n",
       "0       Toyoty        Aygo     1.0     790   99\n",
       "1   Mitsubishi  Space Star     1.2    1160   95\n",
       "2        Skoda      Citigo     1.0     929   95\n",
       "3         Fiat         500     0.9     865   90\n",
       "4         Mini      Cooper     1.5    1140  105\n",
       "5           VW         Up!     1.0     929  105\n",
       "6        Skoda       Fabia     1.4    1109   90\n",
       "7     Mercedes     A-Class     1.5    1365   92\n",
       "8         Ford      Fiesta     1.5    1112   98\n",
       "9         Audi          A1     1.6    1150   99\n",
       "10     Hyundai         I20     1.1     980   99\n",
       "11      Suzuki       Swift     1.3     990  101\n",
       "12        Ford      Fiesta     1.0    1112   99\n",
       "13       Honda       Civic     1.6    1252   94\n",
       "14      Hundai         I30     1.6    1326   97\n",
       "15        Opel       Astra     1.6    1330   97\n",
       "16         BMW           1     1.6    1365   99\n",
       "17       Mazda           3     2.2    1280  104\n",
       "18       Skoda       Rapid     1.6    1119  104\n",
       "19        Ford       Focus     2.0    1328  105\n",
       "20        Ford      Mondeo     1.6    1584   94\n",
       "21        Opel    Insignia     2.0    1428   99\n",
       "22    Mercedes     C-Class     2.1    1365   99\n",
       "23       Skoda     Octavia     1.6    1415   99\n",
       "24       Volvo         S60     2.0    1415   99\n",
       "25    Mercedes         CLA     1.5    1465  102\n",
       "26        Audi          A4     2.0    1490  104\n",
       "27        Audi          A6     2.0    1725  114\n",
       "28       Volvo         V70     1.6    1523  109\n",
       "29         BMW           5     2.0    1705  114\n",
       "30    Mercedes     E-Class     2.1    1605  115\n",
       "31       Volvo        XC70     2.0    1746  117\n",
       "32        Ford       B-Max     1.6    1235  104\n",
       "33         BMW         216     1.6    1390  108\n",
       "34        Opel      Zafira     1.6    1405  109\n",
       "35    Mercedes         SLK     2.5    1395  120"
      ]
     },
     "execution_count": 46,
     "metadata": {},
     "output_type": "execute_result"
    }
   ],
   "source": [
    "df"
   ]
  },
  {
   "cell_type": "code",
   "execution_count": 47,
   "id": "38b31285",
   "metadata": {},
   "outputs": [],
   "source": [
    "X = df[['Volume', 'Weight']]"
   ]
  },
  {
   "cell_type": "code",
   "execution_count": 48,
   "id": "3a26fc00",
   "metadata": {},
   "outputs": [
    {
     "data": {
      "text/html": [
       "<div>\n",
       "<style scoped>\n",
       "    .dataframe tbody tr th:only-of-type {\n",
       "        vertical-align: middle;\n",
       "    }\n",
       "\n",
       "    .dataframe tbody tr th {\n",
       "        vertical-align: top;\n",
       "    }\n",
       "\n",
       "    .dataframe thead th {\n",
       "        text-align: right;\n",
       "    }\n",
       "</style>\n",
       "<table border=\"1\" class=\"dataframe\">\n",
       "  <thead>\n",
       "    <tr style=\"text-align: right;\">\n",
       "      <th></th>\n",
       "      <th>Volume</th>\n",
       "      <th>Weight</th>\n",
       "    </tr>\n",
       "  </thead>\n",
       "  <tbody>\n",
       "    <tr>\n",
       "      <th>0</th>\n",
       "      <td>1.0</td>\n",
       "      <td>790</td>\n",
       "    </tr>\n",
       "    <tr>\n",
       "      <th>1</th>\n",
       "      <td>1.2</td>\n",
       "      <td>1160</td>\n",
       "    </tr>\n",
       "    <tr>\n",
       "      <th>2</th>\n",
       "      <td>1.0</td>\n",
       "      <td>929</td>\n",
       "    </tr>\n",
       "    <tr>\n",
       "      <th>3</th>\n",
       "      <td>0.9</td>\n",
       "      <td>865</td>\n",
       "    </tr>\n",
       "    <tr>\n",
       "      <th>4</th>\n",
       "      <td>1.5</td>\n",
       "      <td>1140</td>\n",
       "    </tr>\n",
       "  </tbody>\n",
       "</table>\n",
       "</div>"
      ],
      "text/plain": [
       "   Volume  Weight\n",
       "0     1.0     790\n",
       "1     1.2    1160\n",
       "2     1.0     929\n",
       "3     0.9     865\n",
       "4     1.5    1140"
      ]
     },
     "execution_count": 48,
     "metadata": {},
     "output_type": "execute_result"
    }
   ],
   "source": [
    "X.head()"
   ]
  },
  {
   "cell_type": "code",
   "execution_count": 49,
   "id": "ffb51689",
   "metadata": {},
   "outputs": [],
   "source": [
    "y = df.CO2"
   ]
  },
  {
   "cell_type": "code",
   "execution_count": 50,
   "id": "97a8c286",
   "metadata": {},
   "outputs": [
    {
     "data": {
      "text/plain": [
       "0     99\n",
       "1     95\n",
       "2     95\n",
       "3     90\n",
       "4    105\n",
       "Name: CO2, dtype: int64"
      ]
     },
     "execution_count": 50,
     "metadata": {},
     "output_type": "execute_result"
    }
   ],
   "source": [
    "y.head()"
   ]
  },
  {
   "cell_type": "code",
   "execution_count": 51,
   "id": "3d6c106e",
   "metadata": {},
   "outputs": [],
   "source": [
    "from sklearn.preprocessing import MinMaxScaler"
   ]
  },
  {
   "cell_type": "markdown",
   "id": "7ccd3381",
   "metadata": {},
   "source": [
    "- Creating object for class"
   ]
  },
  {
   "cell_type": "code",
   "execution_count": 52,
   "id": "4a1f4eab",
   "metadata": {},
   "outputs": [],
   "source": [
    "scaler = MinMaxScaler()"
   ]
  },
  {
   "cell_type": "code",
   "execution_count": 53,
   "id": "5f41c878",
   "metadata": {},
   "outputs": [],
   "source": [
    "scaledX = scaler.fit_transform(X)"
   ]
  },
  {
   "cell_type": "code",
   "execution_count": 54,
   "id": "0a1c09b8",
   "metadata": {},
   "outputs": [
    {
     "data": {
      "text/plain": [
       "array([[0.0625    , 0.        ],\n",
       "       [0.1875    , 0.38702929],\n",
       "       [0.0625    , 0.14539749],\n",
       "       [0.        , 0.07845188],\n",
       "       [0.375     , 0.36610879],\n",
       "       [0.0625    , 0.14539749],\n",
       "       [0.3125    , 0.33368201],\n",
       "       [0.375     , 0.60146444],\n",
       "       [0.375     , 0.33682008],\n",
       "       [0.4375    , 0.37656904],\n",
       "       [0.125     , 0.19874477],\n",
       "       [0.25      , 0.20920502],\n",
       "       [0.0625    , 0.33682008],\n",
       "       [0.4375    , 0.4832636 ],\n",
       "       [0.4375    , 0.56066946],\n",
       "       [0.4375    , 0.56485356],\n",
       "       [0.4375    , 0.60146444],\n",
       "       [0.8125    , 0.5125523 ],\n",
       "       [0.4375    , 0.34414226],\n",
       "       [0.6875    , 0.56276151],\n",
       "       [0.4375    , 0.83054393],\n",
       "       [0.6875    , 0.66736402],\n",
       "       [0.75      , 0.60146444],\n",
       "       [0.4375    , 0.65376569],\n",
       "       [0.6875    , 0.65376569],\n",
       "       [0.375     , 0.70606695],\n",
       "       [0.6875    , 0.73221757],\n",
       "       [0.6875    , 0.97803347],\n",
       "       [0.4375    , 0.7667364 ],\n",
       "       [0.6875    , 0.95711297],\n",
       "       [0.75      , 0.85251046],\n",
       "       [0.6875    , 1.        ],\n",
       "       [0.4375    , 0.46548117],\n",
       "       [0.4375    , 0.62761506],\n",
       "       [0.4375    , 0.64330544],\n",
       "       [1.        , 0.63284519]])"
      ]
     },
     "execution_count": 54,
     "metadata": {},
     "output_type": "execute_result"
    }
   ],
   "source": [
    "scaledX"
   ]
  },
  {
   "cell_type": "markdown",
   "id": "6598acd0",
   "metadata": {},
   "source": [
    "for regression we have import module"
   ]
  },
  {
   "cell_type": "code",
   "execution_count": 55,
   "id": "7cf8a8a4",
   "metadata": {},
   "outputs": [],
   "source": [
    "from sklearn.linear_model import LinearRegression"
   ]
  },
  {
   "cell_type": "code",
   "execution_count": 56,
   "id": "a9c40164",
   "metadata": {},
   "outputs": [],
   "source": [
    "model = LinearRegression()"
   ]
  },
  {
   "cell_type": "code",
   "execution_count": 57,
   "id": "36fbf99f",
   "metadata": {},
   "outputs": [
    {
     "data": {
      "text/plain": [
       "LinearRegression()"
      ]
     },
     "execution_count": 57,
     "metadata": {},
     "output_type": "execute_result"
    }
   ],
   "source": [
    "model.fit(scaledX, y)"
   ]
  },
  {
   "cell_type": "markdown",
   "id": "d9a8ec34",
   "metadata": {},
   "source": [
    "- Now checking score of our model"
   ]
  },
  {
   "cell_type": "code",
   "execution_count": 58,
   "id": "2c83d821",
   "metadata": {},
   "outputs": [
    {
     "data": {
      "text/plain": [
       "0.3765564043619988"
      ]
     },
     "execution_count": 58,
     "metadata": {},
     "output_type": "execute_result"
    }
   ],
   "source": [
    "model.score(scaledX, y)"
   ]
  },
  {
   "cell_type": "markdown",
   "id": "789abe3f",
   "metadata": {},
   "source": [
    "- To check prediction value on new entries"
   ]
  },
  {
   "cell_type": "code",
   "execution_count": 59,
   "id": "55162edf",
   "metadata": {},
   "outputs": [
    {
     "name": "stderr",
     "output_type": "stream",
     "text": [
      "C:\\Users\\DELL\\anaconda3\\lib\\site-packages\\sklearn\\base.py:450: UserWarning: X does not have valid feature names, but MinMaxScaler was fitted with feature names\n",
      "  warnings.warn(\n"
     ]
    },
    {
     "data": {
      "text/plain": [
       "array([[0.375     , 0.06276151]])"
      ]
     },
     "execution_count": 59,
     "metadata": {},
     "output_type": "execute_result"
    }
   ],
   "source": [
    "value = scaler.transform([[1.5, 850]])\n",
    "value"
   ]
  },
  {
   "cell_type": "code",
   "execution_count": 60,
   "id": "fe58f5d7",
   "metadata": {},
   "outputs": [
    {
     "data": {
      "text/plain": [
       "array([97.82091076])"
      ]
     },
     "execution_count": 60,
     "metadata": {},
     "output_type": "execute_result"
    }
   ],
   "source": [
    "model.predict(value)"
   ]
  },
  {
   "cell_type": "code",
   "execution_count": 75,
   "id": "03de5033",
   "metadata": {},
   "outputs": [
    {
     "name": "stdout",
     "output_type": "stream",
     "text": [
      "               0       1     2     3\n",
      "count         36      36  36.0    36\n",
      "unique        17      35  12.0    31\n",
      "top     Mercedes  Fiesta   1.6  1365\n",
      "freq           5       2  12.0     3\n"
     ]
    },
    {
     "data": {
      "image/png": "[encoded data removed]",
      "text/plain": [
       "<Figure size 432x288 with 1 Axes>"
      ]
     },
     "metadata": {
      "needs_background": "light"
     },
     "output_type": "display_data"
    }
   ],
   "source": [
    "import matplotlib.pyplot as plt\n",
    "data = df.values[:, :-1]\n",
    "\n",
    "#convert the array back to a dataframe\n",
    "dataset = pd.DataFrame(data)\n",
    "\n",
    "# summarize\n",
    "print(dataset.describe())\n",
    "\n",
    "# histograms of the variables\n",
    "plt.hist(dataset[2])\n",
    "plt.show()"
   ]
  },
  {
   "cell_type": "markdown",
   "id": "cd9cbd3a",
   "metadata": {},
   "source": [
    "# 2. Standardization"
   ]
  },
  {
   "cell_type": "markdown",
   "id": "d1829d88",
   "metadata": {},
   "source": [
    "\n",
    "- The standardization method uses this formula:"
   ]
  },
  {
   "cell_type": "raw",
   "id": "853e00df",
   "metadata": {},
   "source": [
    "z = (x - u) / s"
   ]
  },
  {
   "cell_type": "raw",
   "id": "353d1dd1",
   "metadata": {},
   "source": [
    "Where,\n",
    "z is the new value, \n",
    "X is the original value, \n",
    "u is the mean\n",
    "s is the standard deviation."
   ]
  },
  {
   "cell_type": "raw",
   "id": "3a0b8ddf",
   "metadata": {},
   "source": [
    "Mean is calculated as\n",
    "mean = sum(x) / count(x)"
   ]
  },
  {
   "cell_type": "raw",
   "id": "b7056f6d",
   "metadata": {},
   "source": [
    "standard_deviation is calculated as:\n",
    "\n",
    "standard_deviation = sqrt( sum( (x – mean)^2 ) / count(x))"
   ]
  },
  {
   "cell_type": "markdown",
   "id": "4f38a640",
   "metadata": {},
   "source": [
    "# StandardScaler using Scikit-learn"
   ]
  },
  {
   "cell_type": "markdown",
   "id": "9291e7d9",
   "metadata": {},
   "source": [
    "- Importing reuired module for operations"
   ]
  },
  {
   "cell_type": "code",
   "execution_count": 62,
   "id": "a3604827",
   "metadata": {},
   "outputs": [],
   "source": [
    "from sklearn.preprocessing import StandardScaler"
   ]
  },
  {
   "cell_type": "code",
   "execution_count": 63,
   "id": "44d75ef6",
   "metadata": {},
   "outputs": [
    {
     "data": {
      "text/html": [
       "<div>\n",
       "<style scoped>\n",
       "    .dataframe tbody tr th:only-of-type {\n",
       "        vertical-align: middle;\n",
       "    }\n",
       "\n",
       "    .dataframe tbody tr th {\n",
       "        vertical-align: top;\n",
       "    }\n",
       "\n",
       "    .dataframe thead th {\n",
       "        text-align: right;\n",
       "    }\n",
       "</style>\n",
       "<table border=\"1\" class=\"dataframe\">\n",
       "  <thead>\n",
       "    <tr style=\"text-align: right;\">\n",
       "      <th></th>\n",
       "      <th>Volume</th>\n",
       "      <th>Weight</th>\n",
       "    </tr>\n",
       "  </thead>\n",
       "  <tbody>\n",
       "    <tr>\n",
       "      <th>0</th>\n",
       "      <td>1.0</td>\n",
       "      <td>790</td>\n",
       "    </tr>\n",
       "    <tr>\n",
       "      <th>1</th>\n",
       "      <td>1.2</td>\n",
       "      <td>1160</td>\n",
       "    </tr>\n",
       "    <tr>\n",
       "      <th>2</th>\n",
       "      <td>1.0</td>\n",
       "      <td>929</td>\n",
       "    </tr>\n",
       "    <tr>\n",
       "      <th>3</th>\n",
       "      <td>0.9</td>\n",
       "      <td>865</td>\n",
       "    </tr>\n",
       "    <tr>\n",
       "      <th>4</th>\n",
       "      <td>1.5</td>\n",
       "      <td>1140</td>\n",
       "    </tr>\n",
       "  </tbody>\n",
       "</table>\n",
       "</div>"
      ],
      "text/plain": [
       "   Volume  Weight\n",
       "0     1.0     790\n",
       "1     1.2    1160\n",
       "2     1.0     929\n",
       "3     0.9     865\n",
       "4     1.5    1140"
      ]
     },
     "execution_count": 63,
     "metadata": {},
     "output_type": "execute_result"
    }
   ],
   "source": [
    "X.head()"
   ]
  },
  {
   "cell_type": "code",
   "execution_count": 64,
   "id": "81745398",
   "metadata": {},
   "outputs": [],
   "source": [
    "scaler = StandardScaler()"
   ]
  },
  {
   "cell_type": "code",
   "execution_count": 65,
   "id": "f5d91938",
   "metadata": {},
   "outputs": [
    {
     "data": {
      "text/plain": [
       "array([[-1.59336644, -2.10389253],\n",
       "       [-1.07190106, -0.55407235],\n",
       "       [-1.59336644, -1.52166278],\n",
       "       [-1.85409913, -1.78973979],\n",
       "       [-0.28970299, -0.63784641],\n",
       "       [-1.59336644, -1.52166278],\n",
       "       [-0.55043568, -0.76769621],\n",
       "       [-0.28970299,  0.3046118 ],\n",
       "       [-0.28970299, -0.7551301 ],\n",
       "       [-0.0289703 , -0.59595938],\n",
       "       [-1.33263375, -1.30803892],\n",
       "       [-0.81116837, -1.26615189],\n",
       "       [-1.59336644, -0.7551301 ],\n",
       "       [-0.0289703 , -0.16871166],\n",
       "       [-0.0289703 ,  0.14125238],\n",
       "       [-0.0289703 ,  0.15800719],\n",
       "       [-0.0289703 ,  0.3046118 ],\n",
       "       [ 1.53542584, -0.05142797],\n",
       "       [-0.0289703 , -0.72580918],\n",
       "       [ 1.01396046,  0.14962979],\n",
       "       [-0.0289703 ,  1.2219378 ],\n",
       "       [ 1.01396046,  0.5685001 ],\n",
       "       [ 1.27469315,  0.3046118 ],\n",
       "       [-0.0289703 ,  0.51404696],\n",
       "       [ 1.01396046,  0.51404696],\n",
       "       [-0.28970299,  0.72348212],\n",
       "       [ 1.01396046,  0.8281997 ],\n",
       "       [ 1.01396046,  1.81254495],\n",
       "       [-0.0289703 ,  0.96642691],\n",
       "       [ 1.01396046,  1.72877089],\n",
       "       [ 1.27469315,  1.30990057],\n",
       "       [ 1.01396046,  1.90050772],\n",
       "       [-0.0289703 , -0.23991961],\n",
       "       [-0.0289703 ,  0.40932938],\n",
       "       [-0.0289703 ,  0.47215993],\n",
       "       [ 2.31762392,  0.4302729 ]])"
      ]
     },
     "execution_count": 65,
     "metadata": {},
     "output_type": "execute_result"
    }
   ],
   "source": [
    "scaleX = scaler.fit_transform(X)\n",
    "scaleX"
   ]
  },
  {
   "cell_type": "code",
   "execution_count": 66,
   "id": "8bdaf8b3",
   "metadata": {},
   "outputs": [],
   "source": [
    "from sklearn.linear_model import LinearRegression"
   ]
  },
  {
   "cell_type": "code",
   "execution_count": 67,
   "id": "53c70e6b",
   "metadata": {},
   "outputs": [],
   "source": [
    "model = LinearRegression()"
   ]
  },
  {
   "cell_type": "code",
   "execution_count": 68,
   "id": "e07870fc",
   "metadata": {},
   "outputs": [
    {
     "data": {
      "text/plain": [
       "LinearRegression()"
      ]
     },
     "execution_count": 68,
     "metadata": {},
     "output_type": "execute_result"
    }
   ],
   "source": [
    "model.fit(scaleX, y)"
   ]
  },
  {
   "cell_type": "code",
   "execution_count": 69,
   "id": "01ea9d58",
   "metadata": {},
   "outputs": [
    {
     "name": "stderr",
     "output_type": "stream",
     "text": [
      "C:\\Users\\DELL\\anaconda3\\lib\\site-packages\\sklearn\\base.py:450: UserWarning: X does not have valid feature names, but StandardScaler was fitted with feature names\n",
      "  warnings.warn(\n"
     ]
    }
   ],
   "source": [
    "scaled = scaler.transform([[1.3, 2300]])"
   ]
  },
  {
   "cell_type": "code",
   "execution_count": 70,
   "id": "f7897c86",
   "metadata": {},
   "outputs": [
    {
     "data": {
      "text/plain": [
       "array([[-0.81116837,  4.22104928]])"
      ]
     },
     "execution_count": 70,
     "metadata": {},
     "output_type": "execute_result"
    }
   ],
   "source": [
    "scaled"
   ]
  },
  {
   "cell_type": "markdown",
   "id": "3f37f974",
   "metadata": {},
   "source": [
    "- Prediction of new value is : "
   ]
  },
  {
   "cell_type": "code",
   "execution_count": 71,
   "id": "7f92839a",
   "metadata": {},
   "outputs": [
    {
     "data": {
      "text/plain": [
       "array([107.2087328])"
      ]
     },
     "execution_count": 71,
     "metadata": {},
     "output_type": "execute_result"
    }
   ],
   "source": [
    "model.predict(scaled)"
   ]
  },
  {
   "cell_type": "code",
   "execution_count": 72,
   "id": "e2f47488",
   "metadata": {},
   "outputs": [
    {
     "name": "stdout",
     "output_type": "stream",
     "text": [
      "               0       1     2     3\n",
      "count         36      36  36.0    36\n",
      "unique        17      35  12.0    31\n",
      "top     Mercedes  Fiesta   1.6  1365\n",
      "freq           5       2  12.0     3\n"
     ]
    },
    {
     "data": {
      "image/png": "[encoded data removed]",
      "text/plain": [
       "<Figure size 432x288 with 1 Axes>"
      ]
     },
     "metadata": {
      "needs_background": "light"
     },
     "output_type": "display_data"
    }
   ],
   "source": [
    "import matplotlib.pyplot as plt\n",
    "data = df.values[:, :-1]\n",
    "\n",
    "#convert the array back to a dataframe\n",
    "dataset = pd.DataFrame(data)\n",
    "\n",
    "# summarize\n",
    "print(dataset.describe())\n",
    "\n",
    "# histograms of the variables\n",
    "plt.hist(dataset)\n",
    "plt.show()"
   ]
  },
  {
   "cell_type": "code",
   "execution_count": 80,
   "id": "3e453093",
   "metadata": {},
   "outputs": [
    {
     "data": {
      "image/png": "[encoded data removed]",
      "text/plain": [
       "<Figure size 432x288 with 4 Axes>"
      ]
     },
     "metadata": {
      "needs_background": "light"
     },
     "output_type": "display_data"
    }
   ],
   "source": [
    "#Plotting first subplot\n",
    "plt.subplot(2, 3, 1)\n",
    "plt.plot(dataset[0])\n",
    "\n",
    "\n",
    "#Plotting second subplot\n",
    "plt.subplot(2, 3, 2)\n",
    "plt.plot(dataset[1])\n",
    "\n",
    "\n",
    "#Plotting third subplot\n",
    "plt.subplot(2, 3, 3)\n",
    "plt.plot(dataset[2])\n",
    "s\n",
    "#Plotting fourth subplot\n",
    "plt.subplot(2, 3, 4)\n",
    "plt.plot(dataset[3])\n",
    "\n",
    "plt.show()"
   ]
  }
 ],
 "metadata": {
  "kernelspec": {
   "display_name": "Python 3 (ipykernel)",
   "language": "python",
   "name": "python3"
  },
  "language_info": {
   "codemirror_mode": {
    "name": "ipython",
    "version": 3
   },
   "file_extension": ".py",
   "mimetype": "text/x-python",
   "name": "python",
   "nbconvert_exporter": "python",
   "pygments_lexer": "ipython3",
   "version": "3.9.12"
  }
 },
 "nbformat": 4,
 "nbformat_minor": 5
}
