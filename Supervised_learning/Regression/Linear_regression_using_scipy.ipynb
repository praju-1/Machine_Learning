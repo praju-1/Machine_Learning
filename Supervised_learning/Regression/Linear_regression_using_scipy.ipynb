{
 "cells": [
  {
   "cell_type": "markdown",
   "id": "453e3e17",
   "metadata": {},
   "source": [
    "- SciPy is a scientific computation library that uses NumPy underneath.\n",
    "\n",
    "- SciPy stands for Scientific Python."
   ]
  },
  {
   "cell_type": "markdown",
   "id": "a111d1a7",
   "metadata": {},
   "source": [
    "- Calculate a linear least-squares regression for two sets of measurements."
   ]
  },
  {
   "cell_type": "code",
   "execution_count": 2,
   "id": "76e4bd02",
   "metadata": {},
   "outputs": [],
   "source": [
    "x = [5,7,8,7,2,17,2,9,4,11,12,9,6]\n",
    "y = [99,86,87,88,111,86,103,87,94,78,77,85,86]"
   ]
  },
  {
   "cell_type": "markdown",
   "id": "24b69b74",
   "metadata": {},
   "source": [
    "- Scatter plot of true values"
   ]
  },
  {
   "cell_type": "code",
   "execution_count": 16,
   "id": "f8c6d908",
   "metadata": {},
   "outputs": [
    {
     "data": {
      "image/png": "[encoded data removed]",
      "text/plain": [
       "<Figure size 432x288 with 1 Axes>"
      ]
     },
     "metadata": {
      "needs_background": "light"
     },
     "output_type": "display_data"
    }
   ],
   "source": [
    "import matplotlib.pyplot as plt\n",
    "plt.scatter(x, y)\n",
    "plt.show()"
   ]
  },
  {
   "cell_type": "code",
   "execution_count": 17,
   "id": "841df026",
   "metadata": {},
   "outputs": [],
   "source": [
    "#Importing required modules\n",
    "from scipy import stats"
   ]
  },
  {
   "cell_type": "markdown",
   "id": "d3d341e3",
   "metadata": {},
   "source": [
    "- scipy module return slope, intercept, rvalue, pvalue and standard value of estimated slope"
   ]
  },
  {
   "cell_type": "code",
   "execution_count": 15,
   "id": "4381d393",
   "metadata": {},
   "outputs": [
    {
     "name": "stdout",
     "output_type": "stream",
     "text": [
      "\n",
      "Predicted value is : \n",
      " [94.3495217071376, 90.84694628403238, 89.09565857247976, 90.84694628403238, 99.60338484179543, 73.33406916850626, 99.60338484179543, 87.34437086092716, 96.10080941869022, 83.84179543782193, 82.09050772626932, 87.34437086092716, 92.59823399558499]\n"
     ]
    }
   ],
   "source": [
    "slope, intercept, r, p, std_err = stats.linregress(x, y)\n",
    "\n",
    "#Defining function to return values\n",
    "def prediction(x):\n",
    "  return slope * x + intercept\n",
    "\n",
    "mymodel = list(map(prediction, x))\n",
    "\n",
    "#This return predicted values\n",
    "print(\"\\nPredicted value is : \\n\", mymodel)\n"
   ]
  },
  {
   "cell_type": "markdown",
   "id": "ed5dad3f",
   "metadata": {},
   "source": [
    "- We can access all value"
   ]
  },
  {
   "cell_type": "code",
   "execution_count": 9,
   "id": "14d63952",
   "metadata": {},
   "outputs": [
    {
     "name": "stdout",
     "output_type": "stream",
     "text": [
      "\n",
      "Slope is :  -1.7512877115526118\n"
     ]
    }
   ],
   "source": [
    "print(\"\\nSlope is : \", slope)"
   ]
  },
  {
   "cell_type": "code",
   "execution_count": 10,
   "id": "2a3484a1",
   "metadata": {},
   "outputs": [
    {
     "name": "stdout",
     "output_type": "stream",
     "text": [
      "\n",
      "Intercept of given points is :  103.10596026490066\n"
     ]
    }
   ],
   "source": [
    "print(\"\\nIntercept of given points is : \", intercept)"
   ]
  },
  {
   "cell_type": "code",
   "execution_count": 11,
   "id": "9c81737b",
   "metadata": {},
   "outputs": [
    {
     "name": "stdout",
     "output_type": "stream",
     "text": [
      "\n",
      "rvalue is :  -0.758591524376155\n"
     ]
    }
   ],
   "source": [
    "print(\"\\nrvalue is : \", r)"
   ]
  },
  {
   "cell_type": "code",
   "execution_count": 12,
   "id": "51bec17e",
   "metadata": {},
   "outputs": [
    {
     "name": "stdout",
     "output_type": "stream",
     "text": [
      "\n",
      "pvalue is :  0.0026468739224561064\n"
     ]
    }
   ],
   "source": [
    "print(\"\\npvalue is : \", p)"
   ]
  },
  {
   "cell_type": "code",
   "execution_count": 14,
   "id": "a56faa89",
   "metadata": {},
   "outputs": [
    {
     "name": "stdout",
     "output_type": "stream",
     "text": [
      "\n",
      "Standard error is :  0.453536157607742\n"
     ]
    }
   ],
   "source": [
    "print(\"\\nStandard error is : \", std_err)"
   ]
  },
  {
   "cell_type": "markdown",
   "id": "65091fa2",
   "metadata": {},
   "source": [
    "- Now we can plot using predicted value for our regression"
   ]
  },
  {
   "cell_type": "code",
   "execution_count": 8,
   "id": "c2fb376c",
   "metadata": {},
   "outputs": [
    {
     "data": {
      "image/png": "[encoded data removed]",
      "text/plain": [
       "<Figure size 432x288 with 1 Axes>"
      ]
     },
     "metadata": {
      "needs_background": "light"
     },
     "output_type": "display_data"
    }
   ],
   "source": [
    "plt.scatter(x, y)\n",
    "plt.plot(x, mymodel, color = \"r\")\n",
    "plt.show()"
   ]
  }
 ],
 "metadata": {
  "kernelspec": {
   "display_name": "Python 3 (ipykernel)",
   "language": "python",
   "name": "python3"
  },
  "language_info": {
   "codemirror_mode": {
    "name": "ipython",
    "version": 3
   },
   "file_extension": ".py",
   "mimetype": "text/x-python",
   "name": "python",
   "nbconvert_exporter": "python",
   "pygments_lexer": "ipython3",
   "version": "3.9.12"
  }
 },
 "nbformat": 4,
 "nbformat_minor": 5
}
