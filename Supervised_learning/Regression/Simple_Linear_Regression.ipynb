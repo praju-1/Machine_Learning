{
 "cells": [
  {
   "cell_type": "markdown",
   "id": "2a691b93",
   "metadata": {},
   "source": [
    "# Introduction"
   ]
  },
  {
   "cell_type": "markdown",
   "id": "3034dfc5",
   "metadata": {},
   "source": [
    "- Simple linear regression is an approach for predicting a response using a single feature."
   ]
  },
  {
   "cell_type": "markdown",
   "id": "9526797d",
   "metadata": {},
   "source": [
    "- It is assumed that the two variables are linearly related. \n",
    "- Hence, we try to find a linear function that predicts the response value(y) as accurately as possible as a function of the feature or independent variable(x)."
   ]
  },
  {
   "cell_type": "markdown",
   "id": "77e0522a",
   "metadata": {},
   "source": [
    "- Simple Linear regression algorithm has mainly two objectives:\n",
    "    1. Model the relationship between the two variables\n",
    "    2. Forecasting new observations."
   ]
  },
  {
   "cell_type": "markdown",
   "id": "b0b9e70a",
   "metadata": {},
   "source": [
    "# Implementation of Simple Linear Regression Algorithm using Python"
   ]
  },
  {
   "cell_type": "markdown",
   "id": "3a3be347",
   "metadata": {},
   "source": [
    "-  Let us see if the data we collected could be used in a linear regression:"
   ]
  },
  {
   "cell_type": "code",
   "execution_count": 6,
   "id": "d242479b",
   "metadata": {},
   "outputs": [],
   "source": [
    "x = [0, 1, 2, 3, 4, 5, 6, 7, 8, 9]\n",
    "y = [1, 3, 2, 5, 7, 8, 8, 9, 10, 12]"
   ]
  },
  {
   "cell_type": "markdown",
   "id": "12b17b3a",
   "metadata": {},
   "source": [
    "# Start by drawing a scatter plot:"
   ]
  },
  {
   "cell_type": "code",
   "execution_count": 7,
   "id": "831fb33b",
   "metadata": {},
   "outputs": [
    {
     "data": {
      "image/png": "[encoded data removed]",
      "text/plain": [
       "<Figure size 432x288 with 1 Axes>"
      ]
     },
     "metadata": {
      "needs_background": "light"
     },
     "output_type": "display_data"
    }
   ],
   "source": [
    "import matplotlib.pyplot as plt\n",
    "plt.scatter(x, y)\n",
    "plt.show()"
   ]
  },
  {
   "cell_type": "markdown",
   "id": "3f495bec",
   "metadata": {},
   "source": [
    "- Now, the task is to find a line that fits best in the above scatter plot"
   ]
  },
  {
   "cell_type": "markdown",
   "id": "16a7e0b7",
   "metadata": {},
   "source": [
    "- This line is called a regression line."
   ]
  },
  {
   "cell_type": "raw",
   "id": "699cceb4",
   "metadata": {},
   "source": [
    "The equation of regression line is represented as:\n",
    "    \n",
    "y = mx + c\n",
    "\n",
    "Where\n",
    "y = prediction\n",
    "m = coeffiecient / slope\n",
    "x = input data\n",
    "c = intercept"
   ]
  },
  {
   "cell_type": "markdown",
   "id": "0eb34c05",
   "metadata": {},
   "source": [
    "- Now we have to find the values for above equation"
   ]
  },
  {
   "cell_type": "raw",
   "id": "e1b8c254",
   "metadata": {},
   "source": [
    "m = nΣxy - ΣxΣy / nΣx^2 - (Σx)^2\n",
    "c = Σy - mΣx / n"
   ]
  },
  {
   "cell_type": "markdown",
   "id": "5f97281f",
   "metadata": {},
   "source": [
    "- By solving above equations we get our predicted y"
   ]
  },
  {
   "cell_type": "code",
   "execution_count": 16,
   "id": "d9742c9a",
   "metadata": {},
   "outputs": [],
   "source": [
    "m = 1.1696\n",
    "c = 1.236\n",
    "predict_y = [1.236, 2.406, 3.575, 4.745, 5.915, 7.084, 8.254, 9.424, 10.593, 11.763]"
   ]
  },
  {
   "cell_type": "markdown",
   "id": "f5d22368",
   "metadata": {},
   "source": [
    "- Now We plot our regression line using plot function"
   ]
  },
  {
   "cell_type": "code",
   "execution_count": 18,
   "id": "700df91e",
   "metadata": {},
   "outputs": [
    {
     "data": {
      "image/png": "[encoded data removed]",
      "text/plain": [
       "<Figure size 432x288 with 1 Axes>"
      ]
     },
     "metadata": {
      "needs_background": "light"
     },
     "output_type": "display_data"
    }
   ],
   "source": [
    "import matplotlib.pyplot as plt\n",
    "plt.scatter(x, y)\n",
    "plt.plot(x, predict_y, color = 'r')\n",
    "plt.show()"
   ]
  }
 ],
 "metadata": {
  "kernelspec": {
   "display_name": "Python 3 (ipykernel)",
   "language": "python",
   "name": "python3"
  },
  "language_info": {
   "codemirror_mode": {
    "name": "ipython",
    "version": 3
   },
   "file_extension": ".py",
   "mimetype": "text/x-python",
   "name": "python",
   "nbconvert_exporter": "python",
   "pygments_lexer": "ipython3",
   "version": "3.9.12"
  }
 },
 "nbformat": 4,
 "nbformat_minor": 5
}
