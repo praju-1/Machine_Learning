{
 "cells": [
  {
   "cell_type": "markdown",
   "id": "132d93ef",
   "metadata": {},
   "source": [
    "# Introduction"
   ]
  },
  {
   "cell_type": "markdown",
   "id": "e1369df0",
   "metadata": {},
   "source": [
    "- Polynomial Regression is a regression algorithm that models the relationship between a dependent(y) and independent variable(x) as nth degree polynomial. "
   ]
  },
  {
   "cell_type": "markdown",
   "id": "d843556d",
   "metadata": {},
   "source": [
    "The Polynomial Regression equation is given below:"
   ]
  },
  {
   "cell_type": "raw",
   "id": "67dd85b6",
   "metadata": {},
   "source": [
    "y= b0+b1x1+ b2x1^2+ b2x1^3+...... bnx1^n\n",
    "\n",
    "here n = degree of polynomial"
   ]
  },
  {
   "cell_type": "markdown",
   "id": "3ebbf9e0",
   "metadata": {},
   "source": [
    "- Let us take example"
   ]
  },
  {
   "cell_type": "code",
   "execution_count": 3,
   "id": "f171c977",
   "metadata": {},
   "outputs": [
    {
     "data": {
      "image/png": "[encoded data removed]",
      "text/plain": [
       "<Figure size 432x288 with 1 Axes>"
      ]
     },
     "metadata": {
      "needs_background": "light"
     },
     "output_type": "display_data"
    }
   ],
   "source": [
    "import matplotlib.pyplot as plt\n",
    "\n",
    "x = [1,2,3,5,6,7,8,9,10,12,13,14,15,16,18,19,21,22]\n",
    "y = [100,90,80,60,60,55,60,65,70,70,75,76,78,79,90,99,99,100]\n",
    "\n",
    "plt.scatter(x, y)\n",
    "plt.show()"
   ]
  },
  {
   "cell_type": "markdown",
   "id": "2a8f4a4b",
   "metadata": {},
   "source": [
    "We have use numpy method for this\n",
    "1. polyfit() :\n",
    "- is a method that fits the data within a polynomial function. That is, it least squares the function polynomial fit\n",
    "-  This function returns a coefficient vector p that lessens the squared error in the deg, deg-1,…0 order.\n",
    "\n",
    "2. poly1d() :\n",
    "-  function helps to define a polynomial function. It makes it easy to apply “natural operations” on polynomials.\n"
   ]
  },
  {
   "cell_type": "markdown",
   "id": "c21bd1ac",
   "metadata": {},
   "source": [
    "# polynomial regression using Numpy"
   ]
  },
  {
   "cell_type": "code",
   "execution_count": 6,
   "id": "b672f632",
   "metadata": {},
   "outputs": [],
   "source": [
    "import numpy as np"
   ]
  },
  {
   "cell_type": "code",
   "execution_count": 7,
   "id": "eb76c3aa",
   "metadata": {},
   "outputs": [],
   "source": [
    "predicted_y = np.poly1d(np.polyfit(x, y, 3))"
   ]
  },
  {
   "cell_type": "code",
   "execution_count": 8,
   "id": "caab9a0e",
   "metadata": {},
   "outputs": [
    {
     "name": "stdout",
     "output_type": "stream",
     "text": [
      "Our coefficient is : \n",
      "\n"
     ]
    },
    {
     "data": {
      "text/plain": [
       "poly1d([-3.03208795e-02,  1.34333191e+00, -1.55383039e+01,  1.13768037e+02])"
      ]
     },
     "execution_count": 8,
     "metadata": {},
     "output_type": "execute_result"
    }
   ],
   "source": [
    "print(\"Our coefficient is : \\n\")\n",
    "predicted_y"
   ]
  },
  {
   "cell_type": "markdown",
   "id": "bf8b7b3d",
   "metadata": {},
   "source": [
    "To take continuous value we use"
   ]
  },
  {
   "cell_type": "code",
   "execution_count": 9,
   "id": "590e7ce8",
   "metadata": {},
   "outputs": [
    {
     "data": {
      "text/plain": [
       "array([ 1.        ,  1.21212121,  1.42424242,  1.63636364,  1.84848485,\n",
       "        2.06060606,  2.27272727,  2.48484848,  2.6969697 ,  2.90909091,\n",
       "        3.12121212,  3.33333333,  3.54545455,  3.75757576,  3.96969697,\n",
       "        4.18181818,  4.39393939,  4.60606061,  4.81818182,  5.03030303,\n",
       "        5.24242424,  5.45454545,  5.66666667,  5.87878788,  6.09090909,\n",
       "        6.3030303 ,  6.51515152,  6.72727273,  6.93939394,  7.15151515,\n",
       "        7.36363636,  7.57575758,  7.78787879,  8.        ,  8.21212121,\n",
       "        8.42424242,  8.63636364,  8.84848485,  9.06060606,  9.27272727,\n",
       "        9.48484848,  9.6969697 ,  9.90909091, 10.12121212, 10.33333333,\n",
       "       10.54545455, 10.75757576, 10.96969697, 11.18181818, 11.39393939,\n",
       "       11.60606061, 11.81818182, 12.03030303, 12.24242424, 12.45454545,\n",
       "       12.66666667, 12.87878788, 13.09090909, 13.3030303 , 13.51515152,\n",
       "       13.72727273, 13.93939394, 14.15151515, 14.36363636, 14.57575758,\n",
       "       14.78787879, 15.        , 15.21212121, 15.42424242, 15.63636364,\n",
       "       15.84848485, 16.06060606, 16.27272727, 16.48484848, 16.6969697 ,\n",
       "       16.90909091, 17.12121212, 17.33333333, 17.54545455, 17.75757576,\n",
       "       17.96969697, 18.18181818, 18.39393939, 18.60606061, 18.81818182,\n",
       "       19.03030303, 19.24242424, 19.45454545, 19.66666667, 19.87878788,\n",
       "       20.09090909, 20.3030303 , 20.51515152, 20.72727273, 20.93939394,\n",
       "       21.15151515, 21.36363636, 21.57575758, 21.78787879, 22.        ])"
      ]
     },
     "execution_count": 9,
     "metadata": {},
     "output_type": "execute_result"
    }
   ],
   "source": [
    "line = np.linspace(1,22,100)\n",
    "line"
   ]
  },
  {
   "cell_type": "markdown",
   "id": "5dcaf3a7",
   "metadata": {},
   "source": [
    "- to get coefficient for each number we use"
   ]
  },
  {
   "cell_type": "code",
   "execution_count": 10,
   "id": "7581d29e",
   "metadata": {},
   "outputs": [
    {
     "data": {
      "text/plain": [
       "array([99.54274393, 96.85340483, 94.27503108, 91.80588631, 89.44423412,\n",
       "       87.18833813, 85.03646197, 82.98686925, 81.03782359, 79.18758861,\n",
       "       77.43442791, 75.77660513, 74.21238388, 72.74002778, 71.35780044,\n",
       "       70.06396549, 68.85678653, 67.7345272 , 66.69545109, 65.73782185,\n",
       "       64.85990307, 64.05995838, 63.3362514 , 62.68704574, 62.11060503,\n",
       "       61.60519287, 61.1690729 , 60.80050871, 60.49776394, 60.2591022 ,\n",
       "       60.08278711, 59.96708229, 59.91025135, 59.91055791, 59.96626559,\n",
       "       60.07563801, 60.23693878, 60.44843152, 60.70837986, 61.0150474 ,\n",
       "       61.36669776, 61.76159458, 62.19800145, 62.674182  , 63.18839984,\n",
       "       63.7389186 , 64.3240019 , 64.94191334, 65.59091655, 66.26927514,\n",
       "       66.97525274, 67.70711296, 68.46311941, 69.24153572, 70.04062551,\n",
       "       70.85865239, 71.69387997, 72.54457188, 73.40899174, 74.28540316,\n",
       "       75.17206976, 76.06725515, 76.96922297, 77.87623681, 78.78656031,\n",
       "       79.69845707, 80.61019072, 81.52002487, 82.42622315, 83.32704916,\n",
       "       84.22076654, 85.10563888, 85.97992982, 86.84190297, 87.68982195,\n",
       "       88.52195037, 89.33655186, 90.13189003, 90.90622849, 91.65783088,\n",
       "       92.38496079, 93.08588186, 93.7588577 , 94.40215193, 95.01402816,\n",
       "       95.59275001, 96.13658111, 96.64378506, 97.11262549, 97.54136601,\n",
       "       97.92827025, 98.27160181, 98.56962432, 98.82060139, 99.02279665,\n",
       "       99.17447371, 99.27389618, 99.31932769, 99.30903186, 99.24127229])"
      ]
     },
     "execution_count": 10,
     "metadata": {},
     "output_type": "execute_result"
    }
   ],
   "source": [
    "predicted_y(line)"
   ]
  },
  {
   "cell_type": "code",
   "execution_count": 15,
   "id": "4107aaf7",
   "metadata": {},
   "outputs": [],
   "source": [
    "model = predicted_y(line)"
   ]
  },
  {
   "cell_type": "code",
   "execution_count": 17,
   "id": "73acc48f",
   "metadata": {},
   "outputs": [
    {
     "data": {
      "image/png": "[encoded data removed]",
      "text/plain": [
       "<Figure size 432x288 with 1 Axes>"
      ]
     },
     "metadata": {
      "needs_background": "light"
     },
     "output_type": "display_data"
    }
   ],
   "source": [
    "plt.scatter(x, y)\n",
    "plt.plot(line, model, color = \"r\")\n",
    "plt.show()"
   ]
  },
  {
   "cell_type": "code",
   "execution_count": 1,
   "id": "b8503840",
   "metadata": {},
   "outputs": [],
   "source": [
    "from sklearn.metrics import r2_score"
   ]
  },
  {
   "cell_type": "code",
   "execution_count": 14,
   "id": "5cca0e7d",
   "metadata": {},
   "outputs": [],
   "source": [
    "x_predicted = predicted_y(x)"
   ]
  },
  {
   "cell_type": "code",
   "execution_count": 15,
   "id": "ee430594",
   "metadata": {},
   "outputs": [
    {
     "data": {
      "text/plain": [
       "0.9432150416451027"
      ]
     },
     "execution_count": 15,
     "metadata": {},
     "output_type": "execute_result"
    }
   ],
   "source": [
    "r2_score(y, x_predicted)"
   ]
  },
  {
   "cell_type": "markdown",
   "id": "34f107e6",
   "metadata": {},
   "source": [
    "# polynomial regression using sklearn"
   ]
  },
  {
   "cell_type": "markdown",
   "id": "757af2ab",
   "metadata": {},
   "source": [
    "- For using this method we have convert our data into dataframe with the help of pandas"
   ]
  },
  {
   "cell_type": "code",
   "execution_count": 16,
   "id": "96133709",
   "metadata": {},
   "outputs": [],
   "source": [
    "x = [1,2,3,5,6,7,8,9,10,12,13,14,15,16,18,19,21,22]\n",
    "y = [100,90,80,60,60,55,60,65,70,70,75,76,78,79,90,99,99,100]"
   ]
  },
  {
   "cell_type": "code",
   "execution_count": 17,
   "id": "98258ce9",
   "metadata": {},
   "outputs": [],
   "source": [
    "import pandas as pd"
   ]
  },
  {
   "cell_type": "code",
   "execution_count": 20,
   "id": "be6ca65e",
   "metadata": {},
   "outputs": [
    {
     "data": {
      "text/plain": [
       "0      1\n",
       "1      2\n",
       "2      3\n",
       "3      5\n",
       "4      6\n",
       "5      7\n",
       "6      8\n",
       "7      9\n",
       "8     10\n",
       "9     12\n",
       "10    13\n",
       "11    14\n",
       "12    15\n",
       "13    16\n",
       "14    18\n",
       "15    19\n",
       "16    21\n",
       "17    22\n",
       "Name: Time, dtype: int64"
      ]
     },
     "execution_count": 20,
     "metadata": {},
     "output_type": "execute_result"
    }
   ],
   "source": [
    "s1 = pd.Series(x, name = \"Time\")\n",
    "s1"
   ]
  },
  {
   "cell_type": "code",
   "execution_count": 21,
   "id": "35159e8b",
   "metadata": {},
   "outputs": [
    {
     "data": {
      "text/plain": [
       "0     100\n",
       "1      90\n",
       "2      80\n",
       "3      60\n",
       "4      60\n",
       "5      55\n",
       "6      60\n",
       "7      65\n",
       "8      70\n",
       "9      70\n",
       "10     75\n",
       "11     76\n",
       "12     78\n",
       "13     79\n",
       "14     90\n",
       "15     99\n",
       "16     99\n",
       "17    100\n",
       "Name: Speed, dtype: int64"
      ]
     },
     "execution_count": 21,
     "metadata": {},
     "output_type": "execute_result"
    }
   ],
   "source": [
    "s2 = pd.Series(y, name = \"Speed\")\n",
    "s2"
   ]
  },
  {
   "cell_type": "code",
   "execution_count": 23,
   "id": "42d0696a",
   "metadata": {},
   "outputs": [
    {
     "data": {
      "text/html": [
       "<div>\n",
       "<style scoped>\n",
       "    .dataframe tbody tr th:only-of-type {\n",
       "        vertical-align: middle;\n",
       "    }\n",
       "\n",
       "    .dataframe tbody tr th {\n",
       "        vertical-align: top;\n",
       "    }\n",
       "\n",
       "    .dataframe thead th {\n",
       "        text-align: right;\n",
       "    }\n",
       "</style>\n",
       "<table border=\"1\" class=\"dataframe\">\n",
       "  <thead>\n",
       "    <tr style=\"text-align: right;\">\n",
       "      <th></th>\n",
       "      <th>Time</th>\n",
       "      <th>Speed</th>\n",
       "    </tr>\n",
       "  </thead>\n",
       "  <tbody>\n",
       "    <tr>\n",
       "      <th>0</th>\n",
       "      <td>1</td>\n",
       "      <td>100</td>\n",
       "    </tr>\n",
       "    <tr>\n",
       "      <th>1</th>\n",
       "      <td>2</td>\n",
       "      <td>90</td>\n",
       "    </tr>\n",
       "    <tr>\n",
       "      <th>2</th>\n",
       "      <td>3</td>\n",
       "      <td>80</td>\n",
       "    </tr>\n",
       "    <tr>\n",
       "      <th>3</th>\n",
       "      <td>5</td>\n",
       "      <td>60</td>\n",
       "    </tr>\n",
       "    <tr>\n",
       "      <th>4</th>\n",
       "      <td>6</td>\n",
       "      <td>60</td>\n",
       "    </tr>\n",
       "    <tr>\n",
       "      <th>5</th>\n",
       "      <td>7</td>\n",
       "      <td>55</td>\n",
       "    </tr>\n",
       "    <tr>\n",
       "      <th>6</th>\n",
       "      <td>8</td>\n",
       "      <td>60</td>\n",
       "    </tr>\n",
       "    <tr>\n",
       "      <th>7</th>\n",
       "      <td>9</td>\n",
       "      <td>65</td>\n",
       "    </tr>\n",
       "    <tr>\n",
       "      <th>8</th>\n",
       "      <td>10</td>\n",
       "      <td>70</td>\n",
       "    </tr>\n",
       "    <tr>\n",
       "      <th>9</th>\n",
       "      <td>12</td>\n",
       "      <td>70</td>\n",
       "    </tr>\n",
       "    <tr>\n",
       "      <th>10</th>\n",
       "      <td>13</td>\n",
       "      <td>75</td>\n",
       "    </tr>\n",
       "    <tr>\n",
       "      <th>11</th>\n",
       "      <td>14</td>\n",
       "      <td>76</td>\n",
       "    </tr>\n",
       "    <tr>\n",
       "      <th>12</th>\n",
       "      <td>15</td>\n",
       "      <td>78</td>\n",
       "    </tr>\n",
       "    <tr>\n",
       "      <th>13</th>\n",
       "      <td>16</td>\n",
       "      <td>79</td>\n",
       "    </tr>\n",
       "    <tr>\n",
       "      <th>14</th>\n",
       "      <td>18</td>\n",
       "      <td>90</td>\n",
       "    </tr>\n",
       "    <tr>\n",
       "      <th>15</th>\n",
       "      <td>19</td>\n",
       "      <td>99</td>\n",
       "    </tr>\n",
       "    <tr>\n",
       "      <th>16</th>\n",
       "      <td>21</td>\n",
       "      <td>99</td>\n",
       "    </tr>\n",
       "    <tr>\n",
       "      <th>17</th>\n",
       "      <td>22</td>\n",
       "      <td>100</td>\n",
       "    </tr>\n",
       "  </tbody>\n",
       "</table>\n",
       "</div>"
      ],
      "text/plain": [
       "    Time  Speed\n",
       "0      1    100\n",
       "1      2     90\n",
       "2      3     80\n",
       "3      5     60\n",
       "4      6     60\n",
       "5      7     55\n",
       "6      8     60\n",
       "7      9     65\n",
       "8     10     70\n",
       "9     12     70\n",
       "10    13     75\n",
       "11    14     76\n",
       "12    15     78\n",
       "13    16     79\n",
       "14    18     90\n",
       "15    19     99\n",
       "16    21     99\n",
       "17    22    100"
      ]
     },
     "execution_count": 23,
     "metadata": {},
     "output_type": "execute_result"
    }
   ],
   "source": [
    "df = pd.concat([s1, s2], axis = 1)\n",
    "df"
   ]
  },
  {
   "cell_type": "code",
   "execution_count": 24,
   "id": "c3e0e488",
   "metadata": {},
   "outputs": [],
   "source": [
    "from sklearn.preprocessing import PolynomialFeatures"
   ]
  },
  {
   "cell_type": "code",
   "execution_count": 25,
   "id": "ef7ce110",
   "metadata": {},
   "outputs": [],
   "source": [
    "#Bydefault it takes degree 2\n",
    "pf =PolynomialFeatures()"
   ]
  },
  {
   "cell_type": "markdown",
   "id": "7129f449",
   "metadata": {},
   "source": [
    "- Below method is a combination of two methods - 1. fit and 2. transform\n",
    "- We can separatly use above method or use as below"
   ]
  },
  {
   "cell_type": "code",
   "execution_count": 28,
   "id": "9a2ebccc",
   "metadata": {},
   "outputs": [
    {
     "data": {
      "text/plain": [
       "array([[  1.,   1.,   1.],\n",
       "       [  1.,   2.,   4.],\n",
       "       [  1.,   3.,   9.],\n",
       "       [  1.,   5.,  25.],\n",
       "       [  1.,   6.,  36.],\n",
       "       [  1.,   7.,  49.],\n",
       "       [  1.,   8.,  64.],\n",
       "       [  1.,   9.,  81.],\n",
       "       [  1.,  10., 100.],\n",
       "       [  1.,  12., 144.],\n",
       "       [  1.,  13., 169.],\n",
       "       [  1.,  14., 196.],\n",
       "       [  1.,  15., 225.],\n",
       "       [  1.,  16., 256.],\n",
       "       [  1.,  18., 324.],\n",
       "       [  1.,  19., 361.],\n",
       "       [  1.,  21., 441.],\n",
       "       [  1.,  22., 484.]])"
      ]
     },
     "execution_count": 28,
     "metadata": {},
     "output_type": "execute_result"
    }
   ],
   "source": [
    "x1 = pf.fit_transform(df[['Time']])\n",
    "x1"
   ]
  },
  {
   "cell_type": "code",
   "execution_count": 29,
   "id": "b569103d",
   "metadata": {},
   "outputs": [],
   "source": [
    "from sklearn.linear_model import LinearRegression"
   ]
  },
  {
   "cell_type": "code",
   "execution_count": 30,
   "id": "971b9c53",
   "metadata": {},
   "outputs": [],
   "source": [
    "model = LinearRegression()"
   ]
  },
  {
   "cell_type": "code",
   "execution_count": 32,
   "id": "67213e47",
   "metadata": {},
   "outputs": [
    {
     "data": {
      "text/plain": [
       "LinearRegression()"
      ]
     },
     "execution_count": 32,
     "metadata": {},
     "output_type": "execute_result"
    }
   ],
   "source": [
    "model.fit(x1, df.Speed)"
   ]
  },
  {
   "cell_type": "code",
   "execution_count": 35,
   "id": "d241719a",
   "metadata": {},
   "outputs": [
    {
     "data": {
      "text/plain": [
       "array([ 0.        , -5.85858457,  0.300185  ])"
      ]
     },
     "execution_count": 35,
     "metadata": {},
     "output_type": "execute_result"
    }
   ],
   "source": [
    "coef = model.coef_\n",
    "coef"
   ]
  },
  {
   "cell_type": "code",
   "execution_count": 36,
   "id": "517c9096",
   "metadata": {},
   "outputs": [
    {
     "data": {
      "text/plain": [
       "94.01812448440045"
      ]
     },
     "execution_count": 36,
     "metadata": {},
     "output_type": "execute_result"
    }
   ],
   "source": [
    "intercept = model.intercept_\n",
    "intercept"
   ]
  },
  {
   "cell_type": "code",
   "execution_count": 39,
   "id": "c3f4dd7c",
   "metadata": {},
   "outputs": [
    {
     "data": {
      "text/plain": [
       "array([ 1,  2,  3,  5,  6,  7,  8,  9, 10, 12, 13, 14, 15, 16, 18, 19, 21,\n",
       "       22])"
      ]
     },
     "execution_count": 39,
     "metadata": {},
     "output_type": "execute_result"
    }
   ],
   "source": [
    "x = np.array(x)\n",
    "x"
   ]
  },
  {
   "cell_type": "code",
   "execution_count": 37,
   "id": "fd997a02",
   "metadata": {},
   "outputs": [
    {
     "data": {
      "text/plain": [
       "array([ 1.        ,  1.21212121,  1.42424242,  1.63636364,  1.84848485,\n",
       "        2.06060606,  2.27272727,  2.48484848,  2.6969697 ,  2.90909091,\n",
       "        3.12121212,  3.33333333,  3.54545455,  3.75757576,  3.96969697,\n",
       "        4.18181818,  4.39393939,  4.60606061,  4.81818182,  5.03030303,\n",
       "        5.24242424,  5.45454545,  5.66666667,  5.87878788,  6.09090909,\n",
       "        6.3030303 ,  6.51515152,  6.72727273,  6.93939394,  7.15151515,\n",
       "        7.36363636,  7.57575758,  7.78787879,  8.        ,  8.21212121,\n",
       "        8.42424242,  8.63636364,  8.84848485,  9.06060606,  9.27272727,\n",
       "        9.48484848,  9.6969697 ,  9.90909091, 10.12121212, 10.33333333,\n",
       "       10.54545455, 10.75757576, 10.96969697, 11.18181818, 11.39393939,\n",
       "       11.60606061, 11.81818182, 12.03030303, 12.24242424, 12.45454545,\n",
       "       12.66666667, 12.87878788, 13.09090909, 13.3030303 , 13.51515152,\n",
       "       13.72727273, 13.93939394, 14.15151515, 14.36363636, 14.57575758,\n",
       "       14.78787879, 15.        , 15.21212121, 15.42424242, 15.63636364,\n",
       "       15.84848485, 16.06060606, 16.27272727, 16.48484848, 16.6969697 ,\n",
       "       16.90909091, 17.12121212, 17.33333333, 17.54545455, 17.75757576,\n",
       "       17.96969697, 18.18181818, 18.39393939, 18.60606061, 18.81818182,\n",
       "       19.03030303, 19.24242424, 19.45454545, 19.66666667, 19.87878788,\n",
       "       20.09090909, 20.3030303 , 20.51515152, 20.72727273, 20.93939394,\n",
       "       21.15151515, 21.36363636, 21.57575758, 21.78787879, 22.        ])"
      ]
     },
     "execution_count": 37,
     "metadata": {},
     "output_type": "execute_result"
    }
   ],
   "source": [
    "line = np.linspace(1,22,100)\n",
    "line"
   ]
  },
  {
   "cell_type": "markdown",
   "id": "4547de66",
   "metadata": {},
   "source": [
    "- Now we apply with the help of our formula"
   ]
  },
  {
   "cell_type": "code",
   "execution_count": 40,
   "id": "b2299fe6",
   "metadata": {},
   "outputs": [
    {
     "data": {
      "text/plain": [
       "array([ 88.45972491,  87.357853  ,  86.28299499,  85.23515088,\n",
       "        84.21432065,  83.22050432,  82.25370189,  81.31391334,\n",
       "        80.40113869,  79.51537794,  78.65663107,  77.8248981 ,\n",
       "        77.02017903,  76.24247384,  75.49178255,  74.76810515,\n",
       "        74.07144165,  73.40179204,  72.75915632,  72.1435345 ,\n",
       "        71.55492657,  70.99333253,  70.45875238,  69.95118613,\n",
       "        69.47063378,  69.01709531,  68.59057074,  68.19106006,\n",
       "        67.81856328,  67.47308039,  67.15461139,  66.86315628,\n",
       "        66.59871507,  66.36128776,  66.15087433,  65.9674748 ,\n",
       "        65.81108916,  65.68171742,  65.57935956,  65.50401561,\n",
       "        65.45568554,  65.43436937,  65.44006709,  65.47277871,\n",
       "        65.53250421,  65.61924361,  65.73299691,  65.8737641 ,\n",
       "        66.04154518,  66.23634015,  66.45814902,  66.70697178,\n",
       "        66.98280844,  67.28565898,  67.61552343,  67.97240176,\n",
       "        68.35629399,  68.76720011,  69.20512012,  69.67005403,\n",
       "        70.16200183,  70.68096352,  71.22693911,  71.79992859,\n",
       "        72.39993197,  73.02694923,  73.68098039,  74.36202545,\n",
       "        75.07008439,  75.80515723,  76.56724397,  77.3563446 ,\n",
       "        78.17245912,  79.01558753,  79.88572984,  80.78288604,\n",
       "        81.70705613,  82.65824012,  83.636438  ,  84.64164977,\n",
       "        85.67387544,  86.733115  ,  87.81936845,  88.93263579,\n",
       "        90.07291703,  91.24021217,  92.43452119,  93.65584411,\n",
       "        94.90418093,  96.17953163,  97.48189623,  98.81127472,\n",
       "       100.16766711, 101.55107339, 102.96149356, 104.39892763,\n",
       "       105.86337559, 107.35483744, 108.87331318, 110.41880282])"
      ]
     },
     "execution_count": 40,
     "metadata": {},
     "output_type": "execute_result"
    }
   ],
   "source": [
    "y_predicted = intercept  + line*coef[1] + coef[2]*line**2\n",
    "y_predicted"
   ]
  },
  {
   "cell_type": "code",
   "execution_count": 41,
   "id": "06b025dc",
   "metadata": {},
   "outputs": [
    {
     "data": {
      "image/png": "[encoded data removed]",
      "text/plain": [
       "<Figure size 432x288 with 1 Axes>"
      ]
     },
     "metadata": {
      "needs_background": "light"
     },
     "output_type": "display_data"
    }
   ],
   "source": [
    "plt.scatter(x, y)\n",
    "plt.plot(line, y_predicted, color = 'r')\n",
    "plt.show()"
   ]
  },
  {
   "cell_type": "markdown",
   "id": "97e462d5",
   "metadata": {},
   "source": [
    "- To check our predicted value of y "
   ]
  },
  {
   "cell_type": "code",
   "execution_count": 43,
   "id": "74ba0cbb",
   "metadata": {},
   "outputs": [
    {
     "data": {
      "text/plain": [
       "array([ 88.45972491,  83.50169533,  79.14403574,  72.22982656,\n",
       "        69.67327696,  67.71709736,  66.36128776,  65.60584814,\n",
       "        65.45077853,  66.94174929,  68.58778966,  70.83420003,\n",
       "        73.68098039,  77.12813075,  85.82354146,  91.07180181,\n",
       "       103.36943249, 110.41880282])"
      ]
     },
     "execution_count": 43,
     "metadata": {},
     "output_type": "execute_result"
    }
   ],
   "source": [
    "y_pred = model.predict(x1)\n",
    "y_pred"
   ]
  },
  {
   "cell_type": "code",
   "execution_count": 44,
   "id": "28751230",
   "metadata": {},
   "outputs": [
    {
     "data": {
      "text/plain": [
       "0.7597771601895889"
      ]
     },
     "execution_count": 44,
     "metadata": {},
     "output_type": "execute_result"
    }
   ],
   "source": [
    "model.score(x1, df['Speed'])"
   ]
  }
 ],
 "metadata": {
  "kernelspec": {
   "display_name": "Python 3 (ipykernel)",
   "language": "python",
   "name": "python3"
  },
  "language_info": {
   "codemirror_mode": {
    "name": "ipython",
    "version": 3
   },
   "file_extension": ".py",
   "mimetype": "text/x-python",
   "name": "python",
   "nbconvert_exporter": "python",
   "pygments_lexer": "ipython3",
   "version": "3.9.12"
  }
 },
 "nbformat": 4,
 "nbformat_minor": 5
}
