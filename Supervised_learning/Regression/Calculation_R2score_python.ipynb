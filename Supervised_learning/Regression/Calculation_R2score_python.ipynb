{
 "cells": [
  {
   "cell_type": "markdown",
   "id": "483f8b15",
   "metadata": {},
   "source": [
    "# R2 Score"
   ]
  },
  {
   "cell_type": "code",
   "execution_count": 5,
   "id": "4741367d",
   "metadata": {},
   "outputs": [
    {
     "name": "stdout",
     "output_type": "stream",
     "text": [
      "\n",
      "R2 Score of our data is :  0.541790618336887\n"
     ]
    }
   ],
   "source": [
    "import numpy as np\n",
    "try:\n",
    "    x = np.array([6, 16, 26, 36, 46, 56])\n",
    "    y = np.array([4, 23, 10, 12, 22, 35])\n",
    "    predict_y = [ 6.66, 11.06, 15.46, 19.86, 24.26, 28.66]\n",
    "    \n",
    "    def r2_score(true_y, predicted_y):\n",
    "        \"This function return the mean Square error\"\n",
    "        try:\n",
    "            #Calculating sum squared regression\n",
    "            ssr = (true_y - predicted_y)**2\n",
    "            sum_ssr = np.sum(ssr)\n",
    "            \n",
    "            #Calculating total sum of squares\n",
    "            sst = (true_y - np.mean(true_y))**2\n",
    "            sum_sst = np.sum(sst)\n",
    "            \n",
    "            #Calculating r2 score\n",
    "            score = 1 - (sum_ssr/sum_sst)\n",
    "            print(\"\\nR2 Score of our data is : \", score)\n",
    "        \n",
    "        except Exception as e:\n",
    "            print(e)\n",
    "            \n",
    "    r2_score(y, predict_y) \n",
    "    \n",
    "except Exception as e:\n",
    "    print(e)"
   ]
  }
 ],
 "metadata": {
  "kernelspec": {
   "display_name": "Python 3 (ipykernel)",
   "language": "python",
   "name": "python3"
  },
  "language_info": {
   "codemirror_mode": {
    "name": "ipython",
    "version": 3
   },
   "file_extension": ".py",
   "mimetype": "text/x-python",
   "name": "python",
   "nbconvert_exporter": "python",
   "pygments_lexer": "ipython3",
   "version": "3.9.12"
  }
 },
 "nbformat": 4,
 "nbformat_minor": 5
}
